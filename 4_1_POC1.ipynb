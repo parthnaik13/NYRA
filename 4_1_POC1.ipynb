{
  "nbformat": 4,
  "nbformat_minor": 0,
  "metadata": {
    "colab": {
      "provenance": [],
      "collapsed_sections": [],
      "toc_visible": true,
      "authorship_tag": "ABX9TyOdGyyFhp3XywmfZmCl4SrQ",
      "include_colab_link": true
    },
    "kernelspec": {
      "name": "python3",
      "display_name": "Python 3"
    },
    "language_info": {
      "name": "python"
    }
  },
  "cells": [
    {
      "cell_type": "markdown",
      "metadata": {
        "id": "view-in-github",
        "colab_type": "text"
      },
      "source": [
        "<a href=\"https://colab.research.google.com/github/parthnaik13/NYRA/blob/main/4_1_POC1.ipynb\" target=\"_parent\"><img src=\"https://colab.research.google.com/assets/colab-badge.svg\" alt=\"Open In Colab\"/></a>"
      ]
    },
    {
      "cell_type": "markdown",
      "source": [
        "# POC 1\n",
        "\n",
        "https://www.kaggle.com/competitions/big-data-derby-2022/overview\n",
        "\n",
        "A univariate view of the load managment line of research to be explored for the Big Data Derby competition\n"
      ],
      "metadata": {
        "id": "cb54r4DP8aBB"
      }
    },
    {
      "cell_type": "markdown",
      "source": [
        "Things to look at\n",
        "\n",
        "1. Can we see any correlation between avg speeds of horses in races and their finish positions?\n",
        "  * Is it appropriate to use avg race speeds as a horse performance criteria?\n",
        "\n",
        "2. Horse performance over the race season\n",
        "  * We are trying to see if there is a dip in the performance of horses in races as the race season progress (potentially due to the load the horse has to deal with due to the races it runs throughout the season), we use avg race speed as metric to gauge the performance of a horse\n",
        "  * Select races on \"Dirt\" tracks and track condition is \"FT\"\n",
        "  * Plot avg speeds for example horses across races from the start of the season to the end of the season (look at horses which have atleast 5 races per season)\n",
        "    * Do we see the plots having a -ve slope?\n",
        "    * Do we see differences between the slopes of the plots across different horses?\n",
        "\n"
      ],
      "metadata": {
        "id": "EgVCNZVV86LY"
      }
    },
    {
      "cell_type": "markdown",
      "source": [
        "## Setup\n",
        "\n",
        "* Mount google drive\n",
        "* Load necessary python libraries\n",
        "* Load the nyra_race_horse_speed.csv dataframe which contains race details for each horse along with its unique id, name, finish position and avg race speed, prepared in `3.1_Data_Prep.ipynb`"
      ],
      "metadata": {
        "id": "jO9mCYfLAKat"
      }
    },
    {
      "cell_type": "code",
      "source": [
        "# Mount google drive to access data files\n",
        "from google.colab import drive\n",
        "drive.mount('/content/drive')"
      ],
      "metadata": {
        "colab": {
          "base_uri": "https://localhost:8080/"
        },
        "id": "X5aaiuj5BAtu",
        "outputId": "f8ce90b7-91ae-4bdc-b0c7-a0626a306ce5"
      },
      "execution_count": 1,
      "outputs": [
        {
          "output_type": "stream",
          "name": "stdout",
          "text": [
            "Mounted at /content/drive\n"
          ]
        }
      ]
    },
    {
      "cell_type": "code",
      "source": [
        "# Import necessary libs and print out their versions\n",
        "import numpy as np\n",
        "np.random.seed(7)\n",
        "\n",
        "import pandas as pd\n",
        "pd.set_option('display.max_columns', None) # Display all dataframe columns\n",
        "\n",
        "import matplotlib\n",
        "import matplotlib.pyplot as plt\n",
        "\n",
        "print(f'numpy version - {np.__version__}')\n",
        "print(f'pandas version - {pd.__version__}')\n",
        "print(f'matplotlib version - {matplotlib.__version__}')"
      ],
      "metadata": {
        "colab": {
          "base_uri": "https://localhost:8080/"
        },
        "id": "Ymy1NJLsBeFC",
        "outputId": "1b5e1d04-7f8f-451c-f723-f7713c1525e7"
      },
      "execution_count": 2,
      "outputs": [
        {
          "output_type": "stream",
          "name": "stdout",
          "text": [
            "numpy version - 1.21.6\n",
            "pandas version - 1.3.5\n",
            "matplotlib version - 3.2.2\n"
          ]
        }
      ]
    },
    {
      "cell_type": "code",
      "source": [
        "# Load the nyra_race_horse_speed dataframe from drive\n",
        "nyra_df = pd.read_csv('/content/drive/MyDrive/NYRA_Data/nyra_race_horse_speed.csv', index_col = 0)\n",
        "print(f'Shape of the df - {nyra_df.shape}')\n",
        "nyra_df.head(5)"
      ],
      "metadata": {
        "colab": {
          "base_uri": "https://localhost:8080/",
          "height": 461
        },
        "id": "VuklqereBqgf",
        "outputId": "74c286e3-09c4-4d68-d403-83ba10ad0a18"
      },
      "execution_count": 4,
      "outputs": [
        {
          "output_type": "stream",
          "name": "stdout",
          "text": [
            "Shape of the df - (15080, 18)\n"
          ]
        },
        {
          "output_type": "execute_result",
          "data": {
            "text/plain": [
              "  track_id   race_date  race_number program_number  distance_id course_type  \\\n",
              "0      AQU  2019-01-01            1              3          650           D   \n",
              "1      AQU  2019-01-01            1              4          650           D   \n",
              "2      AQU  2019-01-01            1              5          650           D   \n",
              "3      AQU  2019-01-01            1              1          650           D   \n",
              "4      AQU  2019-01-01            1              2          650           D   \n",
              "\n",
              "  track_condition  run_up_distance race_type  purse            post_time  \\\n",
              "0             MY                36       AOC  80000  1900-01-01 12:20:00   \n",
              "1             MY                36       AOC  80000  1900-01-01 12:20:00   \n",
              "2             MY                36       AOC  80000  1900-01-01 12:20:00   \n",
              "3             MY                36       AOC  80000  1900-01-01 12:20:00   \n",
              "4             MY                36       AOC  80000  1900-01-01 12:20:00   \n",
              "\n",
              "   weight_carried           jockey  odds  horse_id  finishing_place  \\\n",
              "0             118     Jose Lezcano   180         3                4   \n",
              "1             123     Jomar Garcia  1280         4                5   \n",
              "2             118    Manuel Franco  1150         0                1   \n",
              "3             123      Dylan Davis   130         1                2   \n",
              "4             120  Junior Alvarado   295         2                3   \n",
              "\n",
              "           horse_name  avg_race_speed  \n",
              "0   Friend of Liberty       40.323190  \n",
              "1        Bobby's Song       40.437696  \n",
              "2  Jc's Shooting Star       41.286390  \n",
              "3    Sounds Delicious       40.898308  \n",
              "4       Crimson Frost       40.441267  "
            ],
            "text/html": [
              "\n",
              "  <div id=\"df-0af9d867-a97c-4b30-b083-3875aae6efff\">\n",
              "    <div class=\"colab-df-container\">\n",
              "      <div>\n",
              "<style scoped>\n",
              "    .dataframe tbody tr th:only-of-type {\n",
              "        vertical-align: middle;\n",
              "    }\n",
              "\n",
              "    .dataframe tbody tr th {\n",
              "        vertical-align: top;\n",
              "    }\n",
              "\n",
              "    .dataframe thead th {\n",
              "        text-align: right;\n",
              "    }\n",
              "</style>\n",
              "<table border=\"1\" class=\"dataframe\">\n",
              "  <thead>\n",
              "    <tr style=\"text-align: right;\">\n",
              "      <th></th>\n",
              "      <th>track_id</th>\n",
              "      <th>race_date</th>\n",
              "      <th>race_number</th>\n",
              "      <th>program_number</th>\n",
              "      <th>distance_id</th>\n",
              "      <th>course_type</th>\n",
              "      <th>track_condition</th>\n",
              "      <th>run_up_distance</th>\n",
              "      <th>race_type</th>\n",
              "      <th>purse</th>\n",
              "      <th>post_time</th>\n",
              "      <th>weight_carried</th>\n",
              "      <th>jockey</th>\n",
              "      <th>odds</th>\n",
              "      <th>horse_id</th>\n",
              "      <th>finishing_place</th>\n",
              "      <th>horse_name</th>\n",
              "      <th>avg_race_speed</th>\n",
              "    </tr>\n",
              "  </thead>\n",
              "  <tbody>\n",
              "    <tr>\n",
              "      <th>0</th>\n",
              "      <td>AQU</td>\n",
              "      <td>2019-01-01</td>\n",
              "      <td>1</td>\n",
              "      <td>3</td>\n",
              "      <td>650</td>\n",
              "      <td>D</td>\n",
              "      <td>MY</td>\n",
              "      <td>36</td>\n",
              "      <td>AOC</td>\n",
              "      <td>80000</td>\n",
              "      <td>1900-01-01 12:20:00</td>\n",
              "      <td>118</td>\n",
              "      <td>Jose Lezcano</td>\n",
              "      <td>180</td>\n",
              "      <td>3</td>\n",
              "      <td>4</td>\n",
              "      <td>Friend of Liberty</td>\n",
              "      <td>40.323190</td>\n",
              "    </tr>\n",
              "    <tr>\n",
              "      <th>1</th>\n",
              "      <td>AQU</td>\n",
              "      <td>2019-01-01</td>\n",
              "      <td>1</td>\n",
              "      <td>4</td>\n",
              "      <td>650</td>\n",
              "      <td>D</td>\n",
              "      <td>MY</td>\n",
              "      <td>36</td>\n",
              "      <td>AOC</td>\n",
              "      <td>80000</td>\n",
              "      <td>1900-01-01 12:20:00</td>\n",
              "      <td>123</td>\n",
              "      <td>Jomar Garcia</td>\n",
              "      <td>1280</td>\n",
              "      <td>4</td>\n",
              "      <td>5</td>\n",
              "      <td>Bobby's Song</td>\n",
              "      <td>40.437696</td>\n",
              "    </tr>\n",
              "    <tr>\n",
              "      <th>2</th>\n",
              "      <td>AQU</td>\n",
              "      <td>2019-01-01</td>\n",
              "      <td>1</td>\n",
              "      <td>5</td>\n",
              "      <td>650</td>\n",
              "      <td>D</td>\n",
              "      <td>MY</td>\n",
              "      <td>36</td>\n",
              "      <td>AOC</td>\n",
              "      <td>80000</td>\n",
              "      <td>1900-01-01 12:20:00</td>\n",
              "      <td>118</td>\n",
              "      <td>Manuel Franco</td>\n",
              "      <td>1150</td>\n",
              "      <td>0</td>\n",
              "      <td>1</td>\n",
              "      <td>Jc's Shooting Star</td>\n",
              "      <td>41.286390</td>\n",
              "    </tr>\n",
              "    <tr>\n",
              "      <th>3</th>\n",
              "      <td>AQU</td>\n",
              "      <td>2019-01-01</td>\n",
              "      <td>1</td>\n",
              "      <td>1</td>\n",
              "      <td>650</td>\n",
              "      <td>D</td>\n",
              "      <td>MY</td>\n",
              "      <td>36</td>\n",
              "      <td>AOC</td>\n",
              "      <td>80000</td>\n",
              "      <td>1900-01-01 12:20:00</td>\n",
              "      <td>123</td>\n",
              "      <td>Dylan Davis</td>\n",
              "      <td>130</td>\n",
              "      <td>1</td>\n",
              "      <td>2</td>\n",
              "      <td>Sounds Delicious</td>\n",
              "      <td>40.898308</td>\n",
              "    </tr>\n",
              "    <tr>\n",
              "      <th>4</th>\n",
              "      <td>AQU</td>\n",
              "      <td>2019-01-01</td>\n",
              "      <td>1</td>\n",
              "      <td>2</td>\n",
              "      <td>650</td>\n",
              "      <td>D</td>\n",
              "      <td>MY</td>\n",
              "      <td>36</td>\n",
              "      <td>AOC</td>\n",
              "      <td>80000</td>\n",
              "      <td>1900-01-01 12:20:00</td>\n",
              "      <td>120</td>\n",
              "      <td>Junior Alvarado</td>\n",
              "      <td>295</td>\n",
              "      <td>2</td>\n",
              "      <td>3</td>\n",
              "      <td>Crimson Frost</td>\n",
              "      <td>40.441267</td>\n",
              "    </tr>\n",
              "  </tbody>\n",
              "</table>\n",
              "</div>\n",
              "      <button class=\"colab-df-convert\" onclick=\"convertToInteractive('df-0af9d867-a97c-4b30-b083-3875aae6efff')\"\n",
              "              title=\"Convert this dataframe to an interactive table.\"\n",
              "              style=\"display:none;\">\n",
              "        \n",
              "  <svg xmlns=\"http://www.w3.org/2000/svg\" height=\"24px\"viewBox=\"0 0 24 24\"\n",
              "       width=\"24px\">\n",
              "    <path d=\"M0 0h24v24H0V0z\" fill=\"none\"/>\n",
              "    <path d=\"M18.56 5.44l.94 2.06.94-2.06 2.06-.94-2.06-.94-.94-2.06-.94 2.06-2.06.94zm-11 1L8.5 8.5l.94-2.06 2.06-.94-2.06-.94L8.5 2.5l-.94 2.06-2.06.94zm10 10l.94 2.06.94-2.06 2.06-.94-2.06-.94-.94-2.06-.94 2.06-2.06.94z\"/><path d=\"M17.41 7.96l-1.37-1.37c-.4-.4-.92-.59-1.43-.59-.52 0-1.04.2-1.43.59L10.3 9.45l-7.72 7.72c-.78.78-.78 2.05 0 2.83L4 21.41c.39.39.9.59 1.41.59.51 0 1.02-.2 1.41-.59l7.78-7.78 2.81-2.81c.8-.78.8-2.07 0-2.86zM5.41 20L4 18.59l7.72-7.72 1.47 1.35L5.41 20z\"/>\n",
              "  </svg>\n",
              "      </button>\n",
              "      \n",
              "  <style>\n",
              "    .colab-df-container {\n",
              "      display:flex;\n",
              "      flex-wrap:wrap;\n",
              "      gap: 12px;\n",
              "    }\n",
              "\n",
              "    .colab-df-convert {\n",
              "      background-color: #E8F0FE;\n",
              "      border: none;\n",
              "      border-radius: 50%;\n",
              "      cursor: pointer;\n",
              "      display: none;\n",
              "      fill: #1967D2;\n",
              "      height: 32px;\n",
              "      padding: 0 0 0 0;\n",
              "      width: 32px;\n",
              "    }\n",
              "\n",
              "    .colab-df-convert:hover {\n",
              "      background-color: #E2EBFA;\n",
              "      box-shadow: 0px 1px 2px rgba(60, 64, 67, 0.3), 0px 1px 3px 1px rgba(60, 64, 67, 0.15);\n",
              "      fill: #174EA6;\n",
              "    }\n",
              "\n",
              "    [theme=dark] .colab-df-convert {\n",
              "      background-color: #3B4455;\n",
              "      fill: #D2E3FC;\n",
              "    }\n",
              "\n",
              "    [theme=dark] .colab-df-convert:hover {\n",
              "      background-color: #434B5C;\n",
              "      box-shadow: 0px 1px 3px 1px rgba(0, 0, 0, 0.15);\n",
              "      filter: drop-shadow(0px 1px 2px rgba(0, 0, 0, 0.3));\n",
              "      fill: #FFFFFF;\n",
              "    }\n",
              "  </style>\n",
              "\n",
              "      <script>\n",
              "        const buttonEl =\n",
              "          document.querySelector('#df-0af9d867-a97c-4b30-b083-3875aae6efff button.colab-df-convert');\n",
              "        buttonEl.style.display =\n",
              "          google.colab.kernel.accessAllowed ? 'block' : 'none';\n",
              "\n",
              "        async function convertToInteractive(key) {\n",
              "          const element = document.querySelector('#df-0af9d867-a97c-4b30-b083-3875aae6efff');\n",
              "          const dataTable =\n",
              "            await google.colab.kernel.invokeFunction('convertToInteractive',\n",
              "                                                     [key], {});\n",
              "          if (!dataTable) return;\n",
              "\n",
              "          const docLinkHtml = 'Like what you see? Visit the ' +\n",
              "            '<a target=\"_blank\" href=https://colab.research.google.com/notebooks/data_table.ipynb>data table notebook</a>'\n",
              "            + ' to learn more about interactive tables.';\n",
              "          element.innerHTML = '';\n",
              "          dataTable['output_type'] = 'display_data';\n",
              "          await google.colab.output.renderOutput(dataTable, element);\n",
              "          const docLink = document.createElement('div');\n",
              "          docLink.innerHTML = docLinkHtml;\n",
              "          element.appendChild(docLink);\n",
              "        }\n",
              "      </script>\n",
              "    </div>\n",
              "  </div>\n",
              "  "
            ]
          },
          "metadata": {},
          "execution_count": 4
        }
      ]
    },
    {
      "cell_type": "code",
      "source": [
        "# Assign proper dtypes wherever needed\n",
        "# race_date as datetime col\n",
        "nyra_df['race_date'] = pd.to_datetime(nyra_df['race_date'])\n",
        "# race_number as a int/numeric col\n",
        "nyra_df['race_number'] = pd.to_numeric(nyra_df['race_number'])\n",
        "# post_time as a datetime col\n",
        "nyra_df['post_time'] = pd.to_datetime(nyra_df['post_time'])"
      ],
      "metadata": {
        "id": "x6G8UVAoCQTh"
      },
      "execution_count": 6,
      "outputs": []
    },
    {
      "cell_type": "markdown",
      "source": [
        "## Avg race speeds vs finish positions"
      ],
      "metadata": {
        "id": "AGeAiEPUCeCN"
      }
    },
    {
      "cell_type": "code",
      "source": [
        "# Get the rank for each horse for a race using the avg_race_speed\n",
        "# The fastest horse will have a speed_rank of 1, the second fastest will have a speed_rank of 2\n",
        "nyra_df['speed_rank'] = nyra_df.groupby(['track_id', 'race_date', 'race_number'])['avg_race_speed'].rank(method = 'dense', ascending = False)\n",
        "nyra_df.loc[:, ['track_id', 'race_date', 'race_number', 'horse_id', 'finishing_place', 'speed_rank']].head(5)"
      ],
      "metadata": {
        "colab": {
          "base_uri": "https://localhost:8080/",
          "height": 206
        },
        "id": "o_8UklhCDOFA",
        "outputId": "b48860c1-3566-4031-ed82-4314269e0afb"
      },
      "execution_count": 12,
      "outputs": [
        {
          "output_type": "execute_result",
          "data": {
            "text/plain": [
              "  track_id  race_date  race_number  horse_id  finishing_place  speed_rank\n",
              "0      AQU 2019-01-01            1         3                4         5.0\n",
              "1      AQU 2019-01-01            1         4                5         4.0\n",
              "2      AQU 2019-01-01            1         0                1         1.0\n",
              "3      AQU 2019-01-01            1         1                2         2.0\n",
              "4      AQU 2019-01-01            1         2                3         3.0"
            ],
            "text/html": [
              "\n",
              "  <div id=\"df-43520328-1c6d-47ab-8a3a-768323f14bfa\">\n",
              "    <div class=\"colab-df-container\">\n",
              "      <div>\n",
              "<style scoped>\n",
              "    .dataframe tbody tr th:only-of-type {\n",
              "        vertical-align: middle;\n",
              "    }\n",
              "\n",
              "    .dataframe tbody tr th {\n",
              "        vertical-align: top;\n",
              "    }\n",
              "\n",
              "    .dataframe thead th {\n",
              "        text-align: right;\n",
              "    }\n",
              "</style>\n",
              "<table border=\"1\" class=\"dataframe\">\n",
              "  <thead>\n",
              "    <tr style=\"text-align: right;\">\n",
              "      <th></th>\n",
              "      <th>track_id</th>\n",
              "      <th>race_date</th>\n",
              "      <th>race_number</th>\n",
              "      <th>horse_id</th>\n",
              "      <th>finishing_place</th>\n",
              "      <th>speed_rank</th>\n",
              "    </tr>\n",
              "  </thead>\n",
              "  <tbody>\n",
              "    <tr>\n",
              "      <th>0</th>\n",
              "      <td>AQU</td>\n",
              "      <td>2019-01-01</td>\n",
              "      <td>1</td>\n",
              "      <td>3</td>\n",
              "      <td>4</td>\n",
              "      <td>5.0</td>\n",
              "    </tr>\n",
              "    <tr>\n",
              "      <th>1</th>\n",
              "      <td>AQU</td>\n",
              "      <td>2019-01-01</td>\n",
              "      <td>1</td>\n",
              "      <td>4</td>\n",
              "      <td>5</td>\n",
              "      <td>4.0</td>\n",
              "    </tr>\n",
              "    <tr>\n",
              "      <th>2</th>\n",
              "      <td>AQU</td>\n",
              "      <td>2019-01-01</td>\n",
              "      <td>1</td>\n",
              "      <td>0</td>\n",
              "      <td>1</td>\n",
              "      <td>1.0</td>\n",
              "    </tr>\n",
              "    <tr>\n",
              "      <th>3</th>\n",
              "      <td>AQU</td>\n",
              "      <td>2019-01-01</td>\n",
              "      <td>1</td>\n",
              "      <td>1</td>\n",
              "      <td>2</td>\n",
              "      <td>2.0</td>\n",
              "    </tr>\n",
              "    <tr>\n",
              "      <th>4</th>\n",
              "      <td>AQU</td>\n",
              "      <td>2019-01-01</td>\n",
              "      <td>1</td>\n",
              "      <td>2</td>\n",
              "      <td>3</td>\n",
              "      <td>3.0</td>\n",
              "    </tr>\n",
              "  </tbody>\n",
              "</table>\n",
              "</div>\n",
              "      <button class=\"colab-df-convert\" onclick=\"convertToInteractive('df-43520328-1c6d-47ab-8a3a-768323f14bfa')\"\n",
              "              title=\"Convert this dataframe to an interactive table.\"\n",
              "              style=\"display:none;\">\n",
              "        \n",
              "  <svg xmlns=\"http://www.w3.org/2000/svg\" height=\"24px\"viewBox=\"0 0 24 24\"\n",
              "       width=\"24px\">\n",
              "    <path d=\"M0 0h24v24H0V0z\" fill=\"none\"/>\n",
              "    <path d=\"M18.56 5.44l.94 2.06.94-2.06 2.06-.94-2.06-.94-.94-2.06-.94 2.06-2.06.94zm-11 1L8.5 8.5l.94-2.06 2.06-.94-2.06-.94L8.5 2.5l-.94 2.06-2.06.94zm10 10l.94 2.06.94-2.06 2.06-.94-2.06-.94-.94-2.06-.94 2.06-2.06.94z\"/><path d=\"M17.41 7.96l-1.37-1.37c-.4-.4-.92-.59-1.43-.59-.52 0-1.04.2-1.43.59L10.3 9.45l-7.72 7.72c-.78.78-.78 2.05 0 2.83L4 21.41c.39.39.9.59 1.41.59.51 0 1.02-.2 1.41-.59l7.78-7.78 2.81-2.81c.8-.78.8-2.07 0-2.86zM5.41 20L4 18.59l7.72-7.72 1.47 1.35L5.41 20z\"/>\n",
              "  </svg>\n",
              "      </button>\n",
              "      \n",
              "  <style>\n",
              "    .colab-df-container {\n",
              "      display:flex;\n",
              "      flex-wrap:wrap;\n",
              "      gap: 12px;\n",
              "    }\n",
              "\n",
              "    .colab-df-convert {\n",
              "      background-color: #E8F0FE;\n",
              "      border: none;\n",
              "      border-radius: 50%;\n",
              "      cursor: pointer;\n",
              "      display: none;\n",
              "      fill: #1967D2;\n",
              "      height: 32px;\n",
              "      padding: 0 0 0 0;\n",
              "      width: 32px;\n",
              "    }\n",
              "\n",
              "    .colab-df-convert:hover {\n",
              "      background-color: #E2EBFA;\n",
              "      box-shadow: 0px 1px 2px rgba(60, 64, 67, 0.3), 0px 1px 3px 1px rgba(60, 64, 67, 0.15);\n",
              "      fill: #174EA6;\n",
              "    }\n",
              "\n",
              "    [theme=dark] .colab-df-convert {\n",
              "      background-color: #3B4455;\n",
              "      fill: #D2E3FC;\n",
              "    }\n",
              "\n",
              "    [theme=dark] .colab-df-convert:hover {\n",
              "      background-color: #434B5C;\n",
              "      box-shadow: 0px 1px 3px 1px rgba(0, 0, 0, 0.15);\n",
              "      filter: drop-shadow(0px 1px 2px rgba(0, 0, 0, 0.3));\n",
              "      fill: #FFFFFF;\n",
              "    }\n",
              "  </style>\n",
              "\n",
              "      <script>\n",
              "        const buttonEl =\n",
              "          document.querySelector('#df-43520328-1c6d-47ab-8a3a-768323f14bfa button.colab-df-convert');\n",
              "        buttonEl.style.display =\n",
              "          google.colab.kernel.accessAllowed ? 'block' : 'none';\n",
              "\n",
              "        async function convertToInteractive(key) {\n",
              "          const element = document.querySelector('#df-43520328-1c6d-47ab-8a3a-768323f14bfa');\n",
              "          const dataTable =\n",
              "            await google.colab.kernel.invokeFunction('convertToInteractive',\n",
              "                                                     [key], {});\n",
              "          if (!dataTable) return;\n",
              "\n",
              "          const docLinkHtml = 'Like what you see? Visit the ' +\n",
              "            '<a target=\"_blank\" href=https://colab.research.google.com/notebooks/data_table.ipynb>data table notebook</a>'\n",
              "            + ' to learn more about interactive tables.';\n",
              "          element.innerHTML = '';\n",
              "          dataTable['output_type'] = 'display_data';\n",
              "          await google.colab.output.renderOutput(dataTable, element);\n",
              "          const docLink = document.createElement('div');\n",
              "          docLink.innerHTML = docLinkHtml;\n",
              "          element.appendChild(docLink);\n",
              "        }\n",
              "      </script>\n",
              "    </div>\n",
              "  </div>\n",
              "  "
            ]
          },
          "metadata": {},
          "execution_count": 12
        }
      ]
    },
    {
      "cell_type": "code",
      "source": [
        "# Plot avg finishing_place vs speed_rank\n",
        "temp = nyra_df.groupby(['speed_rank']).agg({'finishing_place' : 'mean', 'horse_id' : 'count'}).reset_index()\n",
        "temp = temp.rename(columns = {'finishing_place' : 'avg_finishing_place', 'horse_id' : 'horse_counts'})\n",
        "\n",
        "# Init the figure and axes\n",
        "fig, ax1 = plt.subplots(constrained_layout=True, figsize = (10,6))\n",
        "ax2 = ax1.twinx()\n",
        "\n",
        "# Plot speed rank bins vs avg_finishing_place \n",
        "ax1.plot(temp['speed_rank'], temp['avg_finishing_place'], 'o-')\n",
        "ax1.set_xticks([i for i in range(15)])\n",
        "ax1.set_yticks([i for i in range(13)])\n",
        "ax1.set_ylabel('Average finishing place across speed rank bins')\n",
        "ax1.set_xlabel('Speed rank bins for horses')\n",
        "ax1.set_title('Avg finishing places vs speed rank bins for horses')\n",
        "\n",
        "# Plot speed rank bins vs horse counts\n",
        "ax2.bar(temp['speed_rank'], temp['horse_counts'], alpha = 0.2, color = 'orange')\n",
        "ax2.set_ylabel('Counts of horses in speed rank bins')\n",
        "\n",
        "plt.show()"
      ],
      "metadata": {
        "colab": {
          "base_uri": "https://localhost:8080/",
          "height": 457
        },
        "id": "fOLRoHa8EYdC",
        "outputId": "f078830a-f584-475b-b879-20c84c15c2b5"
      },
      "execution_count": 31,
      "outputs": [
        {
          "output_type": "display_data",
          "data": {
            "text/plain": [
              "<Figure size 720x432 with 2 Axes>"
            ],
            "image/png": "[encoded data removed]"
          },
          "metadata": {
            "needs_background": "light"
          }
        }
      ]
    },
    {
      "cell_type": "markdown",
      "source": [
        "* We definitely see a strong relationship between the speed ranks of horses vs their finishing places\n",
        "* Looks like the avg_race_speed can be a viable metric for horse performance, having a string correlation with finishing place and might be free of other race winning factors like jockey skill (speed management, race path selection, other racing strategies)"
      ],
      "metadata": {
        "id": "43yMOriwMmnj"
      }
    },
    {
      "cell_type": "code",
      "source": [],
      "metadata": {
        "id": "FPsp0MlBNRS4"
      },
      "execution_count": null,
      "outputs": []
    }
  ]
}