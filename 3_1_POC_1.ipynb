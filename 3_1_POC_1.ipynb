{
  "nbformat": 4,
  "nbformat_minor": 0,
  "metadata": {
    "colab": {
      "provenance": [],
      "collapsed_sections": [],
      "toc_visible": true,
      "authorship_tag": "ABX9TyMq13skjiiD+GFeqbe4Fd51",
      "include_colab_link": true
    },
    "kernelspec": {
      "name": "python3",
      "display_name": "Python 3"
    },
    "language_info": {
      "name": "python"
    }
  },
  "cells": [
    {
      "cell_type": "markdown",
      "metadata": {
        "id": "view-in-github",
        "colab_type": "text"
      },
      "source": [
        "<a href=\"https://colab.research.google.com/github/parthnaik13/NYRA/blob/main/3_1_POC_1.ipynb\" target=\"_parent\"><img src=\"https://colab.research.google.com/assets/colab-badge.svg\" alt=\"Open In Colab\"/></a>"
      ]
    },
    {
      "cell_type": "markdown",
      "source": [
        "# POC 1 for NYRA Analytics\n",
        "\n",
        "https://www.kaggle.com/competitions/big-data-derby-2022/overview\n",
        "\n",
        "This notebook aims to do some univariate exploration into the idea of assesing and quantifying the effects of load management on horse performance\n",
        "\n",
        "In this notebook, we attempt to look at horse performance in the form of average race speed across the horse racing season"
      ],
      "metadata": {
        "id": "2p6qbXZHjJbN"
      }
    },
    {
      "cell_type": "markdown",
      "source": [
        "## Plan\n",
        "\n",
        "* Load the NYRA complete data\n",
        "* Join this data with this [dataset](https://www.kaggle.com/datasets/themarkgreen/big-data-derby-2022-global-horse-ids-and-places) to obtain unique horse ids, horse names and finish positions for horses in races\n",
        "* Select races on \"Dirt\" tracks and track condition is \"FT\"\n",
        "* Extract avg speeds for the horse races using code found in this [notebook](https://www.kaggle.com/code/roniheka/obtain-time-course-of-speed-during-a-race)\n",
        "* Plot avg speeds for example horses across races from the start of the season to the end of the season\n",
        "  * Do we see the plots having a -ve slope?\n",
        "  * Do we see differences between the slopes of the plots across different horses?\n"
      ],
      "metadata": {
        "id": "4flhnG7hkI7q"
      }
    },
    {
      "cell_type": "markdown",
      "source": [
        "## Setup\n",
        "\n",
        "Load necessary libraries and datasets\n",
        "\n",
        "Assign appropriate dtypes to columns"
      ],
      "metadata": {
        "id": "Wa4XSifNkv8D"
      }
    },
    {
      "cell_type": "code",
      "source": [
        "# Mount google drive to access data files\n",
        "from google.colab import drive\n",
        "drive.mount('/content/drive')"
      ],
      "metadata": {
        "colab": {
          "base_uri": "https://localhost:8080/"
        },
        "id": "m7sh8XuElBcf",
        "outputId": "d89a4288-1fc8-43a7-a76a-5cdc847bfd69"
      },
      "execution_count": null,
      "outputs": [
        {
          "output_type": "stream",
          "name": "stdout",
          "text": [
            "Mounted at /content/drive\n"
          ]
        }
      ]
    },
    {
      "cell_type": "code",
      "source": [
        "# Import necessary libs and print out their versions\n",
        "import numpy as np\n",
        "np.random.seed(7)\n",
        "\n",
        "import pandas as pd\n",
        "pd.set_option('display.max_columns', None) # Display all dataframe columns\n",
        "\n",
        "import matplotlib\n",
        "import matplotlib.pyplot as plt\n",
        "\n",
        "print(f'numpy version - {np.__version__}')\n",
        "print(f'pandas version - {pd.__version__}')\n",
        "print(f'matplotlib version - {matplotlib.__version__}')"
      ],
      "metadata": {
        "colab": {
          "base_uri": "https://localhost:8080/"
        },
        "id": "o2BU2ECyk9k6",
        "outputId": "b7a05386-39ce-46d9-881b-1b2c2c9b005c"
      },
      "execution_count": null,
      "outputs": [
        {
          "output_type": "stream",
          "name": "stdout",
          "text": [
            "numpy version - 1.21.6\n",
            "pandas version - 1.3.5\n",
            "matplotlib version - 3.2.2\n"
          ]
        }
      ]
    },
    {
      "cell_type": "code",
      "source": [
        "# Load the NYRA complete dataset\n",
        "nyra_complete_df = pd.read_csv('/content/drive/MyDrive/NYRA_Data/nyra_2019_complete.csv')\n",
        "print(f'Shape of the df - {nyra_complete_df.shape}')\n",
        "nyra_complete_df.head(5)"
      ],
      "metadata": {
        "colab": {
          "base_uri": "https://localhost:8080/",
          "height": 496
        },
        "id": "nerdsVy6lAUY",
        "outputId": "2b68fb83-b389-4bdf-aa99-bf8b49c160c7"
      },
      "execution_count": null,
      "outputs": [
        {
          "output_type": "stream",
          "name": "stderr",
          "text": [
            "/usr/local/lib/python3.7/dist-packages/IPython/core/interactiveshell.py:3326: DtypeWarning: Columns (3) have mixed types.Specify dtype option on import or set low_memory=False.\n",
            "  exec(code_obj, self.user_global_ns, self.user_ns)\n"
          ]
        },
        {
          "output_type": "stream",
          "name": "stdout",
          "text": [
            "Shape of the df - (5228430, 17)\n"
          ]
        },
        {
          "output_type": "execute_result",
          "data": {
            "text/plain": [
              "  track_id   race_date  race_number program_number  trakus_index   latitude  \\\n",
              "0      AQU  2019-01-01            9            6              72  40.672902   \n",
              "1      AQU  2019-01-01            9            6              73  40.672946   \n",
              "2      AQU  2019-01-01            9            6              74  40.672990   \n",
              "3      AQU  2019-01-01            9            6              63  40.672510   \n",
              "4      AQU  2019-01-01            9            6              64  40.672553   \n",
              "\n",
              "   longitude  distance_id course_type track_condition  run_up_distance  \\\n",
              "0 -73.827607          600           D             GD                48   \n",
              "1 -73.827587          600           D             GD                48   \n",
              "2 -73.827568          600           D             GD                48   \n",
              "3 -73.827781          600           D             GD                48   \n",
              "4 -73.827762          600           D             GD                48   \n",
              "\n",
              "  race_type  purse  post_time  weight_carried                   jockey  odds  \n",
              "0       CLM  25000        420             120  Andre Shivnarine Worrie  2090  \n",
              "1       CLM  25000        420             120  Andre Shivnarine Worrie  2090  \n",
              "2       CLM  25000        420             120  Andre Shivnarine Worrie  2090  \n",
              "3       CLM  25000        420             120  Andre Shivnarine Worrie  2090  \n",
              "4       CLM  25000        420             120  Andre Shivnarine Worrie  2090  "
            ],
            "text/html": [
              "\n",
              "  <div id=\"df-b2418d35-ca16-4836-a3cc-fe45a4c1e521\">\n",
              "    <div class=\"colab-df-container\">\n",
              "      <div>\n",
              "<style scoped>\n",
              "    .dataframe tbody tr th:only-of-type {\n",
              "        vertical-align: middle;\n",
              "    }\n",
              "\n",
              "    .dataframe tbody tr th {\n",
              "        vertical-align: top;\n",
              "    }\n",
              "\n",
              "    .dataframe thead th {\n",
              "        text-align: right;\n",
              "    }\n",
              "</style>\n",
              "<table border=\"1\" class=\"dataframe\">\n",
              "  <thead>\n",
              "    <tr style=\"text-align: right;\">\n",
              "      <th></th>\n",
              "      <th>track_id</th>\n",
              "      <th>race_date</th>\n",
              "      <th>race_number</th>\n",
              "      <th>program_number</th>\n",
              "      <th>trakus_index</th>\n",
              "      <th>latitude</th>\n",
              "      <th>longitude</th>\n",
              "      <th>distance_id</th>\n",
              "      <th>course_type</th>\n",
              "      <th>track_condition</th>\n",
              "      <th>run_up_distance</th>\n",
              "      <th>race_type</th>\n",
              "      <th>purse</th>\n",
              "      <th>post_time</th>\n",
              "      <th>weight_carried</th>\n",
              "      <th>jockey</th>\n",
              "      <th>odds</th>\n",
              "    </tr>\n",
              "  </thead>\n",
              "  <tbody>\n",
              "    <tr>\n",
              "      <th>0</th>\n",
              "      <td>AQU</td>\n",
              "      <td>2019-01-01</td>\n",
              "      <td>9</td>\n",
              "      <td>6</td>\n",
              "      <td>72</td>\n",
              "      <td>40.672902</td>\n",
              "      <td>-73.827607</td>\n",
              "      <td>600</td>\n",
              "      <td>D</td>\n",
              "      <td>GD</td>\n",
              "      <td>48</td>\n",
              "      <td>CLM</td>\n",
              "      <td>25000</td>\n",
              "      <td>420</td>\n",
              "      <td>120</td>\n",
              "      <td>Andre Shivnarine Worrie</td>\n",
              "      <td>2090</td>\n",
              "    </tr>\n",
              "    <tr>\n",
              "      <th>1</th>\n",
              "      <td>AQU</td>\n",
              "      <td>2019-01-01</td>\n",
              "      <td>9</td>\n",
              "      <td>6</td>\n",
              "      <td>73</td>\n",
              "      <td>40.672946</td>\n",
              "      <td>-73.827587</td>\n",
              "      <td>600</td>\n",
              "      <td>D</td>\n",
              "      <td>GD</td>\n",
              "      <td>48</td>\n",
              "      <td>CLM</td>\n",
              "      <td>25000</td>\n",
              "      <td>420</td>\n",
              "      <td>120</td>\n",
              "      <td>Andre Shivnarine Worrie</td>\n",
              "      <td>2090</td>\n",
              "    </tr>\n",
              "    <tr>\n",
              "      <th>2</th>\n",
              "      <td>AQU</td>\n",
              "      <td>2019-01-01</td>\n",
              "      <td>9</td>\n",
              "      <td>6</td>\n",
              "      <td>74</td>\n",
              "      <td>40.672990</td>\n",
              "      <td>-73.827568</td>\n",
              "      <td>600</td>\n",
              "      <td>D</td>\n",
              "      <td>GD</td>\n",
              "      <td>48</td>\n",
              "      <td>CLM</td>\n",
              "      <td>25000</td>\n",
              "      <td>420</td>\n",
              "      <td>120</td>\n",
              "      <td>Andre Shivnarine Worrie</td>\n",
              "      <td>2090</td>\n",
              "    </tr>\n",
              "    <tr>\n",
              "      <th>3</th>\n",
              "      <td>AQU</td>\n",
              "      <td>2019-01-01</td>\n",
              "      <td>9</td>\n",
              "      <td>6</td>\n",
              "      <td>63</td>\n",
              "      <td>40.672510</td>\n",
              "      <td>-73.827781</td>\n",
              "      <td>600</td>\n",
              "      <td>D</td>\n",
              "      <td>GD</td>\n",
              "      <td>48</td>\n",
              "      <td>CLM</td>\n",
              "      <td>25000</td>\n",
              "      <td>420</td>\n",
              "      <td>120</td>\n",
              "      <td>Andre Shivnarine Worrie</td>\n",
              "      <td>2090</td>\n",
              "    </tr>\n",
              "    <tr>\n",
              "      <th>4</th>\n",
              "      <td>AQU</td>\n",
              "      <td>2019-01-01</td>\n",
              "      <td>9</td>\n",
              "      <td>6</td>\n",
              "      <td>64</td>\n",
              "      <td>40.672553</td>\n",
              "      <td>-73.827762</td>\n",
              "      <td>600</td>\n",
              "      <td>D</td>\n",
              "      <td>GD</td>\n",
              "      <td>48</td>\n",
              "      <td>CLM</td>\n",
              "      <td>25000</td>\n",
              "      <td>420</td>\n",
              "      <td>120</td>\n",
              "      <td>Andre Shivnarine Worrie</td>\n",
              "      <td>2090</td>\n",
              "    </tr>\n",
              "  </tbody>\n",
              "</table>\n",
              "</div>\n",
              "      <button class=\"colab-df-convert\" onclick=\"convertToInteractive('df-b2418d35-ca16-4836-a3cc-fe45a4c1e521')\"\n",
              "              title=\"Convert this dataframe to an interactive table.\"\n",
              "              style=\"display:none;\">\n",
              "        \n",
              "  <svg xmlns=\"http://www.w3.org/2000/svg\" height=\"24px\"viewBox=\"0 0 24 24\"\n",
              "       width=\"24px\">\n",
              "    <path d=\"M0 0h24v24H0V0z\" fill=\"none\"/>\n",
              "    <path d=\"M18.56 5.44l.94 2.06.94-2.06 2.06-.94-2.06-.94-.94-2.06-.94 2.06-2.06.94zm-11 1L8.5 8.5l.94-2.06 2.06-.94-2.06-.94L8.5 2.5l-.94 2.06-2.06.94zm10 10l.94 2.06.94-2.06 2.06-.94-2.06-.94-.94-2.06-.94 2.06-2.06.94z\"/><path d=\"M17.41 7.96l-1.37-1.37c-.4-.4-.92-.59-1.43-.59-.52 0-1.04.2-1.43.59L10.3 9.45l-7.72 7.72c-.78.78-.78 2.05 0 2.83L4 21.41c.39.39.9.59 1.41.59.51 0 1.02-.2 1.41-.59l7.78-7.78 2.81-2.81c.8-.78.8-2.07 0-2.86zM5.41 20L4 18.59l7.72-7.72 1.47 1.35L5.41 20z\"/>\n",
              "  </svg>\n",
              "      </button>\n",
              "      \n",
              "  <style>\n",
              "    .colab-df-container {\n",
              "      display:flex;\n",
              "      flex-wrap:wrap;\n",
              "      gap: 12px;\n",
              "    }\n",
              "\n",
              "    .colab-df-convert {\n",
              "      background-color: #E8F0FE;\n",
              "      border: none;\n",
              "      border-radius: 50%;\n",
              "      cursor: pointer;\n",
              "      display: none;\n",
              "      fill: #1967D2;\n",
              "      height: 32px;\n",
              "      padding: 0 0 0 0;\n",
              "      width: 32px;\n",
              "    }\n",
              "\n",
              "    .colab-df-convert:hover {\n",
              "      background-color: #E2EBFA;\n",
              "      box-shadow: 0px 1px 2px rgba(60, 64, 67, 0.3), 0px 1px 3px 1px rgba(60, 64, 67, 0.15);\n",
              "      fill: #174EA6;\n",
              "    }\n",
              "\n",
              "    [theme=dark] .colab-df-convert {\n",
              "      background-color: #3B4455;\n",
              "      fill: #D2E3FC;\n",
              "    }\n",
              "\n",
              "    [theme=dark] .colab-df-convert:hover {\n",
              "      background-color: #434B5C;\n",
              "      box-shadow: 0px 1px 3px 1px rgba(0, 0, 0, 0.15);\n",
              "      filter: drop-shadow(0px 1px 2px rgba(0, 0, 0, 0.3));\n",
              "      fill: #FFFFFF;\n",
              "    }\n",
              "  </style>\n",
              "\n",
              "      <script>\n",
              "        const buttonEl =\n",
              "          document.querySelector('#df-b2418d35-ca16-4836-a3cc-fe45a4c1e521 button.colab-df-convert');\n",
              "        buttonEl.style.display =\n",
              "          google.colab.kernel.accessAllowed ? 'block' : 'none';\n",
              "\n",
              "        async function convertToInteractive(key) {\n",
              "          const element = document.querySelector('#df-b2418d35-ca16-4836-a3cc-fe45a4c1e521');\n",
              "          const dataTable =\n",
              "            await google.colab.kernel.invokeFunction('convertToInteractive',\n",
              "                                                     [key], {});\n",
              "          if (!dataTable) return;\n",
              "\n",
              "          const docLinkHtml = 'Like what you see? Visit the ' +\n",
              "            '<a target=\"_blank\" href=https://colab.research.google.com/notebooks/data_table.ipynb>data table notebook</a>'\n",
              "            + ' to learn more about interactive tables.';\n",
              "          element.innerHTML = '';\n",
              "          dataTable['output_type'] = 'display_data';\n",
              "          await google.colab.output.renderOutput(dataTable, element);\n",
              "          const docLink = document.createElement('div');\n",
              "          docLink.innerHTML = docLinkHtml;\n",
              "          element.appendChild(docLink);\n",
              "        }\n",
              "      </script>\n",
              "    </div>\n",
              "  </div>\n",
              "  "
            ]
          },
          "metadata": {},
          "execution_count": 5
        }
      ]
    },
    {
      "cell_type": "code",
      "source": [
        "# Assign proper dtypes wherever needed\n",
        "# race_date as datetime col\n",
        "nyra_complete_df['race_date'] = pd.to_datetime(nyra_complete_df['race_date'])\n",
        "# race_number as a int/numeric col\n",
        "nyra_complete_df['race_number'] = pd.to_numeric(nyra_complete_df['race_number'])\n",
        "# post_time as a datetime col\n",
        "nyra_complete_df['post_time'] = pd.to_datetime(nyra_complete_df['post_time'], format= '%H%M')"
      ],
      "metadata": {
        "id": "XQGPn-K7lnWn"
      },
      "execution_count": null,
      "outputs": []
    },
    {
      "cell_type": "code",
      "source": [
        "# Load horse_id data\n",
        "# This is the additioal data found https://www.kaggle.com/datasets/themarkgreen/big-data-derby-2022-global-horse-ids-and-places?select=horse_ids.csv\n",
        "# This data contains unique horse_ids for track_id, race_date, race_number, program_number mappings\n",
        "# Also contains finish positions of horses\n",
        "nyra_horse_id_df = pd.read_csv('/content/drive/MyDrive/NYRA_Data/horse_ids.csv', index_col = 0)\n",
        "print(f'Shape of the df - {nyra_horse_id_df.shape}')\n",
        "nyra_horse_id_df.head(5)"
      ],
      "metadata": {
        "colab": {
          "base_uri": "https://localhost:8080/",
          "height": 224
        },
        "id": "30wDngHqnYdg",
        "outputId": "6526eaa9-d30a-420d-f60a-86ce57584653"
      },
      "execution_count": null,
      "outputs": [
        {
          "output_type": "stream",
          "name": "stdout",
          "text": [
            "Shape of the df - (14916, 6)\n"
          ]
        },
        {
          "output_type": "execute_result",
          "data": {
            "text/plain": [
              "  track_id   race_date  race program_number  horse_id  finishing_place\n",
              "0      AQU  2019-01-01     1              5         0                1\n",
              "1      AQU  2019-01-01     1              1         1                2\n",
              "2      AQU  2019-01-01     1              2         2                3\n",
              "3      AQU  2019-01-01     1              3         3                4\n",
              "4      AQU  2019-01-01     1              4         4                5"
            ],
            "text/html": [
              "\n",
              "  <div id=\"df-5e8bcd53-ef1a-40f1-b317-f37b4fbfb61d\">\n",
              "    <div class=\"colab-df-container\">\n",
              "      <div>\n",
              "<style scoped>\n",
              "    .dataframe tbody tr th:only-of-type {\n",
              "        vertical-align: middle;\n",
              "    }\n",
              "\n",
              "    .dataframe tbody tr th {\n",
              "        vertical-align: top;\n",
              "    }\n",
              "\n",
              "    .dataframe thead th {\n",
              "        text-align: right;\n",
              "    }\n",
              "</style>\n",
              "<table border=\"1\" class=\"dataframe\">\n",
              "  <thead>\n",
              "    <tr style=\"text-align: right;\">\n",
              "      <th></th>\n",
              "      <th>track_id</th>\n",
              "      <th>race_date</th>\n",
              "      <th>race</th>\n",
              "      <th>program_number</th>\n",
              "      <th>horse_id</th>\n",
              "      <th>finishing_place</th>\n",
              "    </tr>\n",
              "  </thead>\n",
              "  <tbody>\n",
              "    <tr>\n",
              "      <th>0</th>\n",
              "      <td>AQU</td>\n",
              "      <td>2019-01-01</td>\n",
              "      <td>1</td>\n",
              "      <td>5</td>\n",
              "      <td>0</td>\n",
              "      <td>1</td>\n",
              "    </tr>\n",
              "    <tr>\n",
              "      <th>1</th>\n",
              "      <td>AQU</td>\n",
              "      <td>2019-01-01</td>\n",
              "      <td>1</td>\n",
              "      <td>1</td>\n",
              "      <td>1</td>\n",
              "      <td>2</td>\n",
              "    </tr>\n",
              "    <tr>\n",
              "      <th>2</th>\n",
              "      <td>AQU</td>\n",
              "      <td>2019-01-01</td>\n",
              "      <td>1</td>\n",
              "      <td>2</td>\n",
              "      <td>2</td>\n",
              "      <td>3</td>\n",
              "    </tr>\n",
              "    <tr>\n",
              "      <th>3</th>\n",
              "      <td>AQU</td>\n",
              "      <td>2019-01-01</td>\n",
              "      <td>1</td>\n",
              "      <td>3</td>\n",
              "      <td>3</td>\n",
              "      <td>4</td>\n",
              "    </tr>\n",
              "    <tr>\n",
              "      <th>4</th>\n",
              "      <td>AQU</td>\n",
              "      <td>2019-01-01</td>\n",
              "      <td>1</td>\n",
              "      <td>4</td>\n",
              "      <td>4</td>\n",
              "      <td>5</td>\n",
              "    </tr>\n",
              "  </tbody>\n",
              "</table>\n",
              "</div>\n",
              "      <button class=\"colab-df-convert\" onclick=\"convertToInteractive('df-5e8bcd53-ef1a-40f1-b317-f37b4fbfb61d')\"\n",
              "              title=\"Convert this dataframe to an interactive table.\"\n",
              "              style=\"display:none;\">\n",
              "        \n",
              "  <svg xmlns=\"http://www.w3.org/2000/svg\" height=\"24px\"viewBox=\"0 0 24 24\"\n",
              "       width=\"24px\">\n",
              "    <path d=\"M0 0h24v24H0V0z\" fill=\"none\"/>\n",
              "    <path d=\"M18.56 5.44l.94 2.06.94-2.06 2.06-.94-2.06-.94-.94-2.06-.94 2.06-2.06.94zm-11 1L8.5 8.5l.94-2.06 2.06-.94-2.06-.94L8.5 2.5l-.94 2.06-2.06.94zm10 10l.94 2.06.94-2.06 2.06-.94-2.06-.94-.94-2.06-.94 2.06-2.06.94z\"/><path d=\"M17.41 7.96l-1.37-1.37c-.4-.4-.92-.59-1.43-.59-.52 0-1.04.2-1.43.59L10.3 9.45l-7.72 7.72c-.78.78-.78 2.05 0 2.83L4 21.41c.39.39.9.59 1.41.59.51 0 1.02-.2 1.41-.59l7.78-7.78 2.81-2.81c.8-.78.8-2.07 0-2.86zM5.41 20L4 18.59l7.72-7.72 1.47 1.35L5.41 20z\"/>\n",
              "  </svg>\n",
              "      </button>\n",
              "      \n",
              "  <style>\n",
              "    .colab-df-container {\n",
              "      display:flex;\n",
              "      flex-wrap:wrap;\n",
              "      gap: 12px;\n",
              "    }\n",
              "\n",
              "    .colab-df-convert {\n",
              "      background-color: #E8F0FE;\n",
              "      border: none;\n",
              "      border-radius: 50%;\n",
              "      cursor: pointer;\n",
              "      display: none;\n",
              "      fill: #1967D2;\n",
              "      height: 32px;\n",
              "      padding: 0 0 0 0;\n",
              "      width: 32px;\n",
              "    }\n",
              "\n",
              "    .colab-df-convert:hover {\n",
              "      background-color: #E2EBFA;\n",
              "      box-shadow: 0px 1px 2px rgba(60, 64, 67, 0.3), 0px 1px 3px 1px rgba(60, 64, 67, 0.15);\n",
              "      fill: #174EA6;\n",
              "    }\n",
              "\n",
              "    [theme=dark] .colab-df-convert {\n",
              "      background-color: #3B4455;\n",
              "      fill: #D2E3FC;\n",
              "    }\n",
              "\n",
              "    [theme=dark] .colab-df-convert:hover {\n",
              "      background-color: #434B5C;\n",
              "      box-shadow: 0px 1px 3px 1px rgba(0, 0, 0, 0.15);\n",
              "      filter: drop-shadow(0px 1px 2px rgba(0, 0, 0, 0.3));\n",
              "      fill: #FFFFFF;\n",
              "    }\n",
              "  </style>\n",
              "\n",
              "      <script>\n",
              "        const buttonEl =\n",
              "          document.querySelector('#df-5e8bcd53-ef1a-40f1-b317-f37b4fbfb61d button.colab-df-convert');\n",
              "        buttonEl.style.display =\n",
              "          google.colab.kernel.accessAllowed ? 'block' : 'none';\n",
              "\n",
              "        async function convertToInteractive(key) {\n",
              "          const element = document.querySelector('#df-5e8bcd53-ef1a-40f1-b317-f37b4fbfb61d');\n",
              "          const dataTable =\n",
              "            await google.colab.kernel.invokeFunction('convertToInteractive',\n",
              "                                                     [key], {});\n",
              "          if (!dataTable) return;\n",
              "\n",
              "          const docLinkHtml = 'Like what you see? Visit the ' +\n",
              "            '<a target=\"_blank\" href=https://colab.research.google.com/notebooks/data_table.ipynb>data table notebook</a>'\n",
              "            + ' to learn more about interactive tables.';\n",
              "          element.innerHTML = '';\n",
              "          dataTable['output_type'] = 'display_data';\n",
              "          await google.colab.output.renderOutput(dataTable, element);\n",
              "          const docLink = document.createElement('div');\n",
              "          docLink.innerHTML = docLinkHtml;\n",
              "          element.appendChild(docLink);\n",
              "        }\n",
              "      </script>\n",
              "    </div>\n",
              "  </div>\n",
              "  "
            ]
          },
          "metadata": {},
          "execution_count": 10
        }
      ]
    },
    {
      "cell_type": "code",
      "source": [
        "# Check for nulls, since this is a new dataset\n",
        "nyra_horse_id_df.isnull().sum()"
      ],
      "metadata": {
        "colab": {
          "base_uri": "https://localhost:8080/"
        },
        "id": "4dk_R8aCor7b",
        "outputId": "f9e7b5a3-eca0-49ec-9ed4-5695bed3f92f"
      },
      "execution_count": null,
      "outputs": [
        {
          "output_type": "execute_result",
          "data": {
            "text/plain": [
              "track_id           0\n",
              "race_date          0\n",
              "race               0\n",
              "program_number     0\n",
              "horse_id           0\n",
              "finishing_place    0\n",
              "dtype: int64"
            ]
          },
          "metadata": {},
          "execution_count": 11
        }
      ]
    },
    {
      "cell_type": "code",
      "source": [
        "# Look at the dtypes, since this is a new dataset\n",
        "nyra_horse_id_df.dtypes"
      ],
      "metadata": {
        "colab": {
          "base_uri": "https://localhost:8080/"
        },
        "id": "mjueBw6RpFut",
        "outputId": "eb86774c-7632-4f30-fe9a-1b95a3561f0c"
      },
      "execution_count": null,
      "outputs": [
        {
          "output_type": "execute_result",
          "data": {
            "text/plain": [
              "track_id           object\n",
              "race_date          object\n",
              "race                int64\n",
              "program_number     object\n",
              "horse_id            int64\n",
              "finishing_place     int64\n",
              "dtype: object"
            ]
          },
          "metadata": {},
          "execution_count": 12
        }
      ]
    },
    {
      "cell_type": "code",
      "source": [
        "# Format dataframe\n",
        "# Make the race col consistent with the race_number used in the Kaggle datasets\n",
        "nyra_horse_id_df = nyra_horse_id_df.rename(columns={'race':'race_number'})\n",
        "# race_date as a datetime\n",
        "nyra_horse_id_df['race_date'] = pd.to_datetime(nyra_horse_id_df['race_date'])"
      ],
      "metadata": {
        "id": "ZE8v6ZyVoC5v"
      },
      "execution_count": null,
      "outputs": []
    },
    {
      "cell_type": "code",
      "source": [
        "# Number of unique horse_ids in this dataset\n",
        "# There are 4638 horses participating in these races as opposed to the 20 we get by grouping on the program number\n",
        "len(nyra_horse_id_df['horse_id'].unique())"
      ],
      "metadata": {
        "colab": {
          "base_uri": "https://localhost:8080/"
        },
        "id": "39WUogoNpuCJ",
        "outputId": "2ca6e8f1-f7f7-442a-d5ca-a35fd51daa8a"
      },
      "execution_count": null,
      "outputs": [
        {
          "output_type": "execute_result",
          "data": {
            "text/plain": [
              "4638"
            ]
          },
          "metadata": {},
          "execution_count": 15
        }
      ]
    },
    {
      "cell_type": "code",
      "source": [
        "# Look at the distribution of the # of races run by these horses\n",
        "temp = nyra_horse_id_df.groupby(['horse_id']).size().reset_index()\n",
        "temp = temp.rename(columns={0:'race_count'})\n",
        "print(temp['race_count'].describe())\n",
        "# Histogram of the # of races a horse participated in\n",
        "plt.hist(temp['race_count'], bins = 20)\n",
        "plt.xlabel('Number of races')\n",
        "plt.ylabel('Frequency')\n",
        "plt.title('Distribution of the number of races a horse ran in the 2019 season')\n",
        "plt.show()"
      ],
      "metadata": {
        "colab": {
          "base_uri": "https://localhost:8080/",
          "height": 451
        },
        "id": "UU_QiCcgqHgs",
        "outputId": "1a360224-39c1-4484-c969-e33822a213ad"
      },
      "execution_count": null,
      "outputs": [
        {
          "output_type": "stream",
          "name": "stdout",
          "text": [
            "count    4638.000000\n",
            "mean        3.216041\n",
            "std         2.706055\n",
            "min         1.000000\n",
            "25%         1.000000\n",
            "50%         2.000000\n",
            "75%         4.000000\n",
            "max        21.000000\n",
            "Name: race_count, dtype: float64\n"
          ]
        },
        {
          "output_type": "display_data",
          "data": {
            "text/plain": [
              "<Figure size 432x288 with 1 Axes>"
            ],
            "image/png": "[encoded data removed]"
          },
          "metadata": {
            "needs_background": "light"
          }
        }
      ]
    },
    {
      "cell_type": "markdown",
      "source": [
        "The above plot for the number of races a horse has in the 2019 season points to horses having pretty low number of races across the year, verify if this is true\n",
        "\n",
        "`Today's racehorses run an average of seven races per year. The chart at the top of this post is from the Jockey club, the governing body of Thoroughbred racing. - Google`\n",
        "\n",
        "Given the above, sounds about right"
      ],
      "metadata": {
        "id": "8IIbiOA5rPJc"
      }
    },
    {
      "cell_type": "code",
      "source": [
        "# Load the horse_names dataset which would allow us to get the names for the race horses by horse id\n"
      ],
      "metadata": {
        "id": "RqGvamfspPL9"
      },
      "execution_count": null,
      "outputs": []
    }
  ]
}