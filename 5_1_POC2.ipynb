{
  "nbformat": 4,
  "nbformat_minor": 0,
  "metadata": {
    "colab": {
      "provenance": [],
      "toc_visible": true,
      "collapsed_sections": [],
      "authorship_tag": "ABX9TyNv/qV0OSnIXNrU7OwvWL2L",
      "include_colab_link": true
    },
    "kernelspec": {
      "name": "python3",
      "display_name": "Python 3"
    },
    "language_info": {
      "name": "python"
    }
  },
  "cells": [
    {
      "cell_type": "markdown",
      "metadata": {
        "id": "view-in-github",
        "colab_type": "text"
      },
      "source": [
        "<a href=\"https://colab.research.google.com/github/parthnaik13/NYRA/blob/main/5_1_POC2.ipynb\" target=\"_parent\"><img src=\"https://colab.research.google.com/assets/colab-badge.svg\" alt=\"Open In Colab\"/></a>"
      ]
    },
    {
      "cell_type": "markdown",
      "source": [
        "# POC 2\n",
        "\n",
        "In this notebook, we aim to follow along the footsteps of POC 1 to explore the relationship between race load that horses experience and its subsequent impact on their race performance (average race speed) using multi-variate modeling"
      ],
      "metadata": {
        "id": "f1QuDDLMEpAC"
      }
    },
    {
      "cell_type": "markdown",
      "source": [
        "## Things to look at in this modeling POC\n",
        "* Do we directly model avg race speed or do we model the change in season avg for horses?\n",
        "* Which confounding features to include?\n",
        "* Do we get a good model?\n",
        "* Do we see significance for race load features?\n",
        "* Are the effects in the direction in which we would expect them to be?\n",
        "* Can we quantify the effect of race load on avg race speed?\n",
        "  * Ex - 14 more rest days lead to a 7.5% increase in avg race speed\n",
        "  * Ex - 100 more furloghs lead to a 5% decrease in avg race speed"
      ],
      "metadata": {
        "id": "rlTR_BfvFEOo"
      }
    },
    {
      "cell_type": "markdown",
      "source": [
        "## Modeling steps\n",
        "\n",
        "1. Load the nyra_race_horse_speed.csv data which is prepped in the `3.1_Data_Prep.ipynb` notebook\n",
        "2. Create functions to calculate race-load features from the data\n",
        "  * Cumulative volume in terms of race distance from season start\n",
        "  * Avg rest intervals leading up to the race\n",
        "3. Prepare the target\n",
        "  * Let's try to model a ratio of $ \\frac{Horse Race Speed_{i,j}}{Avg Horse Race Speed_{i}}$ which is essentially the ratio of a horse's speed in the current race to the avg race speed it had over the season\n",
        "4. Analyze prepped target (can we do a linear regression for the target, the target ratios should look like a normal distribution)\n",
        "5. Filter to just the typical races i.e. 'D' (dirt) and 'FT' (fast) tracks (avoid adding in more features to the model at this stage to capture speed variations due to track types)\n",
        "6. Separate out a holdout set (for model validation)\n",
        "7. Fit a linear regression model\n",
        "  * Target - current to avg speed ratio\n",
        "  * Features\n",
        "    * Odds\n",
        "    * Weight carried\n",
        "    * Race-load features\n",
        "8. Look at the fitted model summary\n",
        "9. Is the model better than a naive model (model always predicting a 1)?\n"
      ],
      "metadata": {
        "id": "rrE9HvXLI0bz"
      }
    },
    {
      "cell_type": "markdown",
      "source": [
        "## Setup\n",
        "\n",
        "* Mount google drive\n",
        "* Load necessary python libraries"
      ],
      "metadata": {
        "id": "jO9mCYfLAKat"
      }
    },
    {
      "cell_type": "code",
      "source": [
        "# Mount google drive to access data files\n",
        "from google.colab import drive\n",
        "drive.mount('/content/drive')"
      ],
      "metadata": {
        "colab": {
          "base_uri": "https://localhost:8080/"
        },
        "id": "X5aaiuj5BAtu",
        "outputId": "2baacad5-b85e-4822-efd4-87596934562b"
      },
      "execution_count": 162,
      "outputs": [
        {
          "output_type": "stream",
          "name": "stdout",
          "text": [
            "Drive already mounted at /content/drive; to attempt to forcibly remount, call drive.mount(\"/content/drive\", force_remount=True).\n"
          ]
        }
      ]
    },
    {
      "cell_type": "code",
      "source": [
        "# Import necessary libs and print out their versions\n",
        "import numpy as np\n",
        "np.random.seed(7)\n",
        "\n",
        "import pandas as pd\n",
        "pd.set_option('display.max_columns', None) # Display all dataframe columns\n",
        "\n",
        "import matplotlib\n",
        "import matplotlib.pyplot as plt\n",
        "\n",
        "import statsmodels\n",
        "import sklearn\n",
        "\n",
        "print(f'numpy version - {np.__version__}')\n",
        "print(f'pandas version - {pd.__version__}')\n",
        "print(f'matplotlib version - {matplotlib.__version__}')\n",
        "print(f'statsmodels version- {statsmodels.__version__}')\n",
        "print(f'sklearn version - {sklearn.__version__}')"
      ],
      "metadata": {
        "colab": {
          "base_uri": "https://localhost:8080/"
        },
        "id": "Ymy1NJLsBeFC",
        "outputId": "b6485847-0a55-4277-80b1-03bb5eeba89b"
      },
      "execution_count": 163,
      "outputs": [
        {
          "output_type": "stream",
          "name": "stdout",
          "text": [
            "numpy version - 1.21.6\n",
            "pandas version - 1.3.5\n",
            "matplotlib version - 3.2.2\n",
            "statsmodels version- 0.12.2\n",
            "sklearn version - 1.0.2\n"
          ]
        }
      ]
    },
    {
      "cell_type": "markdown",
      "source": [
        "## Load prepped race data\n",
        "\n",
        "Data prepped in the `3.1_Data_Prep.ipynb` notebook"
      ],
      "metadata": {
        "id": "EeL7Rr9o7zKE"
      }
    },
    {
      "cell_type": "code",
      "source": [
        "# Load the data from the gdrive mount\n",
        "nyra_df = pd.read_csv('/content/drive/MyDrive/NYRA_Data/nyra_race_horse_speed.csv', index_col = 0)\n",
        "print(f'Shape of the dataframe - {nyra_df.shape}')\n",
        "nyra_df.head(5)"
      ],
      "metadata": {
        "colab": {
          "base_uri": "https://localhost:8080/",
          "height": 461
        },
        "id": "OA6pqV3v7-l7",
        "outputId": "477b6d00-2aa4-4849-8d86-87f74fe571a5"
      },
      "execution_count": 164,
      "outputs": [
        {
          "output_type": "stream",
          "name": "stdout",
          "text": [
            "Shape of the dataframe - (15080, 18)\n"
          ]
        },
        {
          "output_type": "execute_result",
          "data": {
            "text/plain": [
              "  track_id   race_date  race_number program_number  distance_id course_type  \\\n",
              "0      AQU  2019-01-01            1              3          650           D   \n",
              "1      AQU  2019-01-01            1              4          650           D   \n",
              "2      AQU  2019-01-01            1              5          650           D   \n",
              "3      AQU  2019-01-01            1              1          650           D   \n",
              "4      AQU  2019-01-01            1              2          650           D   \n",
              "\n",
              "  track_condition  run_up_distance race_type  purse            post_time  \\\n",
              "0             MY                36       AOC  80000  1900-01-01 12:20:00   \n",
              "1             MY                36       AOC  80000  1900-01-01 12:20:00   \n",
              "2             MY                36       AOC  80000  1900-01-01 12:20:00   \n",
              "3             MY                36       AOC  80000  1900-01-01 12:20:00   \n",
              "4             MY                36       AOC  80000  1900-01-01 12:20:00   \n",
              "\n",
              "   weight_carried           jockey  odds  horse_id  finishing_place  \\\n",
              "0             118     Jose Lezcano   180         3                4   \n",
              "1             123     Jomar Garcia  1280         4                5   \n",
              "2             118    Manuel Franco  1150         0                1   \n",
              "3             123      Dylan Davis   130         1                2   \n",
              "4             120  Junior Alvarado   295         2                3   \n",
              "\n",
              "           horse_name  avg_race_speed  \n",
              "0   Friend of Liberty       40.323190  \n",
              "1        Bobby's Song       40.437696  \n",
              "2  Jc's Shooting Star       41.286390  \n",
              "3    Sounds Delicious       40.898308  \n",
              "4       Crimson Frost       40.441267  "
            ],
            "text/html": [
              "\n",
              "  <div id=\"df-de1f162e-4cdf-4c4c-96ba-00ee3af1cc94\">\n",
              "    <div class=\"colab-df-container\">\n",
              "      <div>\n",
              "<style scoped>\n",
              "    .dataframe tbody tr th:only-of-type {\n",
              "        vertical-align: middle;\n",
              "    }\n",
              "\n",
              "    .dataframe tbody tr th {\n",
              "        vertical-align: top;\n",
              "    }\n",
              "\n",
              "    .dataframe thead th {\n",
              "        text-align: right;\n",
              "    }\n",
              "</style>\n",
              "<table border=\"1\" class=\"dataframe\">\n",
              "  <thead>\n",
              "    <tr style=\"text-align: right;\">\n",
              "      <th></th>\n",
              "      <th>track_id</th>\n",
              "      <th>race_date</th>\n",
              "      <th>race_number</th>\n",
              "      <th>program_number</th>\n",
              "      <th>distance_id</th>\n",
              "      <th>course_type</th>\n",
              "      <th>track_condition</th>\n",
              "      <th>run_up_distance</th>\n",
              "      <th>race_type</th>\n",
              "      <th>purse</th>\n",
              "      <th>post_time</th>\n",
              "      <th>weight_carried</th>\n",
              "      <th>jockey</th>\n",
              "      <th>odds</th>\n",
              "      <th>horse_id</th>\n",
              "      <th>finishing_place</th>\n",
              "      <th>horse_name</th>\n",
              "      <th>avg_race_speed</th>\n",
              "    </tr>\n",
              "  </thead>\n",
              "  <tbody>\n",
              "    <tr>\n",
              "      <th>0</th>\n",
              "      <td>AQU</td>\n",
              "      <td>2019-01-01</td>\n",
              "      <td>1</td>\n",
              "      <td>3</td>\n",
              "      <td>650</td>\n",
              "      <td>D</td>\n",
              "      <td>MY</td>\n",
              "      <td>36</td>\n",
              "      <td>AOC</td>\n",
              "      <td>80000</td>\n",
              "      <td>1900-01-01 12:20:00</td>\n",
              "      <td>118</td>\n",
              "      <td>Jose Lezcano</td>\n",
              "      <td>180</td>\n",
              "      <td>3</td>\n",
              "      <td>4</td>\n",
              "      <td>Friend of Liberty</td>\n",
              "      <td>40.323190</td>\n",
              "    </tr>\n",
              "    <tr>\n",
              "      <th>1</th>\n",
              "      <td>AQU</td>\n",
              "      <td>2019-01-01</td>\n",
              "      <td>1</td>\n",
              "      <td>4</td>\n",
              "      <td>650</td>\n",
              "      <td>D</td>\n",
              "      <td>MY</td>\n",
              "      <td>36</td>\n",
              "      <td>AOC</td>\n",
              "      <td>80000</td>\n",
              "      <td>1900-01-01 12:20:00</td>\n",
              "      <td>123</td>\n",
              "      <td>Jomar Garcia</td>\n",
              "      <td>1280</td>\n",
              "      <td>4</td>\n",
              "      <td>5</td>\n",
              "      <td>Bobby's Song</td>\n",
              "      <td>40.437696</td>\n",
              "    </tr>\n",
              "    <tr>\n",
              "      <th>2</th>\n",
              "      <td>AQU</td>\n",
              "      <td>2019-01-01</td>\n",
              "      <td>1</td>\n",
              "      <td>5</td>\n",
              "      <td>650</td>\n",
              "      <td>D</td>\n",
              "      <td>MY</td>\n",
              "      <td>36</td>\n",
              "      <td>AOC</td>\n",
              "      <td>80000</td>\n",
              "      <td>1900-01-01 12:20:00</td>\n",
              "      <td>118</td>\n",
              "      <td>Manuel Franco</td>\n",
              "      <td>1150</td>\n",
              "      <td>0</td>\n",
              "      <td>1</td>\n",
              "      <td>Jc's Shooting Star</td>\n",
              "      <td>41.286390</td>\n",
              "    </tr>\n",
              "    <tr>\n",
              "      <th>3</th>\n",
              "      <td>AQU</td>\n",
              "      <td>2019-01-01</td>\n",
              "      <td>1</td>\n",
              "      <td>1</td>\n",
              "      <td>650</td>\n",
              "      <td>D</td>\n",
              "      <td>MY</td>\n",
              "      <td>36</td>\n",
              "      <td>AOC</td>\n",
              "      <td>80000</td>\n",
              "      <td>1900-01-01 12:20:00</td>\n",
              "      <td>123</td>\n",
              "      <td>Dylan Davis</td>\n",
              "      <td>130</td>\n",
              "      <td>1</td>\n",
              "      <td>2</td>\n",
              "      <td>Sounds Delicious</td>\n",
              "      <td>40.898308</td>\n",
              "    </tr>\n",
              "    <tr>\n",
              "      <th>4</th>\n",
              "      <td>AQU</td>\n",
              "      <td>2019-01-01</td>\n",
              "      <td>1</td>\n",
              "      <td>2</td>\n",
              "      <td>650</td>\n",
              "      <td>D</td>\n",
              "      <td>MY</td>\n",
              "      <td>36</td>\n",
              "      <td>AOC</td>\n",
              "      <td>80000</td>\n",
              "      <td>1900-01-01 12:20:00</td>\n",
              "      <td>120</td>\n",
              "      <td>Junior Alvarado</td>\n",
              "      <td>295</td>\n",
              "      <td>2</td>\n",
              "      <td>3</td>\n",
              "      <td>Crimson Frost</td>\n",
              "      <td>40.441267</td>\n",
              "    </tr>\n",
              "  </tbody>\n",
              "</table>\n",
              "</div>\n",
              "      <button class=\"colab-df-convert\" onclick=\"convertToInteractive('df-de1f162e-4cdf-4c4c-96ba-00ee3af1cc94')\"\n",
              "              title=\"Convert this dataframe to an interactive table.\"\n",
              "              style=\"display:none;\">\n",
              "        \n",
              "  <svg xmlns=\"http://www.w3.org/2000/svg\" height=\"24px\"viewBox=\"0 0 24 24\"\n",
              "       width=\"24px\">\n",
              "    <path d=\"M0 0h24v24H0V0z\" fill=\"none\"/>\n",
              "    <path d=\"M18.56 5.44l.94 2.06.94-2.06 2.06-.94-2.06-.94-.94-2.06-.94 2.06-2.06.94zm-11 1L8.5 8.5l.94-2.06 2.06-.94-2.06-.94L8.5 2.5l-.94 2.06-2.06.94zm10 10l.94 2.06.94-2.06 2.06-.94-2.06-.94-.94-2.06-.94 2.06-2.06.94z\"/><path d=\"M17.41 7.96l-1.37-1.37c-.4-.4-.92-.59-1.43-.59-.52 0-1.04.2-1.43.59L10.3 9.45l-7.72 7.72c-.78.78-.78 2.05 0 2.83L4 21.41c.39.39.9.59 1.41.59.51 0 1.02-.2 1.41-.59l7.78-7.78 2.81-2.81c.8-.78.8-2.07 0-2.86zM5.41 20L4 18.59l7.72-7.72 1.47 1.35L5.41 20z\"/>\n",
              "  </svg>\n",
              "      </button>\n",
              "      \n",
              "  <style>\n",
              "    .colab-df-container {\n",
              "      display:flex;\n",
              "      flex-wrap:wrap;\n",
              "      gap: 12px;\n",
              "    }\n",
              "\n",
              "    .colab-df-convert {\n",
              "      background-color: #E8F0FE;\n",
              "      border: none;\n",
              "      border-radius: 50%;\n",
              "      cursor: pointer;\n",
              "      display: none;\n",
              "      fill: #1967D2;\n",
              "      height: 32px;\n",
              "      padding: 0 0 0 0;\n",
              "      width: 32px;\n",
              "    }\n",
              "\n",
              "    .colab-df-convert:hover {\n",
              "      background-color: #E2EBFA;\n",
              "      box-shadow: 0px 1px 2px rgba(60, 64, 67, 0.3), 0px 1px 3px 1px rgba(60, 64, 67, 0.15);\n",
              "      fill: #174EA6;\n",
              "    }\n",
              "\n",
              "    [theme=dark] .colab-df-convert {\n",
              "      background-color: #3B4455;\n",
              "      fill: #D2E3FC;\n",
              "    }\n",
              "\n",
              "    [theme=dark] .colab-df-convert:hover {\n",
              "      background-color: #434B5C;\n",
              "      box-shadow: 0px 1px 3px 1px rgba(0, 0, 0, 0.15);\n",
              "      filter: drop-shadow(0px 1px 2px rgba(0, 0, 0, 0.3));\n",
              "      fill: #FFFFFF;\n",
              "    }\n",
              "  </style>\n",
              "\n",
              "      <script>\n",
              "        const buttonEl =\n",
              "          document.querySelector('#df-de1f162e-4cdf-4c4c-96ba-00ee3af1cc94 button.colab-df-convert');\n",
              "        buttonEl.style.display =\n",
              "          google.colab.kernel.accessAllowed ? 'block' : 'none';\n",
              "\n",
              "        async function convertToInteractive(key) {\n",
              "          const element = document.querySelector('#df-de1f162e-4cdf-4c4c-96ba-00ee3af1cc94');\n",
              "          const dataTable =\n",
              "            await google.colab.kernel.invokeFunction('convertToInteractive',\n",
              "                                                     [key], {});\n",
              "          if (!dataTable) return;\n",
              "\n",
              "          const docLinkHtml = 'Like what you see? Visit the ' +\n",
              "            '<a target=\"_blank\" href=https://colab.research.google.com/notebooks/data_table.ipynb>data table notebook</a>'\n",
              "            + ' to learn more about interactive tables.';\n",
              "          element.innerHTML = '';\n",
              "          dataTable['output_type'] = 'display_data';\n",
              "          await google.colab.output.renderOutput(dataTable, element);\n",
              "          const docLink = document.createElement('div');\n",
              "          docLink.innerHTML = docLinkHtml;\n",
              "          element.appendChild(docLink);\n",
              "        }\n",
              "      </script>\n",
              "    </div>\n",
              "  </div>\n",
              "  "
            ]
          },
          "metadata": {},
          "execution_count": 164
        }
      ]
    },
    {
      "cell_type": "code",
      "source": [
        "# Assign proper dtypes wherever needed\n",
        "# Convert post_time to a datetime col (to extract the time part of things)\n",
        "nyra_df['post_time'] = pd.to_datetime(nyra_df['post_time'])\n",
        "# Incorporate the post time and convert this to a datetime column\n",
        "nyra_df['race_date'] = pd.to_datetime(nyra_df['race_date'].astype(str) + ' ' + nyra_df['post_time'].dt.time.astype(str))\n",
        "# post_time can now be dropped as its included in the race_date col\n",
        "nyra_df = nyra_df.drop('post_time', axis = 1)\n",
        "# race_number as a int/numeric col\n",
        "nyra_df['race_number'] = pd.to_numeric(nyra_df['race_number'])"
      ],
      "metadata": {
        "id": "ONhaOTLQ8SbY"
      },
      "execution_count": 165,
      "outputs": []
    },
    {
      "cell_type": "code",
      "source": [
        "# Check of nulls (we don't have any, just in case)\n",
        "nyra_df.isnull().sum().sum()"
      ],
      "metadata": {
        "colab": {
          "base_uri": "https://localhost:8080/"
        },
        "id": "1mX05zykDvYh",
        "outputId": "5a9f17bb-a9c0-497e-f900-3d4a28006a90"
      },
      "execution_count": 166,
      "outputs": [
        {
          "output_type": "execute_result",
          "data": {
            "text/plain": [
              "0"
            ]
          },
          "metadata": {},
          "execution_count": 166
        }
      ]
    },
    {
      "cell_type": "markdown",
      "source": [
        "## Race load features\n",
        "These features are indicative of the cumulative race load horses experience throughout the season\n",
        "\n",
        "Brainstorm:\n",
        "* Cumulative race distance (# of races ran since the start of the season)\n",
        "* Avg # of days between races (experienced from the start of the season)\n",
        "* Number of days/hours between previous and current race (did the horse get enough immediate rest)"
      ],
      "metadata": {
        "id": "ybVKNRBI8iSN"
      }
    },
    {
      "cell_type": "markdown",
      "source": [
        "### Calculate race load features"
      ],
      "metadata": {
        "id": "aZ6I7dOJ830j"
      }
    },
    {
      "cell_type": "code",
      "source": [
        "# Get race distance in miles\n",
        "nyra_df['race_distance_miles'] = nyra_df['distance_id'] / 8 # Conversion of furlongs to miles\n",
        "nyra_df['race_distance_miles'].describe()"
      ],
      "metadata": {
        "colab": {
          "base_uri": "https://localhost:8080/"
        },
        "id": "SkWkJ8Mz9VzF",
        "outputId": "4f95c02f-863d-4782-c71e-72f3ef824aab"
      },
      "execution_count": 167,
      "outputs": [
        {
          "output_type": "execute_result",
          "data": {
            "text/plain": [
              "count    15080.000000\n",
              "mean        90.718667\n",
              "std         18.820992\n",
              "min         56.250000\n",
              "25%         75.000000\n",
              "50%         87.500000\n",
              "75%        100.000000\n",
              "max        250.000000\n",
              "Name: race_distance_miles, dtype: float64"
            ]
          },
          "metadata": {},
          "execution_count": 167
        }
      ]
    },
    {
      "cell_type": "code",
      "source": [
        "# Function to calculate cumulative race load which can be applied over horse groups\n",
        "def race_load_features(horse_df):\n",
        "  \"\"\"\n",
        "  Function to calculate\n",
        "    * cumulative race distance given the race data for a horse\n",
        "    * average time between races (in days)\n",
        "    * time between the last and the current race\n",
        "  \n",
        "  Input: Horse race data (for a specific horse)\n",
        "\n",
        "  Output: Race load features in the form of a dataframe (to be joined with the original df by index)\n",
        "\n",
        "  Note: Race load features are at a race-level (calculated by looking at collective races for horses)\n",
        "  \"\"\"\n",
        "\n",
        "  # Sort races by race_date\n",
        "  horse_df = horse_df.sort_values(by = 'race_date', ascending = True)\n",
        "  \n",
        "  # Cumulative race distance\n",
        "\n",
        "  # Get previous race distance col (we don't want to include the current race distance as the horse is yet to run)\n",
        "  horse_df['prev_race_distance'] = horse_df['race_distance_miles'].shift(1)\n",
        "  # Replace NaNs with 0s (first race of the season)\n",
        "  horse_df = horse_df.fillna(0)\n",
        "  # Get the cumulative previous race/s distance\n",
        "  horse_df['cum_prev_race_distance'] = horse_df['prev_race_distance'].cumsum()\n",
        "\n",
        "  # Get average time between races and the time from the last to current race (in days)\n",
        "\n",
        "  # Get a previous race distance\n",
        "  horse_df['prev_race_date'] = horse_df['race_date'].shift(1)\n",
        "  horse_df['time_from_last_race'] = (horse_df['race_date'] - horse_df['prev_race_date']).dt.days\n",
        "  # Fill NaNs with 0s (first race of the season doesn't have a previous race)\n",
        "  horse_df = horse_df.fillna(0)\n",
        "  # Get average of the all the previous time_from_last_race for a horse\n",
        "  horse_df['prev_race_count'] = [i for i in range(0, horse_df.shape[0])]\n",
        "  horse_df['time_from_last_race_cumsum'] = horse_df['time_from_last_race'].cumsum()\n",
        "  horse_df['avg_time_from_last_race'] = horse_df['time_from_last_race_cumsum'] / horse_df['prev_race_count']\n",
        "  horse_df['avg_time_from_last_race'] = horse_df['avg_time_from_last_race'].fillna(0) # For the first race of the race season for the horse\n",
        "\n",
        "  return horse_df[['cum_prev_race_distance', 'avg_time_from_last_race', 'time_from_last_race']]"
      ],
      "metadata": {
        "id": "MxUGE0jKDAIW"
      },
      "execution_count": 168,
      "outputs": []
    },
    {
      "cell_type": "code",
      "source": [
        "# Get the cum_prev_race_distance for horses across races using the above function (join with nyra_df using the index)\n",
        "race_load_df = nyra_df.groupby('horse_id').apply(race_load_features).reset_index().set_index('level_1')\n",
        "# Shape of the df\n",
        "print(f'Shape of the df - {race_load_df.shape}')\n",
        "race_load_df.head(5)"
      ],
      "metadata": {
        "colab": {
          "base_uri": "https://localhost:8080/",
          "height": 255
        },
        "id": "uNmZALX1Hmhr",
        "outputId": "258cf0d4-f7d6-4c2c-ea8a-e53c93283cf4"
      },
      "execution_count": 169,
      "outputs": [
        {
          "output_type": "stream",
          "name": "stdout",
          "text": [
            "Shape of the df - (15080, 4)\n"
          ]
        },
        {
          "output_type": "execute_result",
          "data": {
            "text/plain": [
              "         horse_id  cum_prev_race_distance  avg_time_from_last_race  \\\n",
              "level_1                                                              \n",
              "2               0                    0.00                 0.000000   \n",
              "7570            0                   81.25               145.000000   \n",
              "8444            0                  181.25                82.000000   \n",
              "12474           0                  256.25                66.666667   \n",
              "13907           0                  325.00                56.000000   \n",
              "\n",
              "         time_from_last_race  \n",
              "level_1                       \n",
              "2                        0.0  \n",
              "7570                   145.0  \n",
              "8444                    19.0  \n",
              "12474                   36.0  \n",
              "13907                   24.0  "
            ],
            "text/html": [
              "\n",
              "  <div id=\"df-78d752ff-d007-40a7-beb0-fca0346cdf7e\">\n",
              "    <div class=\"colab-df-container\">\n",
              "      <div>\n",
              "<style scoped>\n",
              "    .dataframe tbody tr th:only-of-type {\n",
              "        vertical-align: middle;\n",
              "    }\n",
              "\n",
              "    .dataframe tbody tr th {\n",
              "        vertical-align: top;\n",
              "    }\n",
              "\n",
              "    .dataframe thead th {\n",
              "        text-align: right;\n",
              "    }\n",
              "</style>\n",
              "<table border=\"1\" class=\"dataframe\">\n",
              "  <thead>\n",
              "    <tr style=\"text-align: right;\">\n",
              "      <th></th>\n",
              "      <th>horse_id</th>\n",
              "      <th>cum_prev_race_distance</th>\n",
              "      <th>avg_time_from_last_race</th>\n",
              "      <th>time_from_last_race</th>\n",
              "    </tr>\n",
              "    <tr>\n",
              "      <th>level_1</th>\n",
              "      <th></th>\n",
              "      <th></th>\n",
              "      <th></th>\n",
              "      <th></th>\n",
              "    </tr>\n",
              "  </thead>\n",
              "  <tbody>\n",
              "    <tr>\n",
              "      <th>2</th>\n",
              "      <td>0</td>\n",
              "      <td>0.00</td>\n",
              "      <td>0.000000</td>\n",
              "      <td>0.0</td>\n",
              "    </tr>\n",
              "    <tr>\n",
              "      <th>7570</th>\n",
              "      <td>0</td>\n",
              "      <td>81.25</td>\n",
              "      <td>145.000000</td>\n",
              "      <td>145.0</td>\n",
              "    </tr>\n",
              "    <tr>\n",
              "      <th>8444</th>\n",
              "      <td>0</td>\n",
              "      <td>181.25</td>\n",
              "      <td>82.000000</td>\n",
              "      <td>19.0</td>\n",
              "    </tr>\n",
              "    <tr>\n",
              "      <th>12474</th>\n",
              "      <td>0</td>\n",
              "      <td>256.25</td>\n",
              "      <td>66.666667</td>\n",
              "      <td>36.0</td>\n",
              "    </tr>\n",
              "    <tr>\n",
              "      <th>13907</th>\n",
              "      <td>0</td>\n",
              "      <td>325.00</td>\n",
              "      <td>56.000000</td>\n",
              "      <td>24.0</td>\n",
              "    </tr>\n",
              "  </tbody>\n",
              "</table>\n",
              "</div>\n",
              "      <button class=\"colab-df-convert\" onclick=\"convertToInteractive('df-78d752ff-d007-40a7-beb0-fca0346cdf7e')\"\n",
              "              title=\"Convert this dataframe to an interactive table.\"\n",
              "              style=\"display:none;\">\n",
              "        \n",
              "  <svg xmlns=\"http://www.w3.org/2000/svg\" height=\"24px\"viewBox=\"0 0 24 24\"\n",
              "       width=\"24px\">\n",
              "    <path d=\"M0 0h24v24H0V0z\" fill=\"none\"/>\n",
              "    <path d=\"M18.56 5.44l.94 2.06.94-2.06 2.06-.94-2.06-.94-.94-2.06-.94 2.06-2.06.94zm-11 1L8.5 8.5l.94-2.06 2.06-.94-2.06-.94L8.5 2.5l-.94 2.06-2.06.94zm10 10l.94 2.06.94-2.06 2.06-.94-2.06-.94-.94-2.06-.94 2.06-2.06.94z\"/><path d=\"M17.41 7.96l-1.37-1.37c-.4-.4-.92-.59-1.43-.59-.52 0-1.04.2-1.43.59L10.3 9.45l-7.72 7.72c-.78.78-.78 2.05 0 2.83L4 21.41c.39.39.9.59 1.41.59.51 0 1.02-.2 1.41-.59l7.78-7.78 2.81-2.81c.8-.78.8-2.07 0-2.86zM5.41 20L4 18.59l7.72-7.72 1.47 1.35L5.41 20z\"/>\n",
              "  </svg>\n",
              "      </button>\n",
              "      \n",
              "  <style>\n",
              "    .colab-df-container {\n",
              "      display:flex;\n",
              "      flex-wrap:wrap;\n",
              "      gap: 12px;\n",
              "    }\n",
              "\n",
              "    .colab-df-convert {\n",
              "      background-color: #E8F0FE;\n",
              "      border: none;\n",
              "      border-radius: 50%;\n",
              "      cursor: pointer;\n",
              "      display: none;\n",
              "      fill: #1967D2;\n",
              "      height: 32px;\n",
              "      padding: 0 0 0 0;\n",
              "      width: 32px;\n",
              "    }\n",
              "\n",
              "    .colab-df-convert:hover {\n",
              "      background-color: #E2EBFA;\n",
              "      box-shadow: 0px 1px 2px rgba(60, 64, 67, 0.3), 0px 1px 3px 1px rgba(60, 64, 67, 0.15);\n",
              "      fill: #174EA6;\n",
              "    }\n",
              "\n",
              "    [theme=dark] .colab-df-convert {\n",
              "      background-color: #3B4455;\n",
              "      fill: #D2E3FC;\n",
              "    }\n",
              "\n",
              "    [theme=dark] .colab-df-convert:hover {\n",
              "      background-color: #434B5C;\n",
              "      box-shadow: 0px 1px 3px 1px rgba(0, 0, 0, 0.15);\n",
              "      filter: drop-shadow(0px 1px 2px rgba(0, 0, 0, 0.3));\n",
              "      fill: #FFFFFF;\n",
              "    }\n",
              "  </style>\n",
              "\n",
              "      <script>\n",
              "        const buttonEl =\n",
              "          document.querySelector('#df-78d752ff-d007-40a7-beb0-fca0346cdf7e button.colab-df-convert');\n",
              "        buttonEl.style.display =\n",
              "          google.colab.kernel.accessAllowed ? 'block' : 'none';\n",
              "\n",
              "        async function convertToInteractive(key) {\n",
              "          const element = document.querySelector('#df-78d752ff-d007-40a7-beb0-fca0346cdf7e');\n",
              "          const dataTable =\n",
              "            await google.colab.kernel.invokeFunction('convertToInteractive',\n",
              "                                                     [key], {});\n",
              "          if (!dataTable) return;\n",
              "\n",
              "          const docLinkHtml = 'Like what you see? Visit the ' +\n",
              "            '<a target=\"_blank\" href=https://colab.research.google.com/notebooks/data_table.ipynb>data table notebook</a>'\n",
              "            + ' to learn more about interactive tables.';\n",
              "          element.innerHTML = '';\n",
              "          dataTable['output_type'] = 'display_data';\n",
              "          await google.colab.output.renderOutput(dataTable, element);\n",
              "          const docLink = document.createElement('div');\n",
              "          docLink.innerHTML = docLinkHtml;\n",
              "          element.appendChild(docLink);\n",
              "        }\n",
              "      </script>\n",
              "    </div>\n",
              "  </div>\n",
              "  "
            ]
          },
          "metadata": {},
          "execution_count": 169
        }
      ]
    },
    {
      "cell_type": "code",
      "source": [
        "# Look for nulls in the race_load_df\n",
        "race_load_df.isnull().sum().sum()"
      ],
      "metadata": {
        "colab": {
          "base_uri": "https://localhost:8080/"
        },
        "id": "3XSJDrPmLCUH",
        "outputId": "19ad91ea-50da-4f6d-9629-39fd72f6f3ad"
      },
      "execution_count": 170,
      "outputs": [
        {
          "output_type": "execute_result",
          "data": {
            "text/plain": [
              "0"
            ]
          },
          "metadata": {},
          "execution_count": 170
        }
      ]
    },
    {
      "cell_type": "markdown",
      "source": [
        "### Look at the distributions of the race load features"
      ],
      "metadata": {
        "id": "QfY-5CZaGSmU"
      }
    },
    {
      "cell_type": "code",
      "source": [
        "# Cumulative distance covered in the previous races\n",
        "print(race_load_df['cum_prev_race_distance'].describe())\n",
        "# Generate the plot\n",
        "plt.figure(figsize = (10,6))\n",
        "plt.hist(race_load_df['cum_prev_race_distance'], bins = 20)\n",
        "plt.xlabel('Cumulative distance covered over past races (in miles)')\n",
        "plt.ylabel('Frequency')\n",
        "plt.title('Cumulative previous race distance')\n",
        "plt.show()"
      ],
      "metadata": {
        "colab": {
          "base_uri": "https://localhost:8080/",
          "height": 560
        },
        "id": "lDgugmZ8HP43",
        "outputId": "cfec79b6-cd64-4b4a-c69b-42fda3fe40eb"
      },
      "execution_count": 171,
      "outputs": [
        {
          "output_type": "stream",
          "name": "stdout",
          "text": [
            "count    15080.000000\n",
            "mean       202.500000\n",
            "std        238.537386\n",
            "min          0.000000\n",
            "25%          0.000000\n",
            "50%        112.500000\n",
            "75%        306.250000\n",
            "max       1762.500000\n",
            "Name: cum_prev_race_distance, dtype: float64\n"
          ]
        },
        {
          "output_type": "display_data",
          "data": {
            "text/plain": [
              "<Figure size 720x432 with 1 Axes>"
            ],
            "image/png": "[encoded data removed]"
          },
          "metadata": {
            "needs_background": "light"
          }
        }
      ]
    },
    {
      "cell_type": "code",
      "source": [
        "# Average rest time (avg_time_from_last_race)\n",
        "print(race_load_df['avg_time_from_last_race'].describe())\n",
        "# Generate the plot\n",
        "plt.figure(figsize = (10,6))\n",
        "plt.hist(race_load_df['avg_time_from_last_race'], bins = 20)\n",
        "plt.xlabel('Average rest between 2 races uptill the current race (in days)')\n",
        "plt.ylabel('Frequency')\n",
        "plt.title('Average Time From Last Race')\n",
        "plt.show()"
      ],
      "metadata": {
        "colab": {
          "base_uri": "https://localhost:8080/",
          "height": 560
        },
        "id": "HXEQbWfALiRO",
        "outputId": "6048ba35-3b6e-4da2-c65b-6e17f6071534"
      },
      "execution_count": 172,
      "outputs": [
        {
          "output_type": "stream",
          "name": "stdout",
          "text": [
            "count    15080.000000\n",
            "mean        25.970114\n",
            "std         27.022233\n",
            "min          0.000000\n",
            "25%          0.000000\n",
            "50%         25.000000\n",
            "75%         36.666667\n",
            "max        336.000000\n",
            "Name: avg_time_from_last_race, dtype: float64\n"
          ]
        },
        {
          "output_type": "display_data",
          "data": {
            "text/plain": [
              "<Figure size 720x432 with 1 Axes>"
            ],
            "image/png": "[encoded data removed]"
          },
          "metadata": {
            "needs_background": "light"
          }
        }
      ]
    },
    {
      "cell_type": "code",
      "source": [
        "# Rest time since the last race (time_from_last_race)\n",
        "print(race_load_df['time_from_last_race'].describe())\n",
        "# Generate the plot\n",
        "plt.figure(figsize = (10,6))\n",
        "plt.hist(race_load_df['time_from_last_race'], bins = 20)\n",
        "plt.xlabel('Rest from the previous race to the current race (in days)')\n",
        "plt.ylabel('Frequency')\n",
        "plt.title('Time From Last Race')\n",
        "plt.show()"
      ],
      "metadata": {
        "colab": {
          "base_uri": "https://localhost:8080/",
          "height": 560
        },
        "id": "kNnJiNefMINx",
        "outputId": "675dbfb5-1cd6-4a19-e936-a083ab062aeb"
      },
      "execution_count": 173,
      "outputs": [
        {
          "output_type": "stream",
          "name": "stdout",
          "text": [
            "count    15080.000000\n",
            "mean        26.405637\n",
            "std         33.140778\n",
            "min          0.000000\n",
            "25%          0.000000\n",
            "50%         21.000000\n",
            "75%         35.000000\n",
            "max        347.000000\n",
            "Name: time_from_last_race, dtype: float64\n"
          ]
        },
        {
          "output_type": "display_data",
          "data": {
            "text/plain": [
              "<Figure size 720x432 with 1 Axes>"
            ],
            "image/png": "[encoded data removed]"
          },
          "metadata": {
            "needs_background": "light"
          }
        }
      ]
    },
    {
      "cell_type": "markdown",
      "source": [
        "### Join the race load features with the main df"
      ],
      "metadata": {
        "id": "0OrAQq07NJND"
      }
    },
    {
      "cell_type": "code",
      "source": [
        "# Join race_load_df and nyra_df on the index\n",
        "nyra_df = nyra_df.join(race_load_df[['cum_prev_race_distance', 'avg_time_from_last_race', 'time_from_last_race']], how = 'inner')\n",
        "# Look at the shape of the df\n",
        "print(f'Shape of the df - {nyra_df.shape}')\n",
        "# Check for nulls\n",
        "print(f'Nulls - {nyra_df.isnull().sum().sum()}')\n",
        "nyra_df.head(5)"
      ],
      "metadata": {
        "colab": {
          "base_uri": "https://localhost:8080/",
          "height": 478
        },
        "id": "eE5UjFfHNetM",
        "outputId": "85a4ec65-ed6c-428f-fca7-25c377a674a7"
      },
      "execution_count": 175,
      "outputs": [
        {
          "output_type": "stream",
          "name": "stdout",
          "text": [
            "Shape of the df - (15080, 21)\n",
            "Nulls - 0\n"
          ]
        },
        {
          "output_type": "execute_result",
          "data": {
            "text/plain": [
              "  track_id           race_date  race_number program_number  distance_id  \\\n",
              "0      AQU 2019-01-01 12:20:00            1              3          650   \n",
              "1      AQU 2019-01-01 12:20:00            1              4          650   \n",
              "2      AQU 2019-01-01 12:20:00            1              5          650   \n",
              "3      AQU 2019-01-01 12:20:00            1              1          650   \n",
              "4      AQU 2019-01-01 12:20:00            1              2          650   \n",
              "\n",
              "  course_type track_condition  run_up_distance race_type  purse  \\\n",
              "0           D             MY                36       AOC  80000   \n",
              "1           D             MY                36       AOC  80000   \n",
              "2           D             MY                36       AOC  80000   \n",
              "3           D             MY                36       AOC  80000   \n",
              "4           D             MY                36       AOC  80000   \n",
              "\n",
              "   weight_carried           jockey  odds  horse_id  finishing_place  \\\n",
              "0             118     Jose Lezcano   180         3                4   \n",
              "1             123     Jomar Garcia  1280         4                5   \n",
              "2             118    Manuel Franco  1150         0                1   \n",
              "3             123      Dylan Davis   130         1                2   \n",
              "4             120  Junior Alvarado   295         2                3   \n",
              "\n",
              "           horse_name  avg_race_speed  race_distance_miles  \\\n",
              "0   Friend of Liberty       40.323190                81.25   \n",
              "1        Bobby's Song       40.437696                81.25   \n",
              "2  Jc's Shooting Star       41.286390                81.25   \n",
              "3    Sounds Delicious       40.898308                81.25   \n",
              "4       Crimson Frost       40.441267                81.25   \n",
              "\n",
              "   cum_prev_race_distance  avg_time_from_last_race  time_from_last_race  \n",
              "0                     0.0                      0.0                  0.0  \n",
              "1                     0.0                      0.0                  0.0  \n",
              "2                     0.0                      0.0                  0.0  \n",
              "3                     0.0                      0.0                  0.0  \n",
              "4                     0.0                      0.0                  0.0  "
            ],
            "text/html": [
              "\n",
              "  <div id=\"df-6f3f58b3-bf23-4e26-8ed3-838561374bdf\">\n",
              "    <div class=\"colab-df-container\">\n",
              "      <div>\n",
              "<style scoped>\n",
              "    .dataframe tbody tr th:only-of-type {\n",
              "        vertical-align: middle;\n",
              "    }\n",
              "\n",
              "    .dataframe tbody tr th {\n",
              "        vertical-align: top;\n",
              "    }\n",
              "\n",
              "    .dataframe thead th {\n",
              "        text-align: right;\n",
              "    }\n",
              "</style>\n",
              "<table border=\"1\" class=\"dataframe\">\n",
              "  <thead>\n",
              "    <tr style=\"text-align: right;\">\n",
              "      <th></th>\n",
              "      <th>track_id</th>\n",
              "      <th>race_date</th>\n",
              "      <th>race_number</th>\n",
              "      <th>program_number</th>\n",
              "      <th>distance_id</th>\n",
              "      <th>course_type</th>\n",
              "      <th>track_condition</th>\n",
              "      <th>run_up_distance</th>\n",
              "      <th>race_type</th>\n",
              "      <th>purse</th>\n",
              "      <th>weight_carried</th>\n",
              "      <th>jockey</th>\n",
              "      <th>odds</th>\n",
              "      <th>horse_id</th>\n",
              "      <th>finishing_place</th>\n",
              "      <th>horse_name</th>\n",
              "      <th>avg_race_speed</th>\n",
              "      <th>race_distance_miles</th>\n",
              "      <th>cum_prev_race_distance</th>\n",
              "      <th>avg_time_from_last_race</th>\n",
              "      <th>time_from_last_race</th>\n",
              "    </tr>\n",
              "  </thead>\n",
              "  <tbody>\n",
              "    <tr>\n",
              "      <th>0</th>\n",
              "      <td>AQU</td>\n",
              "      <td>2019-01-01 12:20:00</td>\n",
              "      <td>1</td>\n",
              "      <td>3</td>\n",
              "      <td>650</td>\n",
              "      <td>D</td>\n",
              "      <td>MY</td>\n",
              "      <td>36</td>\n",
              "      <td>AOC</td>\n",
              "      <td>80000</td>\n",
              "      <td>118</td>\n",
              "      <td>Jose Lezcano</td>\n",
              "      <td>180</td>\n",
              "      <td>3</td>\n",
              "      <td>4</td>\n",
              "      <td>Friend of Liberty</td>\n",
              "      <td>40.323190</td>\n",
              "      <td>81.25</td>\n",
              "      <td>0.0</td>\n",
              "      <td>0.0</td>\n",
              "      <td>0.0</td>\n",
              "    </tr>\n",
              "    <tr>\n",
              "      <th>1</th>\n",
              "      <td>AQU</td>\n",
              "      <td>2019-01-01 12:20:00</td>\n",
              "      <td>1</td>\n",
              "      <td>4</td>\n",
              "      <td>650</td>\n",
              "      <td>D</td>\n",
              "      <td>MY</td>\n",
              "      <td>36</td>\n",
              "      <td>AOC</td>\n",
              "      <td>80000</td>\n",
              "      <td>123</td>\n",
              "      <td>Jomar Garcia</td>\n",
              "      <td>1280</td>\n",
              "      <td>4</td>\n",
              "      <td>5</td>\n",
              "      <td>Bobby's Song</td>\n",
              "      <td>40.437696</td>\n",
              "      <td>81.25</td>\n",
              "      <td>0.0</td>\n",
              "      <td>0.0</td>\n",
              "      <td>0.0</td>\n",
              "    </tr>\n",
              "    <tr>\n",
              "      <th>2</th>\n",
              "      <td>AQU</td>\n",
              "      <td>2019-01-01 12:20:00</td>\n",
              "      <td>1</td>\n",
              "      <td>5</td>\n",
              "      <td>650</td>\n",
              "      <td>D</td>\n",
              "      <td>MY</td>\n",
              "      <td>36</td>\n",
              "      <td>AOC</td>\n",
              "      <td>80000</td>\n",
              "      <td>118</td>\n",
              "      <td>Manuel Franco</td>\n",
              "      <td>1150</td>\n",
              "      <td>0</td>\n",
              "      <td>1</td>\n",
              "      <td>Jc's Shooting Star</td>\n",
              "      <td>41.286390</td>\n",
              "      <td>81.25</td>\n",
              "      <td>0.0</td>\n",
              "      <td>0.0</td>\n",
              "      <td>0.0</td>\n",
              "    </tr>\n",
              "    <tr>\n",
              "      <th>3</th>\n",
              "      <td>AQU</td>\n",
              "      <td>2019-01-01 12:20:00</td>\n",
              "      <td>1</td>\n",
              "      <td>1</td>\n",
              "      <td>650</td>\n",
              "      <td>D</td>\n",
              "      <td>MY</td>\n",
              "      <td>36</td>\n",
              "      <td>AOC</td>\n",
              "      <td>80000</td>\n",
              "      <td>123</td>\n",
              "      <td>Dylan Davis</td>\n",
              "      <td>130</td>\n",
              "      <td>1</td>\n",
              "      <td>2</td>\n",
              "      <td>Sounds Delicious</td>\n",
              "      <td>40.898308</td>\n",
              "      <td>81.25</td>\n",
              "      <td>0.0</td>\n",
              "      <td>0.0</td>\n",
              "      <td>0.0</td>\n",
              "    </tr>\n",
              "    <tr>\n",
              "      <th>4</th>\n",
              "      <td>AQU</td>\n",
              "      <td>2019-01-01 12:20:00</td>\n",
              "      <td>1</td>\n",
              "      <td>2</td>\n",
              "      <td>650</td>\n",
              "      <td>D</td>\n",
              "      <td>MY</td>\n",
              "      <td>36</td>\n",
              "      <td>AOC</td>\n",
              "      <td>80000</td>\n",
              "      <td>120</td>\n",
              "      <td>Junior Alvarado</td>\n",
              "      <td>295</td>\n",
              "      <td>2</td>\n",
              "      <td>3</td>\n",
              "      <td>Crimson Frost</td>\n",
              "      <td>40.441267</td>\n",
              "      <td>81.25</td>\n",
              "      <td>0.0</td>\n",
              "      <td>0.0</td>\n",
              "      <td>0.0</td>\n",
              "    </tr>\n",
              "  </tbody>\n",
              "</table>\n",
              "</div>\n",
              "      <button class=\"colab-df-convert\" onclick=\"convertToInteractive('df-6f3f58b3-bf23-4e26-8ed3-838561374bdf')\"\n",
              "              title=\"Convert this dataframe to an interactive table.\"\n",
              "              style=\"display:none;\">\n",
              "        \n",
              "  <svg xmlns=\"http://www.w3.org/2000/svg\" height=\"24px\"viewBox=\"0 0 24 24\"\n",
              "       width=\"24px\">\n",
              "    <path d=\"M0 0h24v24H0V0z\" fill=\"none\"/>\n",
              "    <path d=\"M18.56 5.44l.94 2.06.94-2.06 2.06-.94-2.06-.94-.94-2.06-.94 2.06-2.06.94zm-11 1L8.5 8.5l.94-2.06 2.06-.94-2.06-.94L8.5 2.5l-.94 2.06-2.06.94zm10 10l.94 2.06.94-2.06 2.06-.94-2.06-.94-.94-2.06-.94 2.06-2.06.94z\"/><path d=\"M17.41 7.96l-1.37-1.37c-.4-.4-.92-.59-1.43-.59-.52 0-1.04.2-1.43.59L10.3 9.45l-7.72 7.72c-.78.78-.78 2.05 0 2.83L4 21.41c.39.39.9.59 1.41.59.51 0 1.02-.2 1.41-.59l7.78-7.78 2.81-2.81c.8-.78.8-2.07 0-2.86zM5.41 20L4 18.59l7.72-7.72 1.47 1.35L5.41 20z\"/>\n",
              "  </svg>\n",
              "      </button>\n",
              "      \n",
              "  <style>\n",
              "    .colab-df-container {\n",
              "      display:flex;\n",
              "      flex-wrap:wrap;\n",
              "      gap: 12px;\n",
              "    }\n",
              "\n",
              "    .colab-df-convert {\n",
              "      background-color: #E8F0FE;\n",
              "      border: none;\n",
              "      border-radius: 50%;\n",
              "      cursor: pointer;\n",
              "      display: none;\n",
              "      fill: #1967D2;\n",
              "      height: 32px;\n",
              "      padding: 0 0 0 0;\n",
              "      width: 32px;\n",
              "    }\n",
              "\n",
              "    .colab-df-convert:hover {\n",
              "      background-color: #E2EBFA;\n",
              "      box-shadow: 0px 1px 2px rgba(60, 64, 67, 0.3), 0px 1px 3px 1px rgba(60, 64, 67, 0.15);\n",
              "      fill: #174EA6;\n",
              "    }\n",
              "\n",
              "    [theme=dark] .colab-df-convert {\n",
              "      background-color: #3B4455;\n",
              "      fill: #D2E3FC;\n",
              "    }\n",
              "\n",
              "    [theme=dark] .colab-df-convert:hover {\n",
              "      background-color: #434B5C;\n",
              "      box-shadow: 0px 1px 3px 1px rgba(0, 0, 0, 0.15);\n",
              "      filter: drop-shadow(0px 1px 2px rgba(0, 0, 0, 0.3));\n",
              "      fill: #FFFFFF;\n",
              "    }\n",
              "  </style>\n",
              "\n",
              "      <script>\n",
              "        const buttonEl =\n",
              "          document.querySelector('#df-6f3f58b3-bf23-4e26-8ed3-838561374bdf button.colab-df-convert');\n",
              "        buttonEl.style.display =\n",
              "          google.colab.kernel.accessAllowed ? 'block' : 'none';\n",
              "\n",
              "        async function convertToInteractive(key) {\n",
              "          const element = document.querySelector('#df-6f3f58b3-bf23-4e26-8ed3-838561374bdf');\n",
              "          const dataTable =\n",
              "            await google.colab.kernel.invokeFunction('convertToInteractive',\n",
              "                                                     [key], {});\n",
              "          if (!dataTable) return;\n",
              "\n",
              "          const docLinkHtml = 'Like what you see? Visit the ' +\n",
              "            '<a target=\"_blank\" href=https://colab.research.google.com/notebooks/data_table.ipynb>data table notebook</a>'\n",
              "            + ' to learn more about interactive tables.';\n",
              "          element.innerHTML = '';\n",
              "          dataTable['output_type'] = 'display_data';\n",
              "          await google.colab.output.renderOutput(dataTable, element);\n",
              "          const docLink = document.createElement('div');\n",
              "          docLink.innerHTML = docLinkHtml;\n",
              "          element.appendChild(docLink);\n",
              "        }\n",
              "      </script>\n",
              "    </div>\n",
              "  </div>\n",
              "  "
            ]
          },
          "metadata": {},
          "execution_count": 175
        }
      ]
    },
    {
      "cell_type": "markdown",
      "source": [
        "## Prepare the target\n",
        "\n",
        "$Target = \\frac{\\text{Speed in current race for horse}_i}{\\text{Avg speed across all races for horse}_i}$\n",
        "\n",
        "* In order to account for the change in speed rather than just the race speed which can vary by horses, we model the ratio of the race speed for a horse to the average speed we recorded for that horse\n",
        "* So a 0.8 target would indicate that $horse_i$ was 20% slower than its average speed in the race of interest"
      ],
      "metadata": {
        "id": "KBAj5IxtNrE_"
      }
    },
    {
      "cell_type": "code",
      "source": [
        "# Get the average speeds for horses across races\n"
      ],
      "metadata": {
        "colab": {
          "base_uri": "https://localhost:8080/",
          "height": 312
        },
        "id": "s06RyDYXktoD",
        "outputId": "73d42dc4-87bd-46f4-9f8c-fd74ebf69256"
      },
      "execution_count": 118,
      "outputs": [
        {
          "output_type": "execute_result",
          "data": {
            "text/plain": [
              "     track_id           race_date  race_number program_number  distance_id  \\\n",
              "0         AQU 2019-01-01 12:20:00            1              3          650   \n",
              "872       AQU 2019-02-01 22:03:00            4              3          600   \n",
              "7661      BEL 2019-05-30 05:42:00            6              3          600   \n",
              "\n",
              "     course_type track_condition  run_up_distance race_type  purse  \\\n",
              "0              D             MY                36       AOC  80000   \n",
              "872            D             FT                40       AOC  75000   \n",
              "7661           D             GD                48       CLM  55000   \n",
              "\n",
              "      weight_carried         jockey  odds  horse_id  finishing_place  \\\n",
              "0                118   Jose Lezcano   180         3                4   \n",
              "872              121  Manuel Franco   375         3                3   \n",
              "7661             123  Manuel Franco   420         3                4   \n",
              "\n",
              "             horse_name  avg_race_speed  race_distance_miles  \n",
              "0     Friend of Liberty       40.323190                81.25  \n",
              "872   Friend of Liberty       41.134602                75.00  \n",
              "7661  Friend of Liberty       41.836750                75.00  "
            ],
            "text/html": [
              "\n",
              "  <div id=\"df-ab5fe482-f916-42bb-8bf4-f47eb8cae93f\">\n",
              "    <div class=\"colab-df-container\">\n",
              "      <div>\n",
              "<style scoped>\n",
              "    .dataframe tbody tr th:only-of-type {\n",
              "        vertical-align: middle;\n",
              "    }\n",
              "\n",
              "    .dataframe tbody tr th {\n",
              "        vertical-align: top;\n",
              "    }\n",
              "\n",
              "    .dataframe thead th {\n",
              "        text-align: right;\n",
              "    }\n",
              "</style>\n",
              "<table border=\"1\" class=\"dataframe\">\n",
              "  <thead>\n",
              "    <tr style=\"text-align: right;\">\n",
              "      <th></th>\n",
              "      <th>track_id</th>\n",
              "      <th>race_date</th>\n",
              "      <th>race_number</th>\n",
              "      <th>program_number</th>\n",
              "      <th>distance_id</th>\n",
              "      <th>course_type</th>\n",
              "      <th>track_condition</th>\n",
              "      <th>run_up_distance</th>\n",
              "      <th>race_type</th>\n",
              "      <th>purse</th>\n",
              "      <th>weight_carried</th>\n",
              "      <th>jockey</th>\n",
              "      <th>odds</th>\n",
              "      <th>horse_id</th>\n",
              "      <th>finishing_place</th>\n",
              "      <th>horse_name</th>\n",
              "      <th>avg_race_speed</th>\n",
              "      <th>race_distance_miles</th>\n",
              "    </tr>\n",
              "  </thead>\n",
              "  <tbody>\n",
              "    <tr>\n",
              "      <th>0</th>\n",
              "      <td>AQU</td>\n",
              "      <td>2019-01-01 12:20:00</td>\n",
              "      <td>1</td>\n",
              "      <td>3</td>\n",
              "      <td>650</td>\n",
              "      <td>D</td>\n",
              "      <td>MY</td>\n",
              "      <td>36</td>\n",
              "      <td>AOC</td>\n",
              "      <td>80000</td>\n",
              "      <td>118</td>\n",
              "      <td>Jose Lezcano</td>\n",
              "      <td>180</td>\n",
              "      <td>3</td>\n",
              "      <td>4</td>\n",
              "      <td>Friend of Liberty</td>\n",
              "      <td>40.323190</td>\n",
              "      <td>81.25</td>\n",
              "    </tr>\n",
              "    <tr>\n",
              "      <th>872</th>\n",
              "      <td>AQU</td>\n",
              "      <td>2019-02-01 22:03:00</td>\n",
              "      <td>4</td>\n",
              "      <td>3</td>\n",
              "      <td>600</td>\n",
              "      <td>D</td>\n",
              "      <td>FT</td>\n",
              "      <td>40</td>\n",
              "      <td>AOC</td>\n",
              "      <td>75000</td>\n",
              "      <td>121</td>\n",
              "      <td>Manuel Franco</td>\n",
              "      <td>375</td>\n",
              "      <td>3</td>\n",
              "      <td>3</td>\n",
              "      <td>Friend of Liberty</td>\n",
              "      <td>41.134602</td>\n",
              "      <td>75.00</td>\n",
              "    </tr>\n",
              "    <tr>\n",
              "      <th>7661</th>\n",
              "      <td>BEL</td>\n",
              "      <td>2019-05-30 05:42:00</td>\n",
              "      <td>6</td>\n",
              "      <td>3</td>\n",
              "      <td>600</td>\n",
              "      <td>D</td>\n",
              "      <td>GD</td>\n",
              "      <td>48</td>\n",
              "      <td>CLM</td>\n",
              "      <td>55000</td>\n",
              "      <td>123</td>\n",
              "      <td>Manuel Franco</td>\n",
              "      <td>420</td>\n",
              "      <td>3</td>\n",
              "      <td>4</td>\n",
              "      <td>Friend of Liberty</td>\n",
              "      <td>41.836750</td>\n",
              "      <td>75.00</td>\n",
              "    </tr>\n",
              "  </tbody>\n",
              "</table>\n",
              "</div>\n",
              "      <button class=\"colab-df-convert\" onclick=\"convertToInteractive('df-ab5fe482-f916-42bb-8bf4-f47eb8cae93f')\"\n",
              "              title=\"Convert this dataframe to an interactive table.\"\n",
              "              style=\"display:none;\">\n",
              "        \n",
              "  <svg xmlns=\"http://www.w3.org/2000/svg\" height=\"24px\"viewBox=\"0 0 24 24\"\n",
              "       width=\"24px\">\n",
              "    <path d=\"M0 0h24v24H0V0z\" fill=\"none\"/>\n",
              "    <path d=\"M18.56 5.44l.94 2.06.94-2.06 2.06-.94-2.06-.94-.94-2.06-.94 2.06-2.06.94zm-11 1L8.5 8.5l.94-2.06 2.06-.94-2.06-.94L8.5 2.5l-.94 2.06-2.06.94zm10 10l.94 2.06.94-2.06 2.06-.94-2.06-.94-.94-2.06-.94 2.06-2.06.94z\"/><path d=\"M17.41 7.96l-1.37-1.37c-.4-.4-.92-.59-1.43-.59-.52 0-1.04.2-1.43.59L10.3 9.45l-7.72 7.72c-.78.78-.78 2.05 0 2.83L4 21.41c.39.39.9.59 1.41.59.51 0 1.02-.2 1.41-.59l7.78-7.78 2.81-2.81c.8-.78.8-2.07 0-2.86zM5.41 20L4 18.59l7.72-7.72 1.47 1.35L5.41 20z\"/>\n",
              "  </svg>\n",
              "      </button>\n",
              "      \n",
              "  <style>\n",
              "    .colab-df-container {\n",
              "      display:flex;\n",
              "      flex-wrap:wrap;\n",
              "      gap: 12px;\n",
              "    }\n",
              "\n",
              "    .colab-df-convert {\n",
              "      background-color: #E8F0FE;\n",
              "      border: none;\n",
              "      border-radius: 50%;\n",
              "      cursor: pointer;\n",
              "      display: none;\n",
              "      fill: #1967D2;\n",
              "      height: 32px;\n",
              "      padding: 0 0 0 0;\n",
              "      width: 32px;\n",
              "    }\n",
              "\n",
              "    .colab-df-convert:hover {\n",
              "      background-color: #E2EBFA;\n",
              "      box-shadow: 0px 1px 2px rgba(60, 64, 67, 0.3), 0px 1px 3px 1px rgba(60, 64, 67, 0.15);\n",
              "      fill: #174EA6;\n",
              "    }\n",
              "\n",
              "    [theme=dark] .colab-df-convert {\n",
              "      background-color: #3B4455;\n",
              "      fill: #D2E3FC;\n",
              "    }\n",
              "\n",
              "    [theme=dark] .colab-df-convert:hover {\n",
              "      background-color: #434B5C;\n",
              "      box-shadow: 0px 1px 3px 1px rgba(0, 0, 0, 0.15);\n",
              "      filter: drop-shadow(0px 1px 2px rgba(0, 0, 0, 0.3));\n",
              "      fill: #FFFFFF;\n",
              "    }\n",
              "  </style>\n",
              "\n",
              "      <script>\n",
              "        const buttonEl =\n",
              "          document.querySelector('#df-ab5fe482-f916-42bb-8bf4-f47eb8cae93f button.colab-df-convert');\n",
              "        buttonEl.style.display =\n",
              "          google.colab.kernel.accessAllowed ? 'block' : 'none';\n",
              "\n",
              "        async function convertToInteractive(key) {\n",
              "          const element = document.querySelector('#df-ab5fe482-f916-42bb-8bf4-f47eb8cae93f');\n",
              "          const dataTable =\n",
              "            await google.colab.kernel.invokeFunction('convertToInteractive',\n",
              "                                                     [key], {});\n",
              "          if (!dataTable) return;\n",
              "\n",
              "          const docLinkHtml = 'Like what you see? Visit the ' +\n",
              "            '<a target=\"_blank\" href=https://colab.research.google.com/notebooks/data_table.ipynb>data table notebook</a>'\n",
              "            + ' to learn more about interactive tables.';\n",
              "          element.innerHTML = '';\n",
              "          dataTable['output_type'] = 'display_data';\n",
              "          await google.colab.output.renderOutput(dataTable, element);\n",
              "          const docLink = document.createElement('div');\n",
              "          docLink.innerHTML = docLinkHtml;\n",
              "          element.appendChild(docLink);\n",
              "        }\n",
              "      </script>\n",
              "    </div>\n",
              "  </div>\n",
              "  "
            ]
          },
          "metadata": {},
          "execution_count": 118
        }
      ]
    },
    {
      "cell_type": "code",
      "source": [],
      "metadata": {
        "id": "2YIe_Q59-Hyn"
      },
      "execution_count": 175,
      "outputs": []
    },
    {
      "cell_type": "code",
      "source": [],
      "metadata": {
        "id": "1RL1jZ2i90TV"
      },
      "execution_count": null,
      "outputs": []
    }
  ]
}