{
  "nbformat": 4,
  "nbformat_minor": 0,
  "metadata": {
    "colab": {
      "name": "2.1_NYRA_strategy.ipynb",
      "provenance": [],
      "collapsed_sections": [],
      "toc_visible": true
    },
    "kernelspec": {
      "name": "python3",
      "display_name": "Python 3"
    },
    "language_info": {
      "name": "python"
    }
  },
  "cells": [
    {
      "cell_type": "markdown",
      "source": [
        "# Strategy / direction for exploring the NYRA data"
      ],
      "metadata": {
        "id": "5DUP51QWSMTg"
      }
    },
    {
      "cell_type": "markdown",
      "source": [
        "## NYRA exploration direction\n",
        "\n",
        "**Does load management affect horse performance, if so how and by how much?**\n",
        "\n",
        "* Right off the bat, in the EDA we can notice that they are a lot of horse races throughout the year\n",
        "* Like any sport, racing can have a significant toll on a horse, in this case can we look at the race data and tie better load management to better performance?"
      ],
      "metadata": {
        "id": "14ptX2c0SWDK"
      }
    },
    {
      "cell_type": "markdown",
      "source": [
        "## POC setup\n",
        "\n",
        "We introduce 2 POCs with increasing level of complexity to prove out if and how better load management affects horse performance\n",
        "\n",
        "#### POC 1\n",
        "* For an example horse, extract avg speeds (finish positions might also be interesting) for regular races on dirt tracks which are on the faster side (to remove speed variations due to type of the race, track etc.)\n",
        "* Plot these speeds for the example horse from the start of the season to the end of the racing season\n",
        "* If we see downward trends here move to POC 2, load management can help explain some of the signal here\n",
        "\n",
        "#### POC 2\n",
        "* We explore the potential of this line of analysis using a POC analysis\n",
        "* In this analysis, the plan is to use the tracking data to extract average speed for horses across races (target), extract race-load features (cummalative distance, avg hours between races) from the NYRA race data\n",
        "* The race load features look at race distance and avg rest prior to the current race\n",
        "* Finally, we use race-load features + odds + weight_carried + horse_indicators to predict the avg speed of horses for races\n",
        "* What we hope to see is better load management leads to higher avg speeds / less degradation in horse performance"
      ],
      "metadata": {
        "id": "tae8V-5nTIl4"
      }
    },
    {
      "cell_type": "markdown",
      "source": [
        "### POC 1\n",
        "\n",
        "Detailed steps for implementing POC 1\n",
        "\n",
        "* Load the NYRA complete data\n",
        "* Join this data with this [dataset](https://www.kaggle.com/datasets/themarkgreen/big-data-derby-2022-global-horse-ids-and-places) to obtain unique horse ids, horse names and finish positions for horses in races\n",
        "* Select races on \"Dirt\" tracks and track condition is \"FT\"\n",
        "* Extract avg speeds for the horse races using code found in this [notebook](https://www.kaggle.com/code/roniheka/obtain-time-course-of-speed-during-a-race)\n",
        "* Plot avg speeds for example horses across races from the start of the season to the end of the season\n",
        "  * Do we see the plots having a -ve slope?\n",
        "  * Do we see differences between the slopes of the plots across different horses?"
      ],
      "metadata": {
        "id": "p6b8QBA1XQ8d"
      }
    },
    {
      "cell_type": "markdown",
      "source": [
        "### POC 2\n",
        "\n",
        "Detailed steps coming soon"
      ],
      "metadata": {
        "id": "7x_21Z_Kahdm"
      }
    },
    {
      "cell_type": "markdown",
      "source": [
        "# Additional ideas / thoughts\n",
        "\n",
        "* Use causal forest to look at the effect of a treatment (load-management) on the target (avg horse speeds)"
      ],
      "metadata": {
        "id": "lm8_BkYqdBUv"
      }
    },
    {
      "cell_type": "markdown",
      "source": [
        "# End of notebook"
      ],
      "metadata": {
        "id": "9ht826wrdGvz"
      }
    }
  ]
}