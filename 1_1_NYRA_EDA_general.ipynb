{
  "nbformat": 4,
  "nbformat_minor": 0,
  "metadata": {
    "colab": {
      "name": "1.1_NYRA_EDA_general.ipynb",
      "provenance": [],
      "toc_visible": true,
      "collapsed_sections": [],
      "authorship_tag": "ABX9TyOLKcpJhj9wj0VtGDGA82sS",
      "include_colab_link": true
    },
    "kernelspec": {
      "name": "python3",
      "display_name": "Python 3"
    },
    "language_info": {
      "name": "python"
    }
  },
  "cells": [
    {
      "cell_type": "markdown",
      "metadata": {
        "id": "view-in-github",
        "colab_type": "text"
      },
      "source": [
        "<a href=\"https://colab.research.google.com/github/parthnaik13/NYRA/blob/main/1_1_NYRA_EDA_general.ipynb\" target=\"_parent\"><img src=\"https://colab.research.google.com/assets/colab-badge.svg\" alt=\"Open In Colab\"/></a>"
      ]
    },
    {
      "cell_type": "markdown",
      "source": [
        "# EDA for NYRA Analytics\n",
        "https://www.kaggle.com/competitions/big-data-derby-2022/overview"
      ],
      "metadata": {
        "id": "lF4fNMSm7hUe"
      }
    },
    {
      "cell_type": "markdown",
      "source": [
        "## Setup\n",
        "* Mount google drive to load competition data\n",
        "* Load necessary python libs and print out versions\n",
        "* Set pandas df display options"
      ],
      "metadata": {
        "id": "oH_q62na9OPs"
      }
    },
    {
      "cell_type": "code",
      "execution_count": 3,
      "metadata": {
        "colab": {
          "base_uri": "https://localhost:8080/"
        },
        "id": "yCcGPUNv5ues",
        "outputId": "537ee3e9-69b8-40a8-fde8-4dacafac972d"
      },
      "outputs": [
        {
          "output_type": "stream",
          "name": "stdout",
          "text": [
            "Drive already mounted at /content/drive; to attempt to forcibly remount, call drive.mount(\"/content/drive\", force_remount=True).\n"
          ]
        }
      ],
      "source": [
        "# Mount google drive to access data files\n",
        "from google.colab import drive\n",
        "drive.mount('/content/drive')"
      ]
    },
    {
      "cell_type": "code",
      "source": [
        "# Import necessary libs and print out their versions\n",
        "import numpy as np\n",
        "np.random.seed(7)\n",
        "\n",
        "import pandas as pd\n",
        "pd.set_option('display.max_columns', None) # Display all dataframe columns\n",
        "\n",
        "import matplotlib\n",
        "import matplotlib.pyplot as plt\n",
        "\n",
        "print(f'numpy version - {np.__version__}')\n",
        "print(f'pandas version - {pd.__version__}')\n",
        "print(f'matplotlib version - {matplotlib.__version__}')"
      ],
      "metadata": {
        "colab": {
          "base_uri": "https://localhost:8080/"
        },
        "id": "C7OPJuHL-N8c",
        "outputId": "c1afa17c-33aa-456f-80bd-1189e7ef8ab2"
      },
      "execution_count": 4,
      "outputs": [
        {
          "output_type": "stream",
          "name": "stdout",
          "text": [
            "numpy version - 1.21.6\n",
            "pandas version - 1.3.5\n",
            "matplotlib version - 3.2.2\n"
          ]
        }
      ]
    },
    {
      "cell_type": "markdown",
      "source": [
        "## NYRA start table\n",
        "\n",
        "EDA for the NYRA start table"
      ],
      "metadata": {
        "id": "nAcy14mq7f_C"
      }
    },
    {
      "cell_type": "code",
      "source": [
        "# Load the start table from the gdrive mount point\n",
        "nyra_start_df = pd.read_csv('/content/drive/MyDrive/NYRA_Data/nyra_start_table.csv')\n",
        "# Shape of the df\n",
        "print(f'Shape of the df - {nyra_start_df.shape}')\n",
        "# A look at the dataframe\n",
        "nyra_start_df.head(5)"
      ],
      "metadata": {
        "id": "Jc3RP6E6-ePD",
        "colab": {
          "base_uri": "https://localhost:8080/",
          "height": 224
        },
        "outputId": "6fcf0fd3-81ae-4e03-d43d-43ef1cbc2296"
      },
      "execution_count": 5,
      "outputs": [
        {
          "output_type": "stream",
          "name": "stdout",
          "text": [
            "Shape of the df - (14915, 7)\n"
          ]
        },
        {
          "output_type": "execute_result",
          "data": {
            "text/plain": [
              "  track_id   race_date  race_number program_number  weight_carried  \\\n",
              "0      AQU  2019-01-01            1            1               123   \n",
              "1      AQU  2019-01-01            1            2               120   \n",
              "2      AQU  2019-01-01            1            3               118   \n",
              "3      AQU  2019-01-01            1            4               123   \n",
              "4      AQU  2019-01-01            1            5               118   \n",
              "\n",
              "            jockey  odds  \n",
              "0      Dylan Davis   130  \n",
              "1  Junior Alvarado   295  \n",
              "2     Jose Lezcano   180  \n",
              "3     Jomar Garcia  1280  \n",
              "4    Manuel Franco  1150  "
            ],
            "text/html": [
              "\n",
              "  <div id=\"df-16bd1fb6-cd91-41d6-9303-0e0690c0376c\">\n",
              "    <div class=\"colab-df-container\">\n",
              "      <div>\n",
              "<style scoped>\n",
              "    .dataframe tbody tr th:only-of-type {\n",
              "        vertical-align: middle;\n",
              "    }\n",
              "\n",
              "    .dataframe tbody tr th {\n",
              "        vertical-align: top;\n",
              "    }\n",
              "\n",
              "    .dataframe thead th {\n",
              "        text-align: right;\n",
              "    }\n",
              "</style>\n",
              "<table border=\"1\" class=\"dataframe\">\n",
              "  <thead>\n",
              "    <tr style=\"text-align: right;\">\n",
              "      <th></th>\n",
              "      <th>track_id</th>\n",
              "      <th>race_date</th>\n",
              "      <th>race_number</th>\n",
              "      <th>program_number</th>\n",
              "      <th>weight_carried</th>\n",
              "      <th>jockey</th>\n",
              "      <th>odds</th>\n",
              "    </tr>\n",
              "  </thead>\n",
              "  <tbody>\n",
              "    <tr>\n",
              "      <th>0</th>\n",
              "      <td>AQU</td>\n",
              "      <td>2019-01-01</td>\n",
              "      <td>1</td>\n",
              "      <td>1</td>\n",
              "      <td>123</td>\n",
              "      <td>Dylan Davis</td>\n",
              "      <td>130</td>\n",
              "    </tr>\n",
              "    <tr>\n",
              "      <th>1</th>\n",
              "      <td>AQU</td>\n",
              "      <td>2019-01-01</td>\n",
              "      <td>1</td>\n",
              "      <td>2</td>\n",
              "      <td>120</td>\n",
              "      <td>Junior Alvarado</td>\n",
              "      <td>295</td>\n",
              "    </tr>\n",
              "    <tr>\n",
              "      <th>2</th>\n",
              "      <td>AQU</td>\n",
              "      <td>2019-01-01</td>\n",
              "      <td>1</td>\n",
              "      <td>3</td>\n",
              "      <td>118</td>\n",
              "      <td>Jose Lezcano</td>\n",
              "      <td>180</td>\n",
              "    </tr>\n",
              "    <tr>\n",
              "      <th>3</th>\n",
              "      <td>AQU</td>\n",
              "      <td>2019-01-01</td>\n",
              "      <td>1</td>\n",
              "      <td>4</td>\n",
              "      <td>123</td>\n",
              "      <td>Jomar Garcia</td>\n",
              "      <td>1280</td>\n",
              "    </tr>\n",
              "    <tr>\n",
              "      <th>4</th>\n",
              "      <td>AQU</td>\n",
              "      <td>2019-01-01</td>\n",
              "      <td>1</td>\n",
              "      <td>5</td>\n",
              "      <td>118</td>\n",
              "      <td>Manuel Franco</td>\n",
              "      <td>1150</td>\n",
              "    </tr>\n",
              "  </tbody>\n",
              "</table>\n",
              "</div>\n",
              "      <button class=\"colab-df-convert\" onclick=\"convertToInteractive('df-16bd1fb6-cd91-41d6-9303-0e0690c0376c')\"\n",
              "              title=\"Convert this dataframe to an interactive table.\"\n",
              "              style=\"display:none;\">\n",
              "        \n",
              "  <svg xmlns=\"http://www.w3.org/2000/svg\" height=\"24px\"viewBox=\"0 0 24 24\"\n",
              "       width=\"24px\">\n",
              "    <path d=\"M0 0h24v24H0V0z\" fill=\"none\"/>\n",
              "    <path d=\"M18.56 5.44l.94 2.06.94-2.06 2.06-.94-2.06-.94-.94-2.06-.94 2.06-2.06.94zm-11 1L8.5 8.5l.94-2.06 2.06-.94-2.06-.94L8.5 2.5l-.94 2.06-2.06.94zm10 10l.94 2.06.94-2.06 2.06-.94-2.06-.94-.94-2.06-.94 2.06-2.06.94z\"/><path d=\"M17.41 7.96l-1.37-1.37c-.4-.4-.92-.59-1.43-.59-.52 0-1.04.2-1.43.59L10.3 9.45l-7.72 7.72c-.78.78-.78 2.05 0 2.83L4 21.41c.39.39.9.59 1.41.59.51 0 1.02-.2 1.41-.59l7.78-7.78 2.81-2.81c.8-.78.8-2.07 0-2.86zM5.41 20L4 18.59l7.72-7.72 1.47 1.35L5.41 20z\"/>\n",
              "  </svg>\n",
              "      </button>\n",
              "      \n",
              "  <style>\n",
              "    .colab-df-container {\n",
              "      display:flex;\n",
              "      flex-wrap:wrap;\n",
              "      gap: 12px;\n",
              "    }\n",
              "\n",
              "    .colab-df-convert {\n",
              "      background-color: #E8F0FE;\n",
              "      border: none;\n",
              "      border-radius: 50%;\n",
              "      cursor: pointer;\n",
              "      display: none;\n",
              "      fill: #1967D2;\n",
              "      height: 32px;\n",
              "      padding: 0 0 0 0;\n",
              "      width: 32px;\n",
              "    }\n",
              "\n",
              "    .colab-df-convert:hover {\n",
              "      background-color: #E2EBFA;\n",
              "      box-shadow: 0px 1px 2px rgba(60, 64, 67, 0.3), 0px 1px 3px 1px rgba(60, 64, 67, 0.15);\n",
              "      fill: #174EA6;\n",
              "    }\n",
              "\n",
              "    [theme=dark] .colab-df-convert {\n",
              "      background-color: #3B4455;\n",
              "      fill: #D2E3FC;\n",
              "    }\n",
              "\n",
              "    [theme=dark] .colab-df-convert:hover {\n",
              "      background-color: #434B5C;\n",
              "      box-shadow: 0px 1px 3px 1px rgba(0, 0, 0, 0.15);\n",
              "      filter: drop-shadow(0px 1px 2px rgba(0, 0, 0, 0.3));\n",
              "      fill: #FFFFFF;\n",
              "    }\n",
              "  </style>\n",
              "\n",
              "      <script>\n",
              "        const buttonEl =\n",
              "          document.querySelector('#df-16bd1fb6-cd91-41d6-9303-0e0690c0376c button.colab-df-convert');\n",
              "        buttonEl.style.display =\n",
              "          google.colab.kernel.accessAllowed ? 'block' : 'none';\n",
              "\n",
              "        async function convertToInteractive(key) {\n",
              "          const element = document.querySelector('#df-16bd1fb6-cd91-41d6-9303-0e0690c0376c');\n",
              "          const dataTable =\n",
              "            await google.colab.kernel.invokeFunction('convertToInteractive',\n",
              "                                                     [key], {});\n",
              "          if (!dataTable) return;\n",
              "\n",
              "          const docLinkHtml = 'Like what you see? Visit the ' +\n",
              "            '<a target=\"_blank\" href=https://colab.research.google.com/notebooks/data_table.ipynb>data table notebook</a>'\n",
              "            + ' to learn more about interactive tables.';\n",
              "          element.innerHTML = '';\n",
              "          dataTable['output_type'] = 'display_data';\n",
              "          await google.colab.output.renderOutput(dataTable, element);\n",
              "          const docLink = document.createElement('div');\n",
              "          docLink.innerHTML = docLinkHtml;\n",
              "          element.appendChild(docLink);\n",
              "        }\n",
              "      </script>\n",
              "    </div>\n",
              "  </div>\n",
              "  "
            ]
          },
          "metadata": {},
          "execution_count": 5
        }
      ]
    },
    {
      "cell_type": "markdown",
      "source": [
        "### Column descriptions\n",
        "\n",
        "Pulled from the competition page\n",
        "\n",
        "Table contains data for horses/jockeys and races\n",
        "\n",
        "* track_id - 3 character id for the track the race took place at. AQU -Aqueduct, BEL - Belmont, SAR - Saratoga.\n",
        "* race_date - date the race took place. YYYY-MM-DD.\n",
        "* race_number - Number of the race. Passed as 3 characters but can be cast or converted to int for this data set.\n",
        "* program_number - Program number of the horse in the race passed as 3 characters. Should remain 3 characters as it isn't limited to just numbers. Is essentially the unique identifier of the horse in the race.\n",
        "* weight_carried - An integer of the weight carried by the horse in the race.\n",
        "* jockey - Name of the jockey on the horse in the race. 50 character max.\n",
        "* odds - Odds to win the race passed as an integer. Divide by 100 to derive the odds to 1. Example - 1280 would be 12.8-1."
      ],
      "metadata": {
        "id": "cSrCo3-ixqq2"
      }
    },
    {
      "cell_type": "markdown",
      "source": [
        "### Inspect & fix datatypes"
      ],
      "metadata": {
        "id": "_Do2FlX3AyG2"
      }
    },
    {
      "cell_type": "code",
      "source": [
        "# Look at the column dtypes for the data\n",
        "nyra_start_df.dtypes"
      ],
      "metadata": {
        "colab": {
          "base_uri": "https://localhost:8080/"
        },
        "id": "clvYLFwHARbh",
        "outputId": "c0793784-0061-441a-fd4f-5edcc02b40da"
      },
      "execution_count": 6,
      "outputs": [
        {
          "output_type": "execute_result",
          "data": {
            "text/plain": [
              "track_id          object\n",
              "race_date         object\n",
              "race_number        int64\n",
              "program_number    object\n",
              "weight_carried     int64\n",
              "jockey            object\n",
              "odds               int64\n",
              "dtype: object"
            ]
          },
          "metadata": {},
          "execution_count": 6
        }
      ]
    },
    {
      "cell_type": "code",
      "source": [
        "# Assign proper datatypes wherever necessary\n",
        "# race_date as datetime col\n",
        "nyra_start_df['race_date'] = pd.to_datetime(nyra_start_df['race_date'])\n",
        "# race_number as a int/numeric col\n",
        "nyra_start_df['race_number'] = pd.to_numeric(nyra_start_df['race_number'])"
      ],
      "metadata": {
        "id": "VJvdfhNRxZJT"
      },
      "execution_count": 7,
      "outputs": []
    },
    {
      "cell_type": "markdown",
      "source": [
        "### Look at completeness of the df"
      ],
      "metadata": {
        "id": "VpfA_lg_zDF9"
      }
    },
    {
      "cell_type": "code",
      "source": [
        "# Look for nulls across columns\n",
        "nyra_start_df.isnull().sum()"
      ],
      "metadata": {
        "colab": {
          "base_uri": "https://localhost:8080/"
        },
        "id": "TecT9EIRzO8m",
        "outputId": "3092062d-985b-462f-88d7-f92eaa391ffb"
      },
      "execution_count": 8,
      "outputs": [
        {
          "output_type": "execute_result",
          "data": {
            "text/plain": [
              "track_id          0\n",
              "race_date         0\n",
              "race_number       0\n",
              "program_number    0\n",
              "weight_carried    0\n",
              "jockey            0\n",
              "odds              0\n",
              "dtype: int64"
            ]
          },
          "metadata": {},
          "execution_count": 8
        }
      ]
    },
    {
      "cell_type": "markdown",
      "source": [
        "### Look at the data volume\n",
        "* Min and max race dates\n",
        "* Number of races that took place\n",
        "* Distribution of those counts across race tracks\n",
        "* Number of unique jockeys\n",
        "* Number of unique horses competing\n",
        "* Distribution of races across horses"
      ],
      "metadata": {
        "id": "sLmZ1YYozVcQ"
      }
    },
    {
      "cell_type": "code",
      "source": [
        "# Time span for the race data\n",
        "min_race_date = np.min(nyra_start_df['race_date'])\n",
        "max_race_date = np.max(nyra_start_df['race_date'])\n",
        "\n",
        "print(f'Min race date - {min_race_date}\\nMax race date - {max_race_date}')"
      ],
      "metadata": {
        "colab": {
          "base_uri": "https://localhost:8080/"
        },
        "id": "plJGQrmQ3mMC",
        "outputId": "5f240f48-6a0d-4551-82a0-8b11d1a7d714"
      },
      "execution_count": 9,
      "outputs": [
        {
          "output_type": "stream",
          "name": "stdout",
          "text": [
            "Min race date - 2019-01-01 00:00:00\n",
            "Max race date - 2019-12-31 00:00:00\n"
          ]
        }
      ]
    },
    {
      "cell_type": "code",
      "source": [
        "# Number of races that took place\n",
        "# Grouping by track_id, race_date and counting unique race numbers\n",
        "temp = nyra_start_df.groupby(['track_id', 'race_date']).agg({'race_number':'nunique'}).reset_index()\n",
        "# print(temp.head(5))\n",
        "total_races = sum(temp['race_number'])\n",
        "print(f'Total # of races - {total_races}')"
      ],
      "metadata": {
        "colab": {
          "base_uri": "https://localhost:8080/"
        },
        "id": "RdMpznXb0LSE",
        "outputId": "816e5b5f-3821-42fe-ef1a-231fc0777aa3"
      },
      "execution_count": 10,
      "outputs": [
        {
          "output_type": "stream",
          "name": "stdout",
          "text": [
            "Total # of races - 2000\n"
          ]
        }
      ]
    },
    {
      "cell_type": "code",
      "source": [
        "# Number of unique jockeys\n",
        "temp = nyra_start_df['jockey'].nunique()\n",
        "print(f'Number of unique jockeys - {temp}')"
      ],
      "metadata": {
        "colab": {
          "base_uri": "https://localhost:8080/"
        },
        "id": "9v_A5lEj2YaE",
        "outputId": "bc232961-11ae-4daa-94e3-f299df370746"
      },
      "execution_count": 11,
      "outputs": [
        {
          "output_type": "stream",
          "name": "stdout",
          "text": [
            "Number of unique jockeys - 178\n"
          ]
        }
      ]
    },
    {
      "cell_type": "code",
      "source": [
        "# Number of unique horses (program)\n",
        "temp = nyra_start_df['program_number'].nunique()\n",
        "print(f'Number of unique horses - {temp}')"
      ],
      "metadata": {
        "colab": {
          "base_uri": "https://localhost:8080/"
        },
        "id": "ZRsX3RBL3D39",
        "outputId": "0f611e9a-12fc-40e5-e515-2b2d42c3d0fe"
      },
      "execution_count": 12,
      "outputs": [
        {
          "output_type": "stream",
          "name": "stdout",
          "text": [
            "Number of unique horses - 20\n"
          ]
        }
      ]
    },
    {
      "cell_type": "markdown",
      "source": [
        "### Race data across cuts\n",
        "* Venues\n",
        "* Horses\n",
        "* Jockeys"
      ],
      "metadata": {
        "id": "VJQZUHnM4Qxn"
      }
    },
    {
      "cell_type": "code",
      "source": [
        "# Distrbution of races across program_numbers (horses)\n",
        "temp = nyra_start_df.groupby(['track_id', 'race_date']).agg({'race_number':'nunique'}).reset_index()\n",
        "# Group by track_id and sum race_number to get counts across tracks\n",
        "temp = temp.groupby('track_id').agg({'race_number' : 'sum'}).reset_index()\n",
        "temp = temp.rename(columns = {'race_number' : 'race_count'})\n",
        "temp['percent_of_races'] = (temp['race_count'] / 2000) * 100\n",
        "temp"
      ],
      "metadata": {
        "colab": {
          "base_uri": "https://localhost:8080/",
          "height": 143
        },
        "id": "yCgi94Mc4F5K",
        "outputId": "68e4aece-6d43-4ccc-b0c2-118590d46c7c"
      },
      "execution_count": 13,
      "outputs": [
        {
          "output_type": "execute_result",
          "data": {
            "text/plain": [
              "  track_id  race_count  percent_of_races\n",
              "0      AQU         825             41.25\n",
              "1      BEL         772             38.60\n",
              "2      SAR         403             20.15"
            ],
            "text/html": [
              "\n",
              "  <div id=\"df-14e2d477-15e5-4c32-9f7d-9b1ba5213dfc\">\n",
              "    <div class=\"colab-df-container\">\n",
              "      <div>\n",
              "<style scoped>\n",
              "    .dataframe tbody tr th:only-of-type {\n",
              "        vertical-align: middle;\n",
              "    }\n",
              "\n",
              "    .dataframe tbody tr th {\n",
              "        vertical-align: top;\n",
              "    }\n",
              "\n",
              "    .dataframe thead th {\n",
              "        text-align: right;\n",
              "    }\n",
              "</style>\n",
              "<table border=\"1\" class=\"dataframe\">\n",
              "  <thead>\n",
              "    <tr style=\"text-align: right;\">\n",
              "      <th></th>\n",
              "      <th>track_id</th>\n",
              "      <th>race_count</th>\n",
              "      <th>percent_of_races</th>\n",
              "    </tr>\n",
              "  </thead>\n",
              "  <tbody>\n",
              "    <tr>\n",
              "      <th>0</th>\n",
              "      <td>AQU</td>\n",
              "      <td>825</td>\n",
              "      <td>41.25</td>\n",
              "    </tr>\n",
              "    <tr>\n",
              "      <th>1</th>\n",
              "      <td>BEL</td>\n",
              "      <td>772</td>\n",
              "      <td>38.60</td>\n",
              "    </tr>\n",
              "    <tr>\n",
              "      <th>2</th>\n",
              "      <td>SAR</td>\n",
              "      <td>403</td>\n",
              "      <td>20.15</td>\n",
              "    </tr>\n",
              "  </tbody>\n",
              "</table>\n",
              "</div>\n",
              "      <button class=\"colab-df-convert\" onclick=\"convertToInteractive('df-14e2d477-15e5-4c32-9f7d-9b1ba5213dfc')\"\n",
              "              title=\"Convert this dataframe to an interactive table.\"\n",
              "              style=\"display:none;\">\n",
              "        \n",
              "  <svg xmlns=\"http://www.w3.org/2000/svg\" height=\"24px\"viewBox=\"0 0 24 24\"\n",
              "       width=\"24px\">\n",
              "    <path d=\"M0 0h24v24H0V0z\" fill=\"none\"/>\n",
              "    <path d=\"M18.56 5.44l.94 2.06.94-2.06 2.06-.94-2.06-.94-.94-2.06-.94 2.06-2.06.94zm-11 1L8.5 8.5l.94-2.06 2.06-.94-2.06-.94L8.5 2.5l-.94 2.06-2.06.94zm10 10l.94 2.06.94-2.06 2.06-.94-2.06-.94-.94-2.06-.94 2.06-2.06.94z\"/><path d=\"M17.41 7.96l-1.37-1.37c-.4-.4-.92-.59-1.43-.59-.52 0-1.04.2-1.43.59L10.3 9.45l-7.72 7.72c-.78.78-.78 2.05 0 2.83L4 21.41c.39.39.9.59 1.41.59.51 0 1.02-.2 1.41-.59l7.78-7.78 2.81-2.81c.8-.78.8-2.07 0-2.86zM5.41 20L4 18.59l7.72-7.72 1.47 1.35L5.41 20z\"/>\n",
              "  </svg>\n",
              "      </button>\n",
              "      \n",
              "  <style>\n",
              "    .colab-df-container {\n",
              "      display:flex;\n",
              "      flex-wrap:wrap;\n",
              "      gap: 12px;\n",
              "    }\n",
              "\n",
              "    .colab-df-convert {\n",
              "      background-color: #E8F0FE;\n",
              "      border: none;\n",
              "      border-radius: 50%;\n",
              "      cursor: pointer;\n",
              "      display: none;\n",
              "      fill: #1967D2;\n",
              "      height: 32px;\n",
              "      padding: 0 0 0 0;\n",
              "      width: 32px;\n",
              "    }\n",
              "\n",
              "    .colab-df-convert:hover {\n",
              "      background-color: #E2EBFA;\n",
              "      box-shadow: 0px 1px 2px rgba(60, 64, 67, 0.3), 0px 1px 3px 1px rgba(60, 64, 67, 0.15);\n",
              "      fill: #174EA6;\n",
              "    }\n",
              "\n",
              "    [theme=dark] .colab-df-convert {\n",
              "      background-color: #3B4455;\n",
              "      fill: #D2E3FC;\n",
              "    }\n",
              "\n",
              "    [theme=dark] .colab-df-convert:hover {\n",
              "      background-color: #434B5C;\n",
              "      box-shadow: 0px 1px 3px 1px rgba(0, 0, 0, 0.15);\n",
              "      filter: drop-shadow(0px 1px 2px rgba(0, 0, 0, 0.3));\n",
              "      fill: #FFFFFF;\n",
              "    }\n",
              "  </style>\n",
              "\n",
              "      <script>\n",
              "        const buttonEl =\n",
              "          document.querySelector('#df-14e2d477-15e5-4c32-9f7d-9b1ba5213dfc button.colab-df-convert');\n",
              "        buttonEl.style.display =\n",
              "          google.colab.kernel.accessAllowed ? 'block' : 'none';\n",
              "\n",
              "        async function convertToInteractive(key) {\n",
              "          const element = document.querySelector('#df-14e2d477-15e5-4c32-9f7d-9b1ba5213dfc');\n",
              "          const dataTable =\n",
              "            await google.colab.kernel.invokeFunction('convertToInteractive',\n",
              "                                                     [key], {});\n",
              "          if (!dataTable) return;\n",
              "\n",
              "          const docLinkHtml = 'Like what you see? Visit the ' +\n",
              "            '<a target=\"_blank\" href=https://colab.research.google.com/notebooks/data_table.ipynb>data table notebook</a>'\n",
              "            + ' to learn more about interactive tables.';\n",
              "          element.innerHTML = '';\n",
              "          dataTable['output_type'] = 'display_data';\n",
              "          await google.colab.output.renderOutput(dataTable, element);\n",
              "          const docLink = document.createElement('div');\n",
              "          docLink.innerHTML = docLinkHtml;\n",
              "          element.appendChild(docLink);\n",
              "        }\n",
              "      </script>\n",
              "    </div>\n",
              "  </div>\n",
              "  "
            ]
          },
          "metadata": {},
          "execution_count": 13
        }
      ]
    },
    {
      "cell_type": "code",
      "source": [
        "# Distribution of races across horses\n",
        "temp = nyra_start_df.groupby(['program_number']).agg({'race_number':'count'}).reset_index()\n",
        "temp = temp.rename(columns = {'race_number' : 'race_count'})\n",
        "temp['percent_of_races'] = (temp['race_count'] / 2000) * 100\n",
        "temp"
      ],
      "metadata": {
        "colab": {
          "base_uri": "https://localhost:8080/",
          "height": 677
        },
        "id": "ROpTXdhw60Tw",
        "outputId": "10bfb3c6-94c6-44b0-a2ed-aad5e4bd6e37"
      },
      "execution_count": 14,
      "outputs": [
        {
          "output_type": "execute_result",
          "data": {
            "text/plain": [
              "   program_number  race_count  percent_of_races\n",
              "0             1          1708             85.40\n",
              "1             10          535             26.75\n",
              "2             11          333             16.65\n",
              "3             12          201             10.05\n",
              "4             13           77              3.85\n",
              "5             14           44              2.20\n",
              "6             15           24              1.20\n",
              "7             16           10              0.50\n",
              "8             1A          164              8.20\n",
              "9             1X            1              0.05\n",
              "10            2          1715             85.75\n",
              "11            2B           11              0.55\n",
              "12            3          1743             87.15\n",
              "13            3X            1              0.05\n",
              "14            4          1748             87.40\n",
              "15            5          1731             86.55\n",
              "16            6          1652             82.60\n",
              "17            7          1390             69.50\n",
              "18            8          1066             53.30\n",
              "19            9           761             38.05"
            ],
            "text/html": [
              "\n",
              "  <div id=\"df-3261b0a2-cdad-4ffa-81bb-8b4703411040\">\n",
              "    <div class=\"colab-df-container\">\n",
              "      <div>\n",
              "<style scoped>\n",
              "    .dataframe tbody tr th:only-of-type {\n",
              "        vertical-align: middle;\n",
              "    }\n",
              "\n",
              "    .dataframe tbody tr th {\n",
              "        vertical-align: top;\n",
              "    }\n",
              "\n",
              "    .dataframe thead th {\n",
              "        text-align: right;\n",
              "    }\n",
              "</style>\n",
              "<table border=\"1\" class=\"dataframe\">\n",
              "  <thead>\n",
              "    <tr style=\"text-align: right;\">\n",
              "      <th></th>\n",
              "      <th>program_number</th>\n",
              "      <th>race_count</th>\n",
              "      <th>percent_of_races</th>\n",
              "    </tr>\n",
              "  </thead>\n",
              "  <tbody>\n",
              "    <tr>\n",
              "      <th>0</th>\n",
              "      <td>1</td>\n",
              "      <td>1708</td>\n",
              "      <td>85.40</td>\n",
              "    </tr>\n",
              "    <tr>\n",
              "      <th>1</th>\n",
              "      <td>10</td>\n",
              "      <td>535</td>\n",
              "      <td>26.75</td>\n",
              "    </tr>\n",
              "    <tr>\n",
              "      <th>2</th>\n",
              "      <td>11</td>\n",
              "      <td>333</td>\n",
              "      <td>16.65</td>\n",
              "    </tr>\n",
              "    <tr>\n",
              "      <th>3</th>\n",
              "      <td>12</td>\n",
              "      <td>201</td>\n",
              "      <td>10.05</td>\n",
              "    </tr>\n",
              "    <tr>\n",
              "      <th>4</th>\n",
              "      <td>13</td>\n",
              "      <td>77</td>\n",
              "      <td>3.85</td>\n",
              "    </tr>\n",
              "    <tr>\n",
              "      <th>5</th>\n",
              "      <td>14</td>\n",
              "      <td>44</td>\n",
              "      <td>2.20</td>\n",
              "    </tr>\n",
              "    <tr>\n",
              "      <th>6</th>\n",
              "      <td>15</td>\n",
              "      <td>24</td>\n",
              "      <td>1.20</td>\n",
              "    </tr>\n",
              "    <tr>\n",
              "      <th>7</th>\n",
              "      <td>16</td>\n",
              "      <td>10</td>\n",
              "      <td>0.50</td>\n",
              "    </tr>\n",
              "    <tr>\n",
              "      <th>8</th>\n",
              "      <td>1A</td>\n",
              "      <td>164</td>\n",
              "      <td>8.20</td>\n",
              "    </tr>\n",
              "    <tr>\n",
              "      <th>9</th>\n",
              "      <td>1X</td>\n",
              "      <td>1</td>\n",
              "      <td>0.05</td>\n",
              "    </tr>\n",
              "    <tr>\n",
              "      <th>10</th>\n",
              "      <td>2</td>\n",
              "      <td>1715</td>\n",
              "      <td>85.75</td>\n",
              "    </tr>\n",
              "    <tr>\n",
              "      <th>11</th>\n",
              "      <td>2B</td>\n",
              "      <td>11</td>\n",
              "      <td>0.55</td>\n",
              "    </tr>\n",
              "    <tr>\n",
              "      <th>12</th>\n",
              "      <td>3</td>\n",
              "      <td>1743</td>\n",
              "      <td>87.15</td>\n",
              "    </tr>\n",
              "    <tr>\n",
              "      <th>13</th>\n",
              "      <td>3X</td>\n",
              "      <td>1</td>\n",
              "      <td>0.05</td>\n",
              "    </tr>\n",
              "    <tr>\n",
              "      <th>14</th>\n",
              "      <td>4</td>\n",
              "      <td>1748</td>\n",
              "      <td>87.40</td>\n",
              "    </tr>\n",
              "    <tr>\n",
              "      <th>15</th>\n",
              "      <td>5</td>\n",
              "      <td>1731</td>\n",
              "      <td>86.55</td>\n",
              "    </tr>\n",
              "    <tr>\n",
              "      <th>16</th>\n",
              "      <td>6</td>\n",
              "      <td>1652</td>\n",
              "      <td>82.60</td>\n",
              "    </tr>\n",
              "    <tr>\n",
              "      <th>17</th>\n",
              "      <td>7</td>\n",
              "      <td>1390</td>\n",
              "      <td>69.50</td>\n",
              "    </tr>\n",
              "    <tr>\n",
              "      <th>18</th>\n",
              "      <td>8</td>\n",
              "      <td>1066</td>\n",
              "      <td>53.30</td>\n",
              "    </tr>\n",
              "    <tr>\n",
              "      <th>19</th>\n",
              "      <td>9</td>\n",
              "      <td>761</td>\n",
              "      <td>38.05</td>\n",
              "    </tr>\n",
              "  </tbody>\n",
              "</table>\n",
              "</div>\n",
              "      <button class=\"colab-df-convert\" onclick=\"convertToInteractive('df-3261b0a2-cdad-4ffa-81bb-8b4703411040')\"\n",
              "              title=\"Convert this dataframe to an interactive table.\"\n",
              "              style=\"display:none;\">\n",
              "        \n",
              "  <svg xmlns=\"http://www.w3.org/2000/svg\" height=\"24px\"viewBox=\"0 0 24 24\"\n",
              "       width=\"24px\">\n",
              "    <path d=\"M0 0h24v24H0V0z\" fill=\"none\"/>\n",
              "    <path d=\"M18.56 5.44l.94 2.06.94-2.06 2.06-.94-2.06-.94-.94-2.06-.94 2.06-2.06.94zm-11 1L8.5 8.5l.94-2.06 2.06-.94-2.06-.94L8.5 2.5l-.94 2.06-2.06.94zm10 10l.94 2.06.94-2.06 2.06-.94-2.06-.94-.94-2.06-.94 2.06-2.06.94z\"/><path d=\"M17.41 7.96l-1.37-1.37c-.4-.4-.92-.59-1.43-.59-.52 0-1.04.2-1.43.59L10.3 9.45l-7.72 7.72c-.78.78-.78 2.05 0 2.83L4 21.41c.39.39.9.59 1.41.59.51 0 1.02-.2 1.41-.59l7.78-7.78 2.81-2.81c.8-.78.8-2.07 0-2.86zM5.41 20L4 18.59l7.72-7.72 1.47 1.35L5.41 20z\"/>\n",
              "  </svg>\n",
              "      </button>\n",
              "      \n",
              "  <style>\n",
              "    .colab-df-container {\n",
              "      display:flex;\n",
              "      flex-wrap:wrap;\n",
              "      gap: 12px;\n",
              "    }\n",
              "\n",
              "    .colab-df-convert {\n",
              "      background-color: #E8F0FE;\n",
              "      border: none;\n",
              "      border-radius: 50%;\n",
              "      cursor: pointer;\n",
              "      display: none;\n",
              "      fill: #1967D2;\n",
              "      height: 32px;\n",
              "      padding: 0 0 0 0;\n",
              "      width: 32px;\n",
              "    }\n",
              "\n",
              "    .colab-df-convert:hover {\n",
              "      background-color: #E2EBFA;\n",
              "      box-shadow: 0px 1px 2px rgba(60, 64, 67, 0.3), 0px 1px 3px 1px rgba(60, 64, 67, 0.15);\n",
              "      fill: #174EA6;\n",
              "    }\n",
              "\n",
              "    [theme=dark] .colab-df-convert {\n",
              "      background-color: #3B4455;\n",
              "      fill: #D2E3FC;\n",
              "    }\n",
              "\n",
              "    [theme=dark] .colab-df-convert:hover {\n",
              "      background-color: #434B5C;\n",
              "      box-shadow: 0px 1px 3px 1px rgba(0, 0, 0, 0.15);\n",
              "      filter: drop-shadow(0px 1px 2px rgba(0, 0, 0, 0.3));\n",
              "      fill: #FFFFFF;\n",
              "    }\n",
              "  </style>\n",
              "\n",
              "      <script>\n",
              "        const buttonEl =\n",
              "          document.querySelector('#df-3261b0a2-cdad-4ffa-81bb-8b4703411040 button.colab-df-convert');\n",
              "        buttonEl.style.display =\n",
              "          google.colab.kernel.accessAllowed ? 'block' : 'none';\n",
              "\n",
              "        async function convertToInteractive(key) {\n",
              "          const element = document.querySelector('#df-3261b0a2-cdad-4ffa-81bb-8b4703411040');\n",
              "          const dataTable =\n",
              "            await google.colab.kernel.invokeFunction('convertToInteractive',\n",
              "                                                     [key], {});\n",
              "          if (!dataTable) return;\n",
              "\n",
              "          const docLinkHtml = 'Like what you see? Visit the ' +\n",
              "            '<a target=\"_blank\" href=https://colab.research.google.com/notebooks/data_table.ipynb>data table notebook</a>'\n",
              "            + ' to learn more about interactive tables.';\n",
              "          element.innerHTML = '';\n",
              "          dataTable['output_type'] = 'display_data';\n",
              "          await google.colab.output.renderOutput(dataTable, element);\n",
              "          const docLink = document.createElement('div');\n",
              "          docLink.innerHTML = docLinkHtml;\n",
              "          element.appendChild(docLink);\n",
              "        }\n",
              "      </script>\n",
              "    </div>\n",
              "  </div>\n",
              "  "
            ]
          },
          "metadata": {},
          "execution_count": 14
        }
      ]
    },
    {
      "cell_type": "code",
      "source": [
        "# Distribution of races across jockeys\n",
        "temp = nyra_start_df.groupby(['jockey']).agg({'race_number':'count'}).reset_index()\n",
        "temp = temp.rename(columns = {'race_number' : 'race_count'})\n",
        "temp['percent_of_races'] = (temp['race_count'] / 2000) * 100\n",
        "# Sort by highest race count\n",
        "temp = temp.sort_values('race_count', axis = 0, ascending = False)\n",
        "temp"
      ],
      "metadata": {
        "colab": {
          "base_uri": "https://localhost:8080/",
          "height": 424
        },
        "id": "Xym0TzFp8-9z",
        "outputId": "6f71a5bf-f1cf-4106-aee8-00c8e16dd4c0"
      },
      "execution_count": 15,
      "outputs": [
        {
          "output_type": "execute_result",
          "data": {
            "text/plain": [
              "                   jockey  race_count  percent_of_races\n",
              "119         Manuel Franco        1274             63.70\n",
              "42            Dylan Davis        1108             55.40\n",
              "96           Jose Lezcano         990             49.50\n",
              "103       Junior Alvarado         852             42.60\n",
              "66         Irad Ortiz Jr.         802             40.10\n",
              "..                    ...         ...               ...\n",
              "35        Dana G. Whitney           1              0.05\n",
              "97     Jose R. Betancourt           1              0.05\n",
              "28   Christophe Soumillon           1              0.05\n",
              "25          Charlie Amaro           1              0.05\n",
              "177        Winston R. Kay           1              0.05\n",
              "\n",
              "[178 rows x 3 columns]"
            ],
            "text/html": [
              "\n",
              "  <div id=\"df-c9432d9b-0cad-43b3-9431-61a4aa29eba4\">\n",
              "    <div class=\"colab-df-container\">\n",
              "      <div>\n",
              "<style scoped>\n",
              "    .dataframe tbody tr th:only-of-type {\n",
              "        vertical-align: middle;\n",
              "    }\n",
              "\n",
              "    .dataframe tbody tr th {\n",
              "        vertical-align: top;\n",
              "    }\n",
              "\n",
              "    .dataframe thead th {\n",
              "        text-align: right;\n",
              "    }\n",
              "</style>\n",
              "<table border=\"1\" class=\"dataframe\">\n",
              "  <thead>\n",
              "    <tr style=\"text-align: right;\">\n",
              "      <th></th>\n",
              "      <th>jockey</th>\n",
              "      <th>race_count</th>\n",
              "      <th>percent_of_races</th>\n",
              "    </tr>\n",
              "  </thead>\n",
              "  <tbody>\n",
              "    <tr>\n",
              "      <th>119</th>\n",
              "      <td>Manuel Franco</td>\n",
              "      <td>1274</td>\n",
              "      <td>63.70</td>\n",
              "    </tr>\n",
              "    <tr>\n",
              "      <th>42</th>\n",
              "      <td>Dylan Davis</td>\n",
              "      <td>1108</td>\n",
              "      <td>55.40</td>\n",
              "    </tr>\n",
              "    <tr>\n",
              "      <th>96</th>\n",
              "      <td>Jose Lezcano</td>\n",
              "      <td>990</td>\n",
              "      <td>49.50</td>\n",
              "    </tr>\n",
              "    <tr>\n",
              "      <th>103</th>\n",
              "      <td>Junior Alvarado</td>\n",
              "      <td>852</td>\n",
              "      <td>42.60</td>\n",
              "    </tr>\n",
              "    <tr>\n",
              "      <th>66</th>\n",
              "      <td>Irad Ortiz Jr.</td>\n",
              "      <td>802</td>\n",
              "      <td>40.10</td>\n",
              "    </tr>\n",
              "    <tr>\n",
              "      <th>...</th>\n",
              "      <td>...</td>\n",
              "      <td>...</td>\n",
              "      <td>...</td>\n",
              "    </tr>\n",
              "    <tr>\n",
              "      <th>35</th>\n",
              "      <td>Dana G. Whitney</td>\n",
              "      <td>1</td>\n",
              "      <td>0.05</td>\n",
              "    </tr>\n",
              "    <tr>\n",
              "      <th>97</th>\n",
              "      <td>Jose R. Betancourt</td>\n",
              "      <td>1</td>\n",
              "      <td>0.05</td>\n",
              "    </tr>\n",
              "    <tr>\n",
              "      <th>28</th>\n",
              "      <td>Christophe Soumillon</td>\n",
              "      <td>1</td>\n",
              "      <td>0.05</td>\n",
              "    </tr>\n",
              "    <tr>\n",
              "      <th>25</th>\n",
              "      <td>Charlie Amaro</td>\n",
              "      <td>1</td>\n",
              "      <td>0.05</td>\n",
              "    </tr>\n",
              "    <tr>\n",
              "      <th>177</th>\n",
              "      <td>Winston R. Kay</td>\n",
              "      <td>1</td>\n",
              "      <td>0.05</td>\n",
              "    </tr>\n",
              "  </tbody>\n",
              "</table>\n",
              "<p>178 rows × 3 columns</p>\n",
              "</div>\n",
              "      <button class=\"colab-df-convert\" onclick=\"convertToInteractive('df-c9432d9b-0cad-43b3-9431-61a4aa29eba4')\"\n",
              "              title=\"Convert this dataframe to an interactive table.\"\n",
              "              style=\"display:none;\">\n",
              "        \n",
              "  <svg xmlns=\"http://www.w3.org/2000/svg\" height=\"24px\"viewBox=\"0 0 24 24\"\n",
              "       width=\"24px\">\n",
              "    <path d=\"M0 0h24v24H0V0z\" fill=\"none\"/>\n",
              "    <path d=\"M18.56 5.44l.94 2.06.94-2.06 2.06-.94-2.06-.94-.94-2.06-.94 2.06-2.06.94zm-11 1L8.5 8.5l.94-2.06 2.06-.94-2.06-.94L8.5 2.5l-.94 2.06-2.06.94zm10 10l.94 2.06.94-2.06 2.06-.94-2.06-.94-.94-2.06-.94 2.06-2.06.94z\"/><path d=\"M17.41 7.96l-1.37-1.37c-.4-.4-.92-.59-1.43-.59-.52 0-1.04.2-1.43.59L10.3 9.45l-7.72 7.72c-.78.78-.78 2.05 0 2.83L4 21.41c.39.39.9.59 1.41.59.51 0 1.02-.2 1.41-.59l7.78-7.78 2.81-2.81c.8-.78.8-2.07 0-2.86zM5.41 20L4 18.59l7.72-7.72 1.47 1.35L5.41 20z\"/>\n",
              "  </svg>\n",
              "      </button>\n",
              "      \n",
              "  <style>\n",
              "    .colab-df-container {\n",
              "      display:flex;\n",
              "      flex-wrap:wrap;\n",
              "      gap: 12px;\n",
              "    }\n",
              "\n",
              "    .colab-df-convert {\n",
              "      background-color: #E8F0FE;\n",
              "      border: none;\n",
              "      border-radius: 50%;\n",
              "      cursor: pointer;\n",
              "      display: none;\n",
              "      fill: #1967D2;\n",
              "      height: 32px;\n",
              "      padding: 0 0 0 0;\n",
              "      width: 32px;\n",
              "    }\n",
              "\n",
              "    .colab-df-convert:hover {\n",
              "      background-color: #E2EBFA;\n",
              "      box-shadow: 0px 1px 2px rgba(60, 64, 67, 0.3), 0px 1px 3px 1px rgba(60, 64, 67, 0.15);\n",
              "      fill: #174EA6;\n",
              "    }\n",
              "\n",
              "    [theme=dark] .colab-df-convert {\n",
              "      background-color: #3B4455;\n",
              "      fill: #D2E3FC;\n",
              "    }\n",
              "\n",
              "    [theme=dark] .colab-df-convert:hover {\n",
              "      background-color: #434B5C;\n",
              "      box-shadow: 0px 1px 3px 1px rgba(0, 0, 0, 0.15);\n",
              "      filter: drop-shadow(0px 1px 2px rgba(0, 0, 0, 0.3));\n",
              "      fill: #FFFFFF;\n",
              "    }\n",
              "  </style>\n",
              "\n",
              "      <script>\n",
              "        const buttonEl =\n",
              "          document.querySelector('#df-c9432d9b-0cad-43b3-9431-61a4aa29eba4 button.colab-df-convert');\n",
              "        buttonEl.style.display =\n",
              "          google.colab.kernel.accessAllowed ? 'block' : 'none';\n",
              "\n",
              "        async function convertToInteractive(key) {\n",
              "          const element = document.querySelector('#df-c9432d9b-0cad-43b3-9431-61a4aa29eba4');\n",
              "          const dataTable =\n",
              "            await google.colab.kernel.invokeFunction('convertToInteractive',\n",
              "                                                     [key], {});\n",
              "          if (!dataTable) return;\n",
              "\n",
              "          const docLinkHtml = 'Like what you see? Visit the ' +\n",
              "            '<a target=\"_blank\" href=https://colab.research.google.com/notebooks/data_table.ipynb>data table notebook</a>'\n",
              "            + ' to learn more about interactive tables.';\n",
              "          element.innerHTML = '';\n",
              "          dataTable['output_type'] = 'display_data';\n",
              "          await google.colab.output.renderOutput(dataTable, element);\n",
              "          const docLink = document.createElement('div');\n",
              "          docLink.innerHTML = docLinkHtml;\n",
              "          element.appendChild(docLink);\n",
              "        }\n",
              "      </script>\n",
              "    </div>\n",
              "  </div>\n",
              "  "
            ]
          },
          "metadata": {},
          "execution_count": 15
        }
      ]
    },
    {
      "cell_type": "markdown",
      "source": [
        "### Distribution of the weight carried "
      ],
      "metadata": {
        "id": "CCR_66Pm9W5W"
      }
    },
    {
      "cell_type": "code",
      "source": [
        "# Histogram for the weight carried\n",
        "plt.hist(nyra_start_df['weight_carried'], bins = 20)\n",
        "plt.xlabel('Weight carried')\n",
        "plt.ylabel('Freq')\n",
        "plt.title('Distribution of jockey weight')\n",
        "plt.show()"
      ],
      "metadata": {
        "colab": {
          "base_uri": "https://localhost:8080/",
          "height": 295
        },
        "id": "YoqM8U5m-UC2",
        "outputId": "63090305-df5e-4500-979d-97b1f2ce22fd"
      },
      "execution_count": 16,
      "outputs": [
        {
          "output_type": "display_data",
          "data": {
            "text/plain": [
              "<Figure size 432x288 with 1 Axes>"
            ],
            "image/png": "[encoded data removed]"
          },
          "metadata": {
            "needs_background": "light"
          }
        }
      ]
    },
    {
      "cell_type": "markdown",
      "source": [
        "### Exploring odds\n",
        "* Convert odds to 1 (divide by 100)\n",
        "* Distribution of odds\n",
        "* Weight carried vs odds\n",
        "* Horses having the highest avg odds\n",
        "* Jockeys having the highest avg odds"
      ],
      "metadata": {
        "id": "03Gv1OAs_MKS"
      }
    },
    {
      "cell_type": "code",
      "source": [
        "# Converting odds to out of 1\n",
        "nyra_start_df['odds_to_1'] = nyra_start_df['odds'] / 100\n",
        "plt.hist(nyra_start_df['odds_to_1'], bins = 20)\n",
        "plt.xlabel('Odds to 1')\n",
        "plt.ylabel('Freq')\n",
        "plt.title('Distribution of odds')"
      ],
      "metadata": {
        "colab": {
          "base_uri": "https://localhost:8080/",
          "height": 312
        },
        "id": "76jBaevp_fJV",
        "outputId": "0a586e2d-8e26-4a68-fb92-9c6887e9af07"
      },
      "execution_count": 17,
      "outputs": [
        {
          "output_type": "execute_result",
          "data": {
            "text/plain": [
              "Text(0.5, 1.0, 'Distribution of odds')"
            ]
          },
          "metadata": {},
          "execution_count": 17
        },
        {
          "output_type": "display_data",
          "data": {
            "text/plain": [
              "<Figure size 432x288 with 1 Axes>"
            ],
            "image/png": "[encoded data removed]"
          },
          "metadata": {
            "needs_background": "light"
          }
        }
      ]
    },
    {
      "cell_type": "code",
      "source": [
        "# Weight vs odds\n",
        "# Creating weight buckets\n",
        "nyra_start_df['weight_bins'] = pd.cut(nyra_start_df['weight_carried'],\n",
        "                                      bins = [110, 115, 117, 120, 125, 130, 140, 150, 160])\n",
        "# Convert weight_bins to str (for plotting purposes)\n",
        "nyra_start_df['weight_bins'] = nyra_start_df['weight_bins'].astype(str)\n",
        "# Get avg odds for jockey weight bins\n",
        "temp = nyra_start_df.groupby('weight_bins').agg({'odds_to_1':'mean', 'race_number':'count'}).reset_index()\n",
        "# View the df\n",
        "print(temp)\n",
        "\n",
        "# Plot weight_bins vs avg odds_to_1\n",
        "plt.plot(temp['weight_bins'][:5], temp['odds_to_1'][:5], 'o-')\n",
        "plt.xlabel('Jockey weight bins')\n",
        "plt.ylabel('Average odds to 1')\n",
        "plt.title('Avg odds vs jockey weight')\n",
        "plt.show()"
      ],
      "metadata": {
        "colab": {
          "base_uri": "https://localhost:8080/",
          "height": 469
        },
        "id": "Ct7VrQ5l_-N0",
        "outputId": "94c7ae05-3ba9-4671-fa85-2dd4ce2e115a"
      },
      "execution_count": 18,
      "outputs": [
        {
          "output_type": "stream",
          "name": "stdout",
          "text": [
            "  weight_bins  odds_to_1  race_number\n",
            "0  (110, 115]  28.397818          825\n",
            "1  (115, 117]  20.995287          679\n",
            "2  (117, 120]  14.367923         6740\n",
            "3  (120, 125]  13.067192         6253\n",
            "4  (125, 130]  11.974052          343\n",
            "5  (130, 140]   0.500000            1\n",
            "6  (140, 150]  15.173171           41\n",
            "7  (150, 160]   7.526562           32\n",
            "8         nan  60.000000            1\n"
          ]
        },
        {
          "output_type": "display_data",
          "data": {
            "text/plain": [
              "<Figure size 432x288 with 1 Axes>"
            ],
            "image/png": "[encoded data removed]"
          },
          "metadata": {
            "needs_background": "light"
          }
        }
      ]
    },
    {
      "cell_type": "code",
      "source": [
        "# Horses having highest avg odds\n",
        "temp = nyra_start_df.groupby('program_number').agg({'odds_to_1':'mean'}).reset_index()\n",
        "temp = temp.rename(columns = {'odds_to_1':'avg_odds'})\n",
        "temp = temp.sort_values('avg_odds', axis = 0, ascending = False)\n",
        "temp.head(10)"
      ],
      "metadata": {
        "colab": {
          "base_uri": "https://localhost:8080/",
          "height": 363
        },
        "id": "5UFvRfD2ATGq",
        "outputId": "1d55d5dc-0d7c-475a-c567-36e10198a5ce"
      },
      "execution_count": 19,
      "outputs": [
        {
          "output_type": "execute_result",
          "data": {
            "text/plain": [
              "   program_number   avg_odds\n",
              "4             13   22.370779\n",
              "3             12   21.719652\n",
              "5             14   20.964773\n",
              "6             15   20.452083\n",
              "1             10   20.425888\n",
              "2             11   19.639790\n",
              "9             1X   19.300000\n",
              "19            9    18.086137\n",
              "18            8    16.569231\n",
              "16            6    15.243523"
            ],
            "text/html": [
              "\n",
              "  <div id=\"df-c42b80a0-d6e1-4fad-a718-daf884a80cae\">\n",
              "    <div class=\"colab-df-container\">\n",
              "      <div>\n",
              "<style scoped>\n",
              "    .dataframe tbody tr th:only-of-type {\n",
              "        vertical-align: middle;\n",
              "    }\n",
              "\n",
              "    .dataframe tbody tr th {\n",
              "        vertical-align: top;\n",
              "    }\n",
              "\n",
              "    .dataframe thead th {\n",
              "        text-align: right;\n",
              "    }\n",
              "</style>\n",
              "<table border=\"1\" class=\"dataframe\">\n",
              "  <thead>\n",
              "    <tr style=\"text-align: right;\">\n",
              "      <th></th>\n",
              "      <th>program_number</th>\n",
              "      <th>avg_odds</th>\n",
              "    </tr>\n",
              "  </thead>\n",
              "  <tbody>\n",
              "    <tr>\n",
              "      <th>4</th>\n",
              "      <td>13</td>\n",
              "      <td>22.370779</td>\n",
              "    </tr>\n",
              "    <tr>\n",
              "      <th>3</th>\n",
              "      <td>12</td>\n",
              "      <td>21.719652</td>\n",
              "    </tr>\n",
              "    <tr>\n",
              "      <th>5</th>\n",
              "      <td>14</td>\n",
              "      <td>20.964773</td>\n",
              "    </tr>\n",
              "    <tr>\n",
              "      <th>6</th>\n",
              "      <td>15</td>\n",
              "      <td>20.452083</td>\n",
              "    </tr>\n",
              "    <tr>\n",
              "      <th>1</th>\n",
              "      <td>10</td>\n",
              "      <td>20.425888</td>\n",
              "    </tr>\n",
              "    <tr>\n",
              "      <th>2</th>\n",
              "      <td>11</td>\n",
              "      <td>19.639790</td>\n",
              "    </tr>\n",
              "    <tr>\n",
              "      <th>9</th>\n",
              "      <td>1X</td>\n",
              "      <td>19.300000</td>\n",
              "    </tr>\n",
              "    <tr>\n",
              "      <th>19</th>\n",
              "      <td>9</td>\n",
              "      <td>18.086137</td>\n",
              "    </tr>\n",
              "    <tr>\n",
              "      <th>18</th>\n",
              "      <td>8</td>\n",
              "      <td>16.569231</td>\n",
              "    </tr>\n",
              "    <tr>\n",
              "      <th>16</th>\n",
              "      <td>6</td>\n",
              "      <td>15.243523</td>\n",
              "    </tr>\n",
              "  </tbody>\n",
              "</table>\n",
              "</div>\n",
              "      <button class=\"colab-df-convert\" onclick=\"convertToInteractive('df-c42b80a0-d6e1-4fad-a718-daf884a80cae')\"\n",
              "              title=\"Convert this dataframe to an interactive table.\"\n",
              "              style=\"display:none;\">\n",
              "        \n",
              "  <svg xmlns=\"http://www.w3.org/2000/svg\" height=\"24px\"viewBox=\"0 0 24 24\"\n",
              "       width=\"24px\">\n",
              "    <path d=\"M0 0h24v24H0V0z\" fill=\"none\"/>\n",
              "    <path d=\"M18.56 5.44l.94 2.06.94-2.06 2.06-.94-2.06-.94-.94-2.06-.94 2.06-2.06.94zm-11 1L8.5 8.5l.94-2.06 2.06-.94-2.06-.94L8.5 2.5l-.94 2.06-2.06.94zm10 10l.94 2.06.94-2.06 2.06-.94-2.06-.94-.94-2.06-.94 2.06-2.06.94z\"/><path d=\"M17.41 7.96l-1.37-1.37c-.4-.4-.92-.59-1.43-.59-.52 0-1.04.2-1.43.59L10.3 9.45l-7.72 7.72c-.78.78-.78 2.05 0 2.83L4 21.41c.39.39.9.59 1.41.59.51 0 1.02-.2 1.41-.59l7.78-7.78 2.81-2.81c.8-.78.8-2.07 0-2.86zM5.41 20L4 18.59l7.72-7.72 1.47 1.35L5.41 20z\"/>\n",
              "  </svg>\n",
              "      </button>\n",
              "      \n",
              "  <style>\n",
              "    .colab-df-container {\n",
              "      display:flex;\n",
              "      flex-wrap:wrap;\n",
              "      gap: 12px;\n",
              "    }\n",
              "\n",
              "    .colab-df-convert {\n",
              "      background-color: #E8F0FE;\n",
              "      border: none;\n",
              "      border-radius: 50%;\n",
              "      cursor: pointer;\n",
              "      display: none;\n",
              "      fill: #1967D2;\n",
              "      height: 32px;\n",
              "      padding: 0 0 0 0;\n",
              "      width: 32px;\n",
              "    }\n",
              "\n",
              "    .colab-df-convert:hover {\n",
              "      background-color: #E2EBFA;\n",
              "      box-shadow: 0px 1px 2px rgba(60, 64, 67, 0.3), 0px 1px 3px 1px rgba(60, 64, 67, 0.15);\n",
              "      fill: #174EA6;\n",
              "    }\n",
              "\n",
              "    [theme=dark] .colab-df-convert {\n",
              "      background-color: #3B4455;\n",
              "      fill: #D2E3FC;\n",
              "    }\n",
              "\n",
              "    [theme=dark] .colab-df-convert:hover {\n",
              "      background-color: #434B5C;\n",
              "      box-shadow: 0px 1px 3px 1px rgba(0, 0, 0, 0.15);\n",
              "      filter: drop-shadow(0px 1px 2px rgba(0, 0, 0, 0.3));\n",
              "      fill: #FFFFFF;\n",
              "    }\n",
              "  </style>\n",
              "\n",
              "      <script>\n",
              "        const buttonEl =\n",
              "          document.querySelector('#df-c42b80a0-d6e1-4fad-a718-daf884a80cae button.colab-df-convert');\n",
              "        buttonEl.style.display =\n",
              "          google.colab.kernel.accessAllowed ? 'block' : 'none';\n",
              "\n",
              "        async function convertToInteractive(key) {\n",
              "          const element = document.querySelector('#df-c42b80a0-d6e1-4fad-a718-daf884a80cae');\n",
              "          const dataTable =\n",
              "            await google.colab.kernel.invokeFunction('convertToInteractive',\n",
              "                                                     [key], {});\n",
              "          if (!dataTable) return;\n",
              "\n",
              "          const docLinkHtml = 'Like what you see? Visit the ' +\n",
              "            '<a target=\"_blank\" href=https://colab.research.google.com/notebooks/data_table.ipynb>data table notebook</a>'\n",
              "            + ' to learn more about interactive tables.';\n",
              "          element.innerHTML = '';\n",
              "          dataTable['output_type'] = 'display_data';\n",
              "          await google.colab.output.renderOutput(dataTable, element);\n",
              "          const docLink = document.createElement('div');\n",
              "          docLink.innerHTML = docLinkHtml;\n",
              "          element.appendChild(docLink);\n",
              "        }\n",
              "      </script>\n",
              "    </div>\n",
              "  </div>\n",
              "  "
            ]
          },
          "metadata": {},
          "execution_count": 19
        }
      ]
    },
    {
      "cell_type": "code",
      "source": [
        "# Jockeys having highest avg odds\n",
        "temp = nyra_start_df.groupby('jockey').agg({'odds_to_1':'mean'}).reset_index()\n",
        "temp = temp.rename(columns = {'odds_to_1':'avg_odds'})\n",
        "temp = temp.sort_values('avg_odds', axis = 0, ascending = False)\n",
        "temp.head(10)"
      ],
      "metadata": {
        "colab": {
          "base_uri": "https://localhost:8080/",
          "height": 363
        },
        "id": "wNnjdMcCBiZO",
        "outputId": "121942c7-43c2-47cd-b7ec-7a119047b2c4"
      },
      "execution_count": 20,
      "outputs": [
        {
          "output_type": "execute_result",
          "data": {
            "text/plain": [
              "                       jockey   avg_odds\n",
              "58              Gavin Coetzee  84.000000\n",
              "122              Martin Chuan  78.000000\n",
              "143           Robbie G. Davis  74.625000\n",
              "159            Talbert Howell  73.589286\n",
              "10                 Angel Cruz  73.000000\n",
              "89             Jose A. Bracho  70.687500\n",
              "162            Tomas B. Mejia  69.850000\n",
              "32           Cristina Bonilla  67.150000\n",
              "112           Leonardo Corujo  64.062500\n",
              "27   Christian Santiago Reyes  61.125000"
            ],
            "text/html": [
              "\n",
              "  <div id=\"df-38ba3710-f2df-4b12-be0d-585856e283f8\">\n",
              "    <div class=\"colab-df-container\">\n",
              "      <div>\n",
              "<style scoped>\n",
              "    .dataframe tbody tr th:only-of-type {\n",
              "        vertical-align: middle;\n",
              "    }\n",
              "\n",
              "    .dataframe tbody tr th {\n",
              "        vertical-align: top;\n",
              "    }\n",
              "\n",
              "    .dataframe thead th {\n",
              "        text-align: right;\n",
              "    }\n",
              "</style>\n",
              "<table border=\"1\" class=\"dataframe\">\n",
              "  <thead>\n",
              "    <tr style=\"text-align: right;\">\n",
              "      <th></th>\n",
              "      <th>jockey</th>\n",
              "      <th>avg_odds</th>\n",
              "    </tr>\n",
              "  </thead>\n",
              "  <tbody>\n",
              "    <tr>\n",
              "      <th>58</th>\n",
              "      <td>Gavin Coetzee</td>\n",
              "      <td>84.000000</td>\n",
              "    </tr>\n",
              "    <tr>\n",
              "      <th>122</th>\n",
              "      <td>Martin Chuan</td>\n",
              "      <td>78.000000</td>\n",
              "    </tr>\n",
              "    <tr>\n",
              "      <th>143</th>\n",
              "      <td>Robbie G. Davis</td>\n",
              "      <td>74.625000</td>\n",
              "    </tr>\n",
              "    <tr>\n",
              "      <th>159</th>\n",
              "      <td>Talbert Howell</td>\n",
              "      <td>73.589286</td>\n",
              "    </tr>\n",
              "    <tr>\n",
              "      <th>10</th>\n",
              "      <td>Angel Cruz</td>\n",
              "      <td>73.000000</td>\n",
              "    </tr>\n",
              "    <tr>\n",
              "      <th>89</th>\n",
              "      <td>Jose A. Bracho</td>\n",
              "      <td>70.687500</td>\n",
              "    </tr>\n",
              "    <tr>\n",
              "      <th>162</th>\n",
              "      <td>Tomas B. Mejia</td>\n",
              "      <td>69.850000</td>\n",
              "    </tr>\n",
              "    <tr>\n",
              "      <th>32</th>\n",
              "      <td>Cristina Bonilla</td>\n",
              "      <td>67.150000</td>\n",
              "    </tr>\n",
              "    <tr>\n",
              "      <th>112</th>\n",
              "      <td>Leonardo Corujo</td>\n",
              "      <td>64.062500</td>\n",
              "    </tr>\n",
              "    <tr>\n",
              "      <th>27</th>\n",
              "      <td>Christian Santiago Reyes</td>\n",
              "      <td>61.125000</td>\n",
              "    </tr>\n",
              "  </tbody>\n",
              "</table>\n",
              "</div>\n",
              "      <button class=\"colab-df-convert\" onclick=\"convertToInteractive('df-38ba3710-f2df-4b12-be0d-585856e283f8')\"\n",
              "              title=\"Convert this dataframe to an interactive table.\"\n",
              "              style=\"display:none;\">\n",
              "        \n",
              "  <svg xmlns=\"http://www.w3.org/2000/svg\" height=\"24px\"viewBox=\"0 0 24 24\"\n",
              "       width=\"24px\">\n",
              "    <path d=\"M0 0h24v24H0V0z\" fill=\"none\"/>\n",
              "    <path d=\"M18.56 5.44l.94 2.06.94-2.06 2.06-.94-2.06-.94-.94-2.06-.94 2.06-2.06.94zm-11 1L8.5 8.5l.94-2.06 2.06-.94-2.06-.94L8.5 2.5l-.94 2.06-2.06.94zm10 10l.94 2.06.94-2.06 2.06-.94-2.06-.94-.94-2.06-.94 2.06-2.06.94z\"/><path d=\"M17.41 7.96l-1.37-1.37c-.4-.4-.92-.59-1.43-.59-.52 0-1.04.2-1.43.59L10.3 9.45l-7.72 7.72c-.78.78-.78 2.05 0 2.83L4 21.41c.39.39.9.59 1.41.59.51 0 1.02-.2 1.41-.59l7.78-7.78 2.81-2.81c.8-.78.8-2.07 0-2.86zM5.41 20L4 18.59l7.72-7.72 1.47 1.35L5.41 20z\"/>\n",
              "  </svg>\n",
              "      </button>\n",
              "      \n",
              "  <style>\n",
              "    .colab-df-container {\n",
              "      display:flex;\n",
              "      flex-wrap:wrap;\n",
              "      gap: 12px;\n",
              "    }\n",
              "\n",
              "    .colab-df-convert {\n",
              "      background-color: #E8F0FE;\n",
              "      border: none;\n",
              "      border-radius: 50%;\n",
              "      cursor: pointer;\n",
              "      display: none;\n",
              "      fill: #1967D2;\n",
              "      height: 32px;\n",
              "      padding: 0 0 0 0;\n",
              "      width: 32px;\n",
              "    }\n",
              "\n",
              "    .colab-df-convert:hover {\n",
              "      background-color: #E2EBFA;\n",
              "      box-shadow: 0px 1px 2px rgba(60, 64, 67, 0.3), 0px 1px 3px 1px rgba(60, 64, 67, 0.15);\n",
              "      fill: #174EA6;\n",
              "    }\n",
              "\n",
              "    [theme=dark] .colab-df-convert {\n",
              "      background-color: #3B4455;\n",
              "      fill: #D2E3FC;\n",
              "    }\n",
              "\n",
              "    [theme=dark] .colab-df-convert:hover {\n",
              "      background-color: #434B5C;\n",
              "      box-shadow: 0px 1px 3px 1px rgba(0, 0, 0, 0.15);\n",
              "      filter: drop-shadow(0px 1px 2px rgba(0, 0, 0, 0.3));\n",
              "      fill: #FFFFFF;\n",
              "    }\n",
              "  </style>\n",
              "\n",
              "      <script>\n",
              "        const buttonEl =\n",
              "          document.querySelector('#df-38ba3710-f2df-4b12-be0d-585856e283f8 button.colab-df-convert');\n",
              "        buttonEl.style.display =\n",
              "          google.colab.kernel.accessAllowed ? 'block' : 'none';\n",
              "\n",
              "        async function convertToInteractive(key) {\n",
              "          const element = document.querySelector('#df-38ba3710-f2df-4b12-be0d-585856e283f8');\n",
              "          const dataTable =\n",
              "            await google.colab.kernel.invokeFunction('convertToInteractive',\n",
              "                                                     [key], {});\n",
              "          if (!dataTable) return;\n",
              "\n",
              "          const docLinkHtml = 'Like what you see? Visit the ' +\n",
              "            '<a target=\"_blank\" href=https://colab.research.google.com/notebooks/data_table.ipynb>data table notebook</a>'\n",
              "            + ' to learn more about interactive tables.';\n",
              "          element.innerHTML = '';\n",
              "          dataTable['output_type'] = 'display_data';\n",
              "          await google.colab.output.renderOutput(dataTable, element);\n",
              "          const docLink = document.createElement('div');\n",
              "          docLink.innerHTML = docLinkHtml;\n",
              "          element.appendChild(docLink);\n",
              "        }\n",
              "      </script>\n",
              "    </div>\n",
              "  </div>\n",
              "  "
            ]
          },
          "metadata": {},
          "execution_count": 20
        }
      ]
    },
    {
      "cell_type": "markdown",
      "source": [
        "### Number of races per year for each horse"
      ],
      "metadata": {
        "id": "WLjidHKEl7U1"
      }
    },
    {
      "cell_type": "code",
      "source": [
        "# Groupby program_number and count the number of races each horse participated in\n",
        "temp = nyra_start_df.groupby('program_number').agg({'race_number':'count'}).reset_index()\n",
        "temp = temp.rename(columns = {'race_number' : 'race_count'})\n",
        "print(temp)\n",
        "\n",
        "# A look at the distribution\n",
        "plt.hist(temp['race_count'], bins = 20)\n",
        "plt.xlabel('Number of races per horse(2019)')\n",
        "plt.ylabel('Frequency')\n",
        "plt.title('Distribution of the # of races a horse participated in 2019')\n",
        "plt.show()"
      ],
      "metadata": {
        "colab": {
          "base_uri": "https://localhost:8080/",
          "height": 660
        },
        "id": "ISQ2mo2LmFAM",
        "outputId": "01f3f117-d108-4077-d852-7e7040c20783"
      },
      "execution_count": 29,
      "outputs": [
        {
          "output_type": "stream",
          "name": "stdout",
          "text": [
            "   program_number  race_count\n",
            "0             1          1708\n",
            "1             10          535\n",
            "2             11          333\n",
            "3             12          201\n",
            "4             13           77\n",
            "5             14           44\n",
            "6             15           24\n",
            "7             16           10\n",
            "8             1A          164\n",
            "9             1X            1\n",
            "10            2          1715\n",
            "11            2B           11\n",
            "12            3          1743\n",
            "13            3X            1\n",
            "14            4          1748\n",
            "15            5          1731\n",
            "16            6          1652\n",
            "17            7          1390\n",
            "18            8          1066\n",
            "19            9           761\n"
          ]
        },
        {
          "output_type": "display_data",
          "data": {
            "text/plain": [
              "<Figure size 432x288 with 1 Axes>"
            ],
            "image/png": "[encoded data removed]"
          },
          "metadata": {
            "needs_background": "light"
          }
        }
      ]
    },
    {
      "cell_type": "markdown",
      "source": [
        "### EDA summary for NYRA start table\n",
        "* Right off the bat we can see that there are a total of 2k races across 3 tracks AQU (48%), BEL (30%), SAR (20%) for 2019 (1 year's worth of race data)\n",
        "* There are 20 unique horses which means that are quite a few horses which participate in 1000+ races i.e. more than 3 races per day each day of 2019!\n",
        "* If there isn't proper spacing between these races it could lead to the horses being fatigued and hence affecting their performance on the track\n",
        "<br>\n",
        "<br>\n",
        "\n",
        "### **One direction to explore would be** - Does avg rest period between races for a horse translate to better performance/winning/top x finish?\n",
        "\n",
        "1. We can try to get at this question by using horse odds + avg rest features + weight carried to predict the probability that a horse will have a top x finish\n",
        "(use of the track data to get finish positions of horses for races)\n",
        "\n",
        "2. Another approach would be to get univariate plots of rest features vs avg speed for a horse across races (we can use the track data to extract this information)"
      ],
      "metadata": {
        "id": "J5jGTqJT2_XT"
      }
    },
    {
      "cell_type": "markdown",
      "source": [
        "## NYRA race table\n",
        "\n",
        "This table is again at a race level, it has the track_id, race_date and race_number to uniquely identify a race and join to the other 2 dfs\n",
        "\n",
        "Additonally it has race specific data like type of betting, time of day when the race started, course type and track condition"
      ],
      "metadata": {
        "id": "p_ebCGsdpwE8"
      }
    },
    {
      "cell_type": "code",
      "source": [
        "# Load the NYRA race data from the gdrive mount\n",
        "nyra_race_df = pd.read_csv('/content/drive/MyDrive/NYRA_Data/nyra_race_table.csv')\n",
        "# Shape of the dataframe\n",
        "print(f'Shape of the df - {nyra_race_df.shape}')\n",
        "# A look at the dataframe\n",
        "nyra_race_df.head(10)"
      ],
      "metadata": {
        "colab": {
          "base_uri": "https://localhost:8080/",
          "height": 380
        },
        "id": "sFoSs401qyAg",
        "outputId": "d94528c5-89b2-4d33-d0aa-8ded4884406a"
      },
      "execution_count": 30,
      "outputs": [
        {
          "output_type": "stream",
          "name": "stdout",
          "text": [
            "Shape of the df - (2000, 10)\n"
          ]
        },
        {
          "output_type": "execute_result",
          "data": {
            "text/plain": [
              "  track_id   race_date  race_number  distance_id course_type track_condition  \\\n",
              "0      AQU  2019-01-01            1          650           D             MY    \n",
              "1      AQU  2019-01-01            2          600           D             MY    \n",
              "2      AQU  2019-01-01            3          550           D             MY    \n",
              "3      AQU  2019-01-01            4          900           D             MY    \n",
              "4      AQU  2019-01-01            5          700           D             MY    \n",
              "5      AQU  2019-01-01            6          600           D             MY    \n",
              "6      AQU  2019-01-01            7          650           D             GD    \n",
              "7      AQU  2019-01-01            8          800           D             GD    \n",
              "8      AQU  2019-01-01            9          600           D             GD    \n",
              "9      AQU  2019-01-04            1          800           D             FT    \n",
              "\n",
              "   run_up_distance race_type   purse  post_time  \n",
              "0               36       AOC   80000       1220  \n",
              "1               48       MCL   41000       1250  \n",
              "2               54       MCL   35000        121  \n",
              "3              101       AOC   80000        150  \n",
              "4               60       ALW   64000        220  \n",
              "5               48       MCL   46000        251  \n",
              "6               36       AOC   67000        323  \n",
              "7               54       STK  150000        350  \n",
              "8               48       CLM   25000        420  \n",
              "9               54       MSW   68000       1250  "
            ],
            "text/html": [
              "\n",
              "  <div id=\"df-f13f6237-41d1-4ad1-949d-106cc6807fbd\">\n",
              "    <div class=\"colab-df-container\">\n",
              "      <div>\n",
              "<style scoped>\n",
              "    .dataframe tbody tr th:only-of-type {\n",
              "        vertical-align: middle;\n",
              "    }\n",
              "\n",
              "    .dataframe tbody tr th {\n",
              "        vertical-align: top;\n",
              "    }\n",
              "\n",
              "    .dataframe thead th {\n",
              "        text-align: right;\n",
              "    }\n",
              "</style>\n",
              "<table border=\"1\" class=\"dataframe\">\n",
              "  <thead>\n",
              "    <tr style=\"text-align: right;\">\n",
              "      <th></th>\n",
              "      <th>track_id</th>\n",
              "      <th>race_date</th>\n",
              "      <th>race_number</th>\n",
              "      <th>distance_id</th>\n",
              "      <th>course_type</th>\n",
              "      <th>track_condition</th>\n",
              "      <th>run_up_distance</th>\n",
              "      <th>race_type</th>\n",
              "      <th>purse</th>\n",
              "      <th>post_time</th>\n",
              "    </tr>\n",
              "  </thead>\n",
              "  <tbody>\n",
              "    <tr>\n",
              "      <th>0</th>\n",
              "      <td>AQU</td>\n",
              "      <td>2019-01-01</td>\n",
              "      <td>1</td>\n",
              "      <td>650</td>\n",
              "      <td>D</td>\n",
              "      <td>MY</td>\n",
              "      <td>36</td>\n",
              "      <td>AOC</td>\n",
              "      <td>80000</td>\n",
              "      <td>1220</td>\n",
              "    </tr>\n",
              "    <tr>\n",
              "      <th>1</th>\n",
              "      <td>AQU</td>\n",
              "      <td>2019-01-01</td>\n",
              "      <td>2</td>\n",
              "      <td>600</td>\n",
              "      <td>D</td>\n",
              "      <td>MY</td>\n",
              "      <td>48</td>\n",
              "      <td>MCL</td>\n",
              "      <td>41000</td>\n",
              "      <td>1250</td>\n",
              "    </tr>\n",
              "    <tr>\n",
              "      <th>2</th>\n",
              "      <td>AQU</td>\n",
              "      <td>2019-01-01</td>\n",
              "      <td>3</td>\n",
              "      <td>550</td>\n",
              "      <td>D</td>\n",
              "      <td>MY</td>\n",
              "      <td>54</td>\n",
              "      <td>MCL</td>\n",
              "      <td>35000</td>\n",
              "      <td>121</td>\n",
              "    </tr>\n",
              "    <tr>\n",
              "      <th>3</th>\n",
              "      <td>AQU</td>\n",
              "      <td>2019-01-01</td>\n",
              "      <td>4</td>\n",
              "      <td>900</td>\n",
              "      <td>D</td>\n",
              "      <td>MY</td>\n",
              "      <td>101</td>\n",
              "      <td>AOC</td>\n",
              "      <td>80000</td>\n",
              "      <td>150</td>\n",
              "    </tr>\n",
              "    <tr>\n",
              "      <th>4</th>\n",
              "      <td>AQU</td>\n",
              "      <td>2019-01-01</td>\n",
              "      <td>5</td>\n",
              "      <td>700</td>\n",
              "      <td>D</td>\n",
              "      <td>MY</td>\n",
              "      <td>60</td>\n",
              "      <td>ALW</td>\n",
              "      <td>64000</td>\n",
              "      <td>220</td>\n",
              "    </tr>\n",
              "    <tr>\n",
              "      <th>5</th>\n",
              "      <td>AQU</td>\n",
              "      <td>2019-01-01</td>\n",
              "      <td>6</td>\n",
              "      <td>600</td>\n",
              "      <td>D</td>\n",
              "      <td>MY</td>\n",
              "      <td>48</td>\n",
              "      <td>MCL</td>\n",
              "      <td>46000</td>\n",
              "      <td>251</td>\n",
              "    </tr>\n",
              "    <tr>\n",
              "      <th>6</th>\n",
              "      <td>AQU</td>\n",
              "      <td>2019-01-01</td>\n",
              "      <td>7</td>\n",
              "      <td>650</td>\n",
              "      <td>D</td>\n",
              "      <td>GD</td>\n",
              "      <td>36</td>\n",
              "      <td>AOC</td>\n",
              "      <td>67000</td>\n",
              "      <td>323</td>\n",
              "    </tr>\n",
              "    <tr>\n",
              "      <th>7</th>\n",
              "      <td>AQU</td>\n",
              "      <td>2019-01-01</td>\n",
              "      <td>8</td>\n",
              "      <td>800</td>\n",
              "      <td>D</td>\n",
              "      <td>GD</td>\n",
              "      <td>54</td>\n",
              "      <td>STK</td>\n",
              "      <td>150000</td>\n",
              "      <td>350</td>\n",
              "    </tr>\n",
              "    <tr>\n",
              "      <th>8</th>\n",
              "      <td>AQU</td>\n",
              "      <td>2019-01-01</td>\n",
              "      <td>9</td>\n",
              "      <td>600</td>\n",
              "      <td>D</td>\n",
              "      <td>GD</td>\n",
              "      <td>48</td>\n",
              "      <td>CLM</td>\n",
              "      <td>25000</td>\n",
              "      <td>420</td>\n",
              "    </tr>\n",
              "    <tr>\n",
              "      <th>9</th>\n",
              "      <td>AQU</td>\n",
              "      <td>2019-01-04</td>\n",
              "      <td>1</td>\n",
              "      <td>800</td>\n",
              "      <td>D</td>\n",
              "      <td>FT</td>\n",
              "      <td>54</td>\n",
              "      <td>MSW</td>\n",
              "      <td>68000</td>\n",
              "      <td>1250</td>\n",
              "    </tr>\n",
              "  </tbody>\n",
              "</table>\n",
              "</div>\n",
              "      <button class=\"colab-df-convert\" onclick=\"convertToInteractive('df-f13f6237-41d1-4ad1-949d-106cc6807fbd')\"\n",
              "              title=\"Convert this dataframe to an interactive table.\"\n",
              "              style=\"display:none;\">\n",
              "        \n",
              "  <svg xmlns=\"http://www.w3.org/2000/svg\" height=\"24px\"viewBox=\"0 0 24 24\"\n",
              "       width=\"24px\">\n",
              "    <path d=\"M0 0h24v24H0V0z\" fill=\"none\"/>\n",
              "    <path d=\"M18.56 5.44l.94 2.06.94-2.06 2.06-.94-2.06-.94-.94-2.06-.94 2.06-2.06.94zm-11 1L8.5 8.5l.94-2.06 2.06-.94-2.06-.94L8.5 2.5l-.94 2.06-2.06.94zm10 10l.94 2.06.94-2.06 2.06-.94-2.06-.94-.94-2.06-.94 2.06-2.06.94z\"/><path d=\"M17.41 7.96l-1.37-1.37c-.4-.4-.92-.59-1.43-.59-.52 0-1.04.2-1.43.59L10.3 9.45l-7.72 7.72c-.78.78-.78 2.05 0 2.83L4 21.41c.39.39.9.59 1.41.59.51 0 1.02-.2 1.41-.59l7.78-7.78 2.81-2.81c.8-.78.8-2.07 0-2.86zM5.41 20L4 18.59l7.72-7.72 1.47 1.35L5.41 20z\"/>\n",
              "  </svg>\n",
              "      </button>\n",
              "      \n",
              "  <style>\n",
              "    .colab-df-container {\n",
              "      display:flex;\n",
              "      flex-wrap:wrap;\n",
              "      gap: 12px;\n",
              "    }\n",
              "\n",
              "    .colab-df-convert {\n",
              "      background-color: #E8F0FE;\n",
              "      border: none;\n",
              "      border-radius: 50%;\n",
              "      cursor: pointer;\n",
              "      display: none;\n",
              "      fill: #1967D2;\n",
              "      height: 32px;\n",
              "      padding: 0 0 0 0;\n",
              "      width: 32px;\n",
              "    }\n",
              "\n",
              "    .colab-df-convert:hover {\n",
              "      background-color: #E2EBFA;\n",
              "      box-shadow: 0px 1px 2px rgba(60, 64, 67, 0.3), 0px 1px 3px 1px rgba(60, 64, 67, 0.15);\n",
              "      fill: #174EA6;\n",
              "    }\n",
              "\n",
              "    [theme=dark] .colab-df-convert {\n",
              "      background-color: #3B4455;\n",
              "      fill: #D2E3FC;\n",
              "    }\n",
              "\n",
              "    [theme=dark] .colab-df-convert:hover {\n",
              "      background-color: #434B5C;\n",
              "      box-shadow: 0px 1px 3px 1px rgba(0, 0, 0, 0.15);\n",
              "      filter: drop-shadow(0px 1px 2px rgba(0, 0, 0, 0.3));\n",
              "      fill: #FFFFFF;\n",
              "    }\n",
              "  </style>\n",
              "\n",
              "      <script>\n",
              "        const buttonEl =\n",
              "          document.querySelector('#df-f13f6237-41d1-4ad1-949d-106cc6807fbd button.colab-df-convert');\n",
              "        buttonEl.style.display =\n",
              "          google.colab.kernel.accessAllowed ? 'block' : 'none';\n",
              "\n",
              "        async function convertToInteractive(key) {\n",
              "          const element = document.querySelector('#df-f13f6237-41d1-4ad1-949d-106cc6807fbd');\n",
              "          const dataTable =\n",
              "            await google.colab.kernel.invokeFunction('convertToInteractive',\n",
              "                                                     [key], {});\n",
              "          if (!dataTable) return;\n",
              "\n",
              "          const docLinkHtml = 'Like what you see? Visit the ' +\n",
              "            '<a target=\"_blank\" href=https://colab.research.google.com/notebooks/data_table.ipynb>data table notebook</a>'\n",
              "            + ' to learn more about interactive tables.';\n",
              "          element.innerHTML = '';\n",
              "          dataTable['output_type'] = 'display_data';\n",
              "          await google.colab.output.renderOutput(dataTable, element);\n",
              "          const docLink = document.createElement('div');\n",
              "          docLink.innerHTML = docLinkHtml;\n",
              "          element.appendChild(docLink);\n",
              "        }\n",
              "      </script>\n",
              "    </div>\n",
              "  </div>\n",
              "  "
            ]
          },
          "metadata": {},
          "execution_count": 30
        }
      ]
    },
    {
      "cell_type": "markdown",
      "source": [
        "A row count of 2000 confirms the findings from our NYRA start dataframe EDA in terms of the number of races in the dataset"
      ],
      "metadata": {
        "id": "58KV-rCOrX97"
      }
    },
    {
      "cell_type": "markdown",
      "source": [
        "### Column descriptions\n",
        "\n",
        "Pulled from the Kaggle competition page\n",
        "\n",
        "* track_id - 3 character id for the track the race took place at. AQU -Aqueduct, BEL - Belmont, SAR - Saratoga.\n",
        "* race_date - date the race took place. YYYY-MM-DD.\n",
        "* race_number - Number of the race. Passed as 3 characters but can be cast or converted to int for this data set.\n",
        "* distance_id - Distance of the race in furlongs passed as an integer. Example - 600 would be 6 furlongs.\n",
        "* course_type - The course the race was run over passed as one character. M - Hurdle, D - Dirt, O - Outer turf, I - Inner turf, T - turf.\n",
        "* track_condition - The condition of the course the race was run on passed as three characters. YL - Yielding, FM - Firm, SY - Sloppy, GD - Good, FT - Fast, MY - Muddy, SF - Soft.\n",
        "* run_up_distance - Distance in feet of the gate to the start of the race passed as an integer.\n",
        "* race_type - The classification of the race passed as as five characters. STK - Stakes, WCL - Waiver Claiming, WMC - Waiver Maiden Claiming, SST - Starter Stakes, SHP - Starter Handicap, CLM - Claiming, STR - Starter Allowance, AOC - Allowance Optionl Claimer, SOC - Starter Optional Claimer, MCL - Maiden Claiming, ALW - Allowance, MSW - Maiden Special Weight.\n",
        "* purse - Purse in US dollars of the race passed as an money with two decimal places.\n",
        "* post_time - Time of day the race began passed as 5 character. Example - 01220 would be 12:20."
      ],
      "metadata": {
        "id": "W196cKigrkSy"
      }
    },
    {
      "cell_type": "markdown",
      "source": [
        "### Inspect and fix dtypes"
      ],
      "metadata": {
        "id": "Mz_l7h24sBva"
      }
    },
    {
      "cell_type": "code",
      "source": [
        "# Assign the right datatypes wherever necessary\n",
        "# race_date as a datetime col\n",
        "nyra_race_df['race_date'] = pd.to_datetime(nyra_race_df['race_date'])\n",
        "# post_time as a datetime col\n",
        "nyra_race_df['post_time'] = pd.to_datetime(nyra_race_df['post_time'], format= '%H%M').dt.time"
      ],
      "metadata": {
        "id": "hGKWIV3isHjH"
      },
      "execution_count": 50,
      "outputs": []
    },
    {
      "cell_type": "markdown",
      "source": [
        "### Look at the completeness of the dataframe\n"
      ],
      "metadata": {
        "id": "XkHvOmfptaJ9"
      }
    },
    {
      "cell_type": "code",
      "source": [
        "nyra_race_df.isnull().sum()"
      ],
      "metadata": {
        "colab": {
          "base_uri": "https://localhost:8080/"
        },
        "id": "M1ff8D9SthDN",
        "outputId": "783dd0bf-aa07-441f-f7d3-85aea26ab3a6"
      },
      "execution_count": 36,
      "outputs": [
        {
          "output_type": "execute_result",
          "data": {
            "text/plain": [
              "track_id           0\n",
              "race_date          0\n",
              "race_number        0\n",
              "distance_id        0\n",
              "course_type        0\n",
              "track_condition    0\n",
              "run_up_distance    0\n",
              "race_type          0\n",
              "purse              0\n",
              "post_time          0\n",
              "dtype: int64"
            ]
          },
          "metadata": {},
          "execution_count": 36
        }
      ]
    },
    {
      "cell_type": "markdown",
      "source": [
        "### Look at the distribution of the race characterics\n",
        "* distance_id\n",
        "* course_type\n",
        "* track_condition\n",
        "* run_up_distance\n",
        "* race_type\n",
        "* purse\n",
        "* post_time"
      ],
      "metadata": {
        "id": "6Ey_QyEbtw9R"
      }
    },
    {
      "cell_type": "code",
      "source": [
        "# Distance\n",
        "plt.hist(nyra_race_df['distance_id'] / 100, bins = 20)\n",
        "plt.xlabel('Distance in furlongs')\n",
        "plt.ylabel('Frequency')\n",
        "plt.title('Distribution of race distance')\n",
        "plt.plot()"
      ],
      "metadata": {
        "colab": {
          "base_uri": "https://localhost:8080/",
          "height": 312
        },
        "id": "M80e2nsuuJzC",
        "outputId": "a557f2d7-ea23-46c8-8064-137fa0980b32"
      },
      "execution_count": 38,
      "outputs": [
        {
          "output_type": "execute_result",
          "data": {
            "text/plain": [
              "[]"
            ]
          },
          "metadata": {},
          "execution_count": 38
        },
        {
          "output_type": "display_data",
          "data": {
            "text/plain": [
              "<Figure size 432x288 with 1 Axes>"
            ],
            "image/png": "[encoded data removed]"
          },
          "metadata": {
            "needs_background": "light"
          }
        }
      ]
    },
    {
      "cell_type": "code",
      "source": [
        "# Course type\n",
        "temp = nyra_race_df.groupby('course_type').agg({'race_number':'count'}).reset_index()\n",
        "temp = temp.rename(columns = {'race_number' : 'race_count'})\n",
        "temp['percent_of_race'] = temp['race_count'] / 2000 * 100\n",
        "print(temp)\n",
        "\n",
        "plt.bar(temp['course_type'], temp['race_count'])\n",
        "plt.xlabel('M - Hurdle, D - Dirt, O - Outer turf, I - Inner turf, T - turf')\n",
        "plt.ylabel('Frequency')\n",
        "plt.title('Distribution of race distance')\n",
        "plt.plot()"
      ],
      "metadata": {
        "colab": {
          "base_uri": "https://localhost:8080/",
          "height": 417
        },
        "id": "ILe5bBxmu09M",
        "outputId": "ba15c6d9-0919-4c09-8a9a-4280b8b26551"
      },
      "execution_count": 43,
      "outputs": [
        {
          "output_type": "stream",
          "name": "stdout",
          "text": [
            "  course_type  race_count  percent_of_race\n",
            "0           D        1351            67.55\n",
            "1           I         249            12.45\n",
            "2           M           9             0.45\n",
            "3           O          67             3.35\n",
            "4           T         324            16.20\n"
          ]
        },
        {
          "output_type": "execute_result",
          "data": {
            "text/plain": [
              "[]"
            ]
          },
          "metadata": {},
          "execution_count": 43
        },
        {
          "output_type": "display_data",
          "data": {
            "text/plain": [
              "<Figure size 432x288 with 1 Axes>"
            ],
            "image/png": "[encoded data removed]"
          },
          "metadata": {
            "needs_background": "light"
          }
        }
      ]
    },
    {
      "cell_type": "code",
      "source": [
        "# Track condition\n",
        "temp = nyra_race_df.groupby('track_condition').agg({'race_number':'count'}).reset_index()\n",
        "temp = temp.rename(columns = {'race_number' : 'race_count'})\n",
        "temp['percent_of_race'] = temp['race_count'] / 2000 * 100\n",
        "print(temp)\n",
        "\n",
        "plt.bar(temp['track_condition'], temp['race_count'])\n",
        "plt.xlabel('YL - Yielding, FM - Firm, SY - Sloppy, GD - Good, FT - Fast, MY - Muddy, SF - Soft')\n",
        "plt.ylabel('Frequency')\n",
        "plt.title('Distribution of race distance')\n",
        "plt.plot()"
      ],
      "metadata": {
        "colab": {
          "base_uri": "https://localhost:8080/",
          "height": 451
        },
        "id": "FPA_sCH0wDXP",
        "outputId": "93ab9102-e4b6-4b39-ce74-af2885f5a2b2"
      },
      "execution_count": 44,
      "outputs": [
        {
          "output_type": "stream",
          "name": "stdout",
          "text": [
            "  track_condition  race_count  percent_of_race\n",
            "0             FM          455            22.75\n",
            "1             FT          978            48.90\n",
            "2             GD          253            12.65\n",
            "3             MY           74             3.70\n",
            "4             SF            3             0.15\n",
            "5             SY          207            10.35\n",
            "6             YL           30             1.50\n"
          ]
        },
        {
          "output_type": "execute_result",
          "data": {
            "text/plain": [
              "[]"
            ]
          },
          "metadata": {},
          "execution_count": 44
        },
        {
          "output_type": "display_data",
          "data": {
            "text/plain": [
              "<Figure size 432x288 with 1 Axes>"
            ],
            "image/png": "[encoded data removed]"
          },
          "metadata": {
            "needs_background": "light"
          }
        }
      ]
    },
    {
      "cell_type": "code",
      "source": [
        "# Race type\n",
        "temp = nyra_race_df.groupby('race_type').agg({'race_number':'count'}).reset_index()\n",
        "temp = temp.rename(columns = {'race_number' : 'race_count'})\n",
        "temp['percent_of_race'] = temp['race_count'] / 2000 * 100\n",
        "print(temp)\n",
        "\n",
        "plt.bar(temp['race_type'], temp['race_count'])\n",
        "plt.xlabel('STK - Stakes, WCL - Waiver Claiming, WMC - Waiver Maiden Claiming, SST - Starter Stakes, SHP - Starter Handicap, CLM - Claiming, STR - Starter Allowance, AOC - Allowance Optionl Claimer, SOC - Starter Optional Claimer, MCL - Maiden Claiming, ALW - Allowance, MSW - Maiden Special Weight')\n",
        "plt.ylabel('Frequency')\n",
        "plt.title('Distribution of race distance')\n",
        "plt.plot()"
      ],
      "metadata": {
        "colab": {
          "base_uri": "https://localhost:8080/",
          "height": 538
        },
        "id": "rqduBJHIweTs",
        "outputId": "a24ed0e2-76ab-48ce-eb28-3fc90bb22e83"
      },
      "execution_count": 45,
      "outputs": [
        {
          "output_type": "stream",
          "name": "stdout",
          "text": [
            "   race_type  race_count  percent_of_race\n",
            "0        ALW         193             9.65\n",
            "1        AOC         229            11.45\n",
            "2        CLM         471            23.55\n",
            "3        MCL         325            16.25\n",
            "4        MSW         406            20.30\n",
            "5        SHP           2             0.10\n",
            "6        SOC          18             0.90\n",
            "7        SST          10             0.50\n",
            "8        STK         259            12.95\n",
            "9        STR          77             3.85\n",
            "10       WCL           9             0.45\n",
            "11       WMC           1             0.05\n"
          ]
        },
        {
          "output_type": "execute_result",
          "data": {
            "text/plain": [
              "[]"
            ]
          },
          "metadata": {},
          "execution_count": 45
        },
        {
          "output_type": "display_data",
          "data": {
            "text/plain": [
              "<Figure size 432x288 with 1 Axes>"
            ],
            "image/png": "[encoded data removed]"
          },
          "metadata": {
            "needs_background": "light"
          }
        }
      ]
    },
    {
      "cell_type": "code",
      "source": [
        "# Purse\n",
        "plt.hist(nyra_race_df['purse'], bins = 20)\n",
        "plt.xlabel('Race purse ($)')\n",
        "plt.ylabel('Frequency')\n",
        "plt.title('Distribution of race distance')\n",
        "plt.plot()"
      ],
      "metadata": {
        "colab": {
          "base_uri": "https://localhost:8080/",
          "height": 312
        },
        "id": "oAMUCNlaw1Gr",
        "outputId": "26fa8275-da46-4c40-a728-0c980555a526"
      },
      "execution_count": 47,
      "outputs": [
        {
          "output_type": "execute_result",
          "data": {
            "text/plain": [
              "[]"
            ]
          },
          "metadata": {},
          "execution_count": 47
        },
        {
          "output_type": "display_data",
          "data": {
            "text/plain": [
              "<Figure size 432x288 with 1 Axes>"
            ],
            "image/png": "[encoded data removed]"
          },
          "metadata": {
            "needs_background": "light"
          }
        }
      ]
    },
    {
      "cell_type": "code",
      "source": [
        "# Post time\n",
        "nyra_race_df['post_time'].describe()"
      ],
      "metadata": {
        "colab": {
          "base_uri": "https://localhost:8080/"
        },
        "id": "TquYJuI0xH1T",
        "outputId": "888a62dc-a2a9-40e5-f375-d597f1d5a486"
      },
      "execution_count": 53,
      "outputs": [
        {
          "output_type": "execute_result",
          "data": {
            "text/plain": [
              "count         2000\n",
              "unique         358\n",
              "top       13:00:00\n",
              "freq            46\n",
              "Name: post_time, dtype: object"
            ]
          },
          "metadata": {},
          "execution_count": 53
        }
      ]
    },
    {
      "cell_type": "markdown",
      "source": [
        "# End of notebook"
      ],
      "metadata": {
        "id": "GGn__zdP2bsF"
      }
    }
  ]
}